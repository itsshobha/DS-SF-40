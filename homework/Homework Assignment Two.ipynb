{
 "cells": [
  {
   "cell_type": "markdown",
   "metadata": {},
   "source": [
    "# Homework Assignment 2"
   ]
  },
  {
   "cell_type": "markdown",
   "metadata": {},
   "source": [
    "## Section 1: Admissions Dataset"
   ]
  },
  {
   "cell_type": "code",
   "execution_count": 54,
   "metadata": {
    "collapsed": true
   },
   "outputs": [],
   "source": [
    "#First round of imports\n",
    "\n",
    "import pandas as pd\n",
    "import numpy as np\n",
    "import matplotlib.pyplot as plt\n",
    "%matplotlib inline"
   ]
  },
  {
   "cell_type": "code",
   "execution_count": 14,
   "metadata": {
    "collapsed": false
   },
   "outputs": [
    {
     "data": {
      "text/html": [
       "<div>\n",
       "<table border=\"1\" class=\"dataframe\">\n",
       "  <thead>\n",
       "    <tr style=\"text-align: right;\">\n",
       "      <th></th>\n",
       "      <th>admit</th>\n",
       "      <th>gre</th>\n",
       "      <th>gpa</th>\n",
       "      <th>prestige</th>\n",
       "    </tr>\n",
       "  </thead>\n",
       "  <tbody>\n",
       "    <tr>\n",
       "      <th>0</th>\n",
       "      <td>0</td>\n",
       "      <td>380.0</td>\n",
       "      <td>3.61</td>\n",
       "      <td>3.0</td>\n",
       "    </tr>\n",
       "    <tr>\n",
       "      <th>1</th>\n",
       "      <td>1</td>\n",
       "      <td>660.0</td>\n",
       "      <td>3.67</td>\n",
       "      <td>3.0</td>\n",
       "    </tr>\n",
       "    <tr>\n",
       "      <th>2</th>\n",
       "      <td>1</td>\n",
       "      <td>800.0</td>\n",
       "      <td>4.00</td>\n",
       "      <td>1.0</td>\n",
       "    </tr>\n",
       "    <tr>\n",
       "      <th>3</th>\n",
       "      <td>1</td>\n",
       "      <td>640.0</td>\n",
       "      <td>3.19</td>\n",
       "      <td>4.0</td>\n",
       "    </tr>\n",
       "    <tr>\n",
       "      <th>4</th>\n",
       "      <td>0</td>\n",
       "      <td>520.0</td>\n",
       "      <td>2.93</td>\n",
       "      <td>4.0</td>\n",
       "    </tr>\n",
       "  </tbody>\n",
       "</table>\n",
       "</div>"
      ],
      "text/plain": [
       "   admit    gre   gpa  prestige\n",
       "0      0  380.0  3.61       3.0\n",
       "1      1  660.0  3.67       3.0\n",
       "2      1  800.0  4.00       1.0\n",
       "3      1  640.0  3.19       4.0\n",
       "4      0  520.0  2.93       4.0"
      ]
     },
     "execution_count": 14,
     "metadata": {},
     "output_type": "execute_result"
    }
   ],
   "source": [
    "#data\n",
    "admissions = pd.read_csv(\"../data/dataset-ucla-admissions.csv\")\n",
    "\n",
    "admissions.head()"
   ]
  },
  {
   "cell_type": "markdown",
   "metadata": {},
   "source": [
    "**Question 1:**\n",
    "\n",
    "What is the target/outcome variable? What are the features? Which features are continous or categorical? What is the null accuracy? If there are categorical variables, turn them into dummy variables and concatenate them with the data."
   ]
  },
  {
   "cell_type": "code",
   "execution_count": 3,
   "metadata": {
    "collapsed": false
   },
   "outputs": [
    {
     "name": "stdout",
     "output_type": "stream",
     "text": [
      "<class 'pandas.core.frame.DataFrame'>\n",
      "RangeIndex: 400 entries, 0 to 399\n",
      "Data columns (total 4 columns):\n",
      "admit       400 non-null int64\n",
      "gre         398 non-null float64\n",
      "gpa         398 non-null float64\n",
      "prestige    399 non-null float64\n",
      "dtypes: float64(3), int64(1)\n",
      "memory usage: 12.6 KB\n"
     ]
    }
   ],
   "source": [
    "admissions.info()"
   ]
  },
  {
   "cell_type": "code",
   "execution_count": 4,
   "metadata": {
    "collapsed": false
   },
   "outputs": [
    {
     "data": {
      "text/plain": [
       "(400, 4)"
      ]
     },
     "execution_count": 4,
     "metadata": {},
     "output_type": "execute_result"
    }
   ],
   "source": [
    "admissions.shape"
   ]
  },
  {
   "cell_type": "code",
   "execution_count": 6,
   "metadata": {
    "collapsed": false
   },
   "outputs": [
    {
     "data": {
      "text/plain": [
       "2.0    0.375940\n",
       "3.0    0.303258\n",
       "4.0    0.167920\n",
       "1.0    0.152882\n",
       "Name: prestige, dtype: float64"
      ]
     },
     "execution_count": 6,
     "metadata": {},
     "output_type": "execute_result"
    }
   ],
   "source": [
    "admissions.prestige.value_counts(normalize=True, ascending = False) "
   ]
  },
  {
   "cell_type": "code",
   "execution_count": 8,
   "metadata": {
    "collapsed": false
   },
   "outputs": [
    {
     "data": {
      "text/plain": [
       "4.00    0.070352\n",
       "3.31    0.020101\n",
       "3.15    0.017588\n",
       "3.45    0.017588\n",
       "3.35    0.017588\n",
       "3.40    0.017588\n",
       "2.98    0.015075\n",
       "3.63    0.015075\n",
       "3.77    0.012563\n",
       "3.94    0.012563\n",
       "3.95    0.012563\n",
       "3.46    0.012563\n",
       "3.17    0.012563\n",
       "3.64    0.012563\n",
       "3.33    0.012563\n",
       "3.58    0.012563\n",
       "3.19    0.012563\n",
       "3.51    0.012563\n",
       "3.59    0.012563\n",
       "2.93    0.012563\n",
       "3.43    0.012563\n",
       "3.13    0.012563\n",
       "3.38    0.012563\n",
       "3.22    0.012563\n",
       "3.34    0.012563\n",
       "3.02    0.010050\n",
       "3.07    0.010050\n",
       "3.67    0.010050\n",
       "3.30    0.010050\n",
       "3.08    0.010050\n",
       "          ...   \n",
       "2.76    0.002513\n",
       "2.95    0.002513\n",
       "3.85    0.002513\n",
       "3.41    0.002513\n",
       "3.93    0.002513\n",
       "2.87    0.002513\n",
       "3.11    0.002513\n",
       "3.97    0.002513\n",
       "3.83    0.002513\n",
       "3.09    0.002513\n",
       "2.48    0.002513\n",
       "2.69    0.002513\n",
       "2.88    0.002513\n",
       "2.65    0.002513\n",
       "3.91    0.002513\n",
       "2.56    0.002513\n",
       "3.42    0.002513\n",
       "3.87    0.002513\n",
       "2.52    0.002513\n",
       "2.63    0.002513\n",
       "3.82    0.002513\n",
       "3.03    0.002513\n",
       "2.84    0.002513\n",
       "2.83    0.002513\n",
       "3.98    0.002513\n",
       "3.66    0.002513\n",
       "2.26    0.002513\n",
       "3.18    0.002513\n",
       "2.68    0.002513\n",
       "2.73    0.002513\n",
       "Name: gpa, dtype: float64"
      ]
     },
     "execution_count": 8,
     "metadata": {},
     "output_type": "execute_result"
    }
   ],
   "source": [
    "admissions.gpa.value_counts(normalize=True, ascending = False) "
   ]
  },
  {
   "cell_type": "code",
   "execution_count": 9,
   "metadata": {
    "collapsed": true
   },
   "outputs": [],
   "source": [
    "# Target Variable is \"admit\"\n",
    "# gre, gpa and prestige are the features\n",
    "# gre and gpa are continuous. Prestige is categorical"
   ]
  },
  {
   "cell_type": "code",
   "execution_count": 5,
   "metadata": {
    "collapsed": false
   },
   "outputs": [
    {
     "data": {
      "text/plain": [
       "0    0.6825\n",
       "1    0.3175\n",
       "Name: admit, dtype: float64"
      ]
     },
     "execution_count": 5,
     "metadata": {},
     "output_type": "execute_result"
    }
   ],
   "source": [
    "# Computing NULL RATE\n",
    "\n",
    "admissions.admit.value_counts(normalize=True, ascending = False) "
   ]
  },
  {
   "cell_type": "code",
   "execution_count": null,
   "metadata": {
    "collapsed": true
   },
   "outputs": [],
   "source": [
    "#Null Rate is 68%"
   ]
  },
  {
   "cell_type": "code",
   "execution_count": 15,
   "metadata": {
    "collapsed": true
   },
   "outputs": [],
   "source": [
    "#Creating the dummy variable\n",
    "\n",
    "admit_dums = pd.get_dummies(admissions.prestige, prefix = \"prestige\", drop_first= True)"
   ]
  },
  {
   "cell_type": "code",
   "execution_count": 16,
   "metadata": {
    "collapsed": true
   },
   "outputs": [],
   "source": [
    "admissions.drop(\"prestige\",axis =1,inplace = True)"
   ]
  },
  {
   "cell_type": "code",
   "execution_count": 17,
   "metadata": {
    "collapsed": false
   },
   "outputs": [
    {
     "data": {
      "text/html": [
       "<div>\n",
       "<table border=\"1\" class=\"dataframe\">\n",
       "  <thead>\n",
       "    <tr style=\"text-align: right;\">\n",
       "      <th></th>\n",
       "      <th>admit</th>\n",
       "      <th>gre</th>\n",
       "      <th>gpa</th>\n",
       "      <th>prestige_2.0</th>\n",
       "      <th>prestige_3.0</th>\n",
       "      <th>prestige_4.0</th>\n",
       "    </tr>\n",
       "  </thead>\n",
       "  <tbody>\n",
       "    <tr>\n",
       "      <th>0</th>\n",
       "      <td>0</td>\n",
       "      <td>380.0</td>\n",
       "      <td>3.61</td>\n",
       "      <td>0.0</td>\n",
       "      <td>1.0</td>\n",
       "      <td>0.0</td>\n",
       "    </tr>\n",
       "    <tr>\n",
       "      <th>1</th>\n",
       "      <td>1</td>\n",
       "      <td>660.0</td>\n",
       "      <td>3.67</td>\n",
       "      <td>0.0</td>\n",
       "      <td>1.0</td>\n",
       "      <td>0.0</td>\n",
       "    </tr>\n",
       "    <tr>\n",
       "      <th>2</th>\n",
       "      <td>1</td>\n",
       "      <td>800.0</td>\n",
       "      <td>4.00</td>\n",
       "      <td>0.0</td>\n",
       "      <td>0.0</td>\n",
       "      <td>0.0</td>\n",
       "    </tr>\n",
       "    <tr>\n",
       "      <th>3</th>\n",
       "      <td>1</td>\n",
       "      <td>640.0</td>\n",
       "      <td>3.19</td>\n",
       "      <td>0.0</td>\n",
       "      <td>0.0</td>\n",
       "      <td>1.0</td>\n",
       "    </tr>\n",
       "    <tr>\n",
       "      <th>4</th>\n",
       "      <td>0</td>\n",
       "      <td>520.0</td>\n",
       "      <td>2.93</td>\n",
       "      <td>0.0</td>\n",
       "      <td>0.0</td>\n",
       "      <td>1.0</td>\n",
       "    </tr>\n",
       "  </tbody>\n",
       "</table>\n",
       "</div>"
      ],
      "text/plain": [
       "   admit    gre   gpa  prestige_2.0  prestige_3.0  prestige_4.0\n",
       "0      0  380.0  3.61           0.0           1.0           0.0\n",
       "1      1  660.0  3.67           0.0           1.0           0.0\n",
       "2      1  800.0  4.00           0.0           0.0           0.0\n",
       "3      1  640.0  3.19           0.0           0.0           1.0\n",
       "4      0  520.0  2.93           0.0           0.0           1.0"
      ]
     },
     "execution_count": 17,
     "metadata": {},
     "output_type": "execute_result"
    }
   ],
   "source": [
    "#2. Concatenate the admissions and prestige dataframes\n",
    "\n",
    "adm_df = pd.concat([admissions,admit_dums],axis = 1)\n",
    "#3. View new concatenated dataframe\n",
    "adm_df.head()"
   ]
  },
  {
   "cell_type": "code",
   "execution_count": null,
   "metadata": {
    "collapsed": true
   },
   "outputs": [],
   "source": []
  },
  {
   "cell_type": "markdown",
   "metadata": {},
   "source": [
    "**Question 2:**\n",
    "\n",
    "What do you think is the goal of using machine learning with this dataset."
   ]
  },
  {
   "cell_type": "code",
   "execution_count": null,
   "metadata": {
    "collapsed": true
   },
   "outputs": [],
   "source": [
    "#Goal is to use a student's gpa, gre and prestige to predict whether the he/she will get an admit or not"
   ]
  },
  {
   "cell_type": "markdown",
   "metadata": {},
   "source": [
    "**Question 3:** Make a scatter plot of gpa vs gre color-encoded using the admit feature. What does this graph tell you?"
   ]
  },
  {
   "cell_type": "code",
   "execution_count": 18,
   "metadata": {
    "collapsed": false
   },
   "outputs": [
    {
     "data": {
      "image/png": "[encoded data removed]",
      "text/plain": [
       "<matplotlib.figure.Figure at 0x1a2376c8e10>"
      ]
     },
     "metadata": {},
     "output_type": "display_data"
    }
   ],
   "source": [
    "#df = pd.DataFrame(data[0], columns=[\"feature_one\", \"feature_two\"])\n",
    "#df[\"target\"] = data[1]\n",
    "#assign red to class 0 and blue to class 1. For plotting purposes.\n",
    "colors = pd.Series(adm_df[\"admit\"]).map({0:\"red\", 1:\"blue\"})\n",
    "plt.figure(figsize=(15,11))\n",
    "plt.scatter(adm_df.gre, adm_df.gpa, c=colors, s=180, alpha = .6)\n",
    "plt.xlabel(\"gre\",)\n",
    "plt.ylabel(\"gpa\");"
   ]
  },
  {
   "cell_type": "code",
   "execution_count": null,
   "metadata": {
    "collapsed": true
   },
   "outputs": [],
   "source": [
    "# We learn the following from the graph\n",
    "# There is no clear association between gre, gpa values and admit. More information is needed to classify correctly\n",
    "# Graph shows that smaller % of students get admit"
   ]
  },
  {
   "cell_type": "code",
   "execution_count": null,
   "metadata": {
    "collapsed": true
   },
   "outputs": [],
   "source": []
  },
  {
   "cell_type": "code",
   "execution_count": null,
   "metadata": {
    "collapsed": true
   },
   "outputs": [],
   "source": []
  },
  {
   "cell_type": "markdown",
   "metadata": {},
   "source": [
    "**Question 4:** \n",
    "\n",
    "    - 1. Make a train test split using a quarter of the data for testing.\n",
    "    - 2. Fit a Logistic Regression model on the training data.\n",
    "    - 3. Evaluate the model on both the training and testing datasets using accuracy score.\n",
    "    - 4. Whats difference in the accuracy score of training and testing datasets? Is this evidence of overfitting?"
   ]
  },
  {
   "cell_type": "code",
   "execution_count": 3,
   "metadata": {
    "collapsed": true
   },
   "outputs": [],
   "source": [
    "from sklearn.cross_validation import train_test_split, cross_val_score\n",
    "from sklearn.metrics import accuracy_score, precision_score, recall_score, confusion_matrix, classification_report, roc_auc_score, roc_curve\n",
    "from sklearn.linear_model import LogisticRegression\n",
    "from sklearn.datasets import make_classification;"
   ]
  },
  {
   "cell_type": "code",
   "execution_count": 493,
   "metadata": {
    "collapsed": true
   },
   "outputs": [],
   "source": [
    "adm_df.dropna(inplace=True)"
   ]
  },
  {
   "cell_type": "code",
   "execution_count": 494,
   "metadata": {
    "collapsed": true
   },
   "outputs": [],
   "source": [
    "#Create X and y variables\n",
    "X = adm_df.drop(\"admit\", axis=1)\n",
    "y = adm_df.admit"
   ]
  },
  {
   "cell_type": "code",
   "execution_count": 495,
   "metadata": {
    "collapsed": false
   },
   "outputs": [
    {
     "name": "stdout",
     "output_type": "stream",
     "text": [
      "The model accurately classified 63.00 percent of the testing data\n"
     ]
    }
   ],
   "source": [
    "#Step 1\n",
    "X_train, X_test, y_train, y_test = train_test_split(X, y, \n",
    "                                                    test_size=0.25,\n",
    "                                                    random_state=42)\n",
    "#Step 2\n",
    "lr = LogisticRegression()\n",
    "lr.fit(X_train, y_train)\n",
    "\n",
    "#Step 3\n",
    "preds = lr.predict(X_test)\n",
    "\n",
    "#Step 4\n",
    "testing_score = accuracy_score(y_test, preds)\n",
    "\n",
    "print (\"The model accurately classified {:.2f} percent of the testing data\".format(testing_score*100))"
   ]
  },
  {
   "cell_type": "code",
   "execution_count": 496,
   "metadata": {
    "collapsed": false
   },
   "outputs": [
    {
     "name": "stdout",
     "output_type": "stream",
     "text": [
      "The cross validated accuracy score is 70.28 percent\n"
     ]
    }
   ],
   "source": [
    "#Use cross_val_score method to generate the average accuracy score for 5 CVs\n",
    "mean_cv_score = cross_val_score(LogisticRegression(), X,y, cv=5, scoring=\"accuracy\").mean()\n",
    "\n",
    "print ((\"The cross validated accuracy score is {:.2f} percent\").format(mean_cv_score*100))"
   ]
  },
  {
   "cell_type": "code",
   "execution_count": 127,
   "metadata": {
    "collapsed": false
   },
   "outputs": [
    {
     "data": {
      "text/plain": [
       "0.71380471380471378"
      ]
     },
     "execution_count": 127,
     "metadata": {},
     "output_type": "execute_result"
    }
   ],
   "source": [
    "lr.score(X_train,y_train)"
   ]
  },
  {
   "cell_type": "code",
   "execution_count": 128,
   "metadata": {
    "collapsed": false
   },
   "outputs": [
    {
     "data": {
      "text/plain": [
       "0.63"
      ]
     },
     "execution_count": 128,
     "metadata": {},
     "output_type": "execute_result"
    }
   ],
   "source": [
    "lr.score(X_test,y_test)"
   ]
  },
  {
   "cell_type": "code",
   "execution_count": 88,
   "metadata": {
    "collapsed": false
   },
   "outputs": [
    {
     "data": {
      "text/html": [
       "<div>\n",
       "<table border=\"1\" class=\"dataframe\">\n",
       "  <thead>\n",
       "    <tr style=\"text-align: right;\">\n",
       "      <th></th>\n",
       "      <th>gre</th>\n",
       "      <th>gpa</th>\n",
       "      <th>prestige_2.0</th>\n",
       "      <th>prestige_3.0</th>\n",
       "      <th>prestige_4.0</th>\n",
       "    </tr>\n",
       "  </thead>\n",
       "  <tbody>\n",
       "    <tr>\n",
       "      <th>16</th>\n",
       "      <td>780.0</td>\n",
       "      <td>3.87</td>\n",
       "      <td>0.0</td>\n",
       "      <td>0.0</td>\n",
       "      <td>1.0</td>\n",
       "    </tr>\n",
       "    <tr>\n",
       "      <th>66</th>\n",
       "      <td>740.0</td>\n",
       "      <td>3.62</td>\n",
       "      <td>0.0</td>\n",
       "      <td>0.0</td>\n",
       "      <td>1.0</td>\n",
       "    </tr>\n",
       "    <tr>\n",
       "      <th>382</th>\n",
       "      <td>540.0</td>\n",
       "      <td>3.51</td>\n",
       "      <td>1.0</td>\n",
       "      <td>0.0</td>\n",
       "      <td>0.0</td>\n",
       "    </tr>\n",
       "    <tr>\n",
       "      <th>7</th>\n",
       "      <td>400.0</td>\n",
       "      <td>3.08</td>\n",
       "      <td>1.0</td>\n",
       "      <td>0.0</td>\n",
       "      <td>0.0</td>\n",
       "    </tr>\n",
       "    <tr>\n",
       "      <th>19</th>\n",
       "      <td>540.0</td>\n",
       "      <td>3.81</td>\n",
       "      <td>0.0</td>\n",
       "      <td>0.0</td>\n",
       "      <td>0.0</td>\n",
       "    </tr>\n",
       "  </tbody>\n",
       "</table>\n",
       "</div>"
      ],
      "text/plain": [
       "       gre   gpa  prestige_2.0  prestige_3.0  prestige_4.0\n",
       "16   780.0  3.87           0.0           0.0           1.0\n",
       "66   740.0  3.62           0.0           0.0           1.0\n",
       "382  540.0  3.51           1.0           0.0           0.0\n",
       "7    400.0  3.08           1.0           0.0           0.0\n",
       "19   540.0  3.81           0.0           0.0           0.0"
      ]
     },
     "execution_count": 88,
     "metadata": {},
     "output_type": "execute_result"
    }
   ],
   "source": [
    "X_train.head()"
   ]
  },
  {
   "cell_type": "code",
   "execution_count": 130,
   "metadata": {
    "collapsed": false
   },
   "outputs": [
    {
     "data": {
      "text/plain": [
       "array([ 0.26644114,  0.24417049,  0.35336842,  0.27758115,  0.44369945,\n",
       "        0.38793488,  0.52724771,  0.37263014,  0.20961792,  0.16743699,\n",
       "        0.58535805,  0.4661756 ,  0.27907843,  0.38273112,  0.49196442,\n",
       "        0.5614703 ,  0.22703979,  0.33761676,  0.17679126,  0.3232156 ,\n",
       "        0.13118928,  0.19675199,  0.46018272,  0.46645758,  0.43844144,\n",
       "        0.27941298,  0.27218971,  0.17165185,  0.26037679,  0.1725772 ,\n",
       "        0.23750356,  0.23843035,  0.38859375,  0.13171071,  0.50242047,\n",
       "        0.1508915 ,  0.22660029,  0.41661742,  0.34214382,  0.44659011,\n",
       "        0.46775431,  0.42964595,  0.1734028 ,  0.3816569 ,  0.36550979,\n",
       "        0.17794062,  0.13771684,  0.53422794,  0.25094442,  0.42752916,\n",
       "        0.12087657,  0.20553448,  0.57806963,  0.27818029,  0.21603902,\n",
       "        0.20917624,  0.37935237,  0.47781735,  0.43328051,  0.18914359,\n",
       "        0.35814018,  0.43427737,  0.19531241,  0.42885044,  0.18352318,\n",
       "        0.32122075,  0.19034494,  0.16365659,  0.49916459,  0.57775195,\n",
       "        0.17659922,  0.20512556,  0.21155298,  0.10418691,  0.32664366,\n",
       "        0.44148776,  0.46079218,  0.21200129,  0.18128566,  0.18285192,\n",
       "        0.18032117,  0.46921143,  0.26769647,  0.23303706,  0.36114358,\n",
       "        0.49184176,  0.13060987,  0.17017548,  0.32179281,  0.57138508,\n",
       "        0.37705743,  0.18955854,  0.14579575,  0.42418782,  0.19016223,\n",
       "        0.43844144,  0.21759006,  0.36324958,  0.18814961,  0.30333159,\n",
       "        0.37263428,  0.15933719,  0.14385798,  0.32335613,  0.37411822,\n",
       "        0.19633787,  0.48939848,  0.26363481,  0.13785985,  0.12359357,\n",
       "        0.37350437,  0.29676728,  0.44068727,  0.47083794,  0.20789696,\n",
       "        0.30003546,  0.2565064 ,  0.358253  ,  0.3665655 ,  0.17332489,\n",
       "        0.17529173,  0.23268967,  0.29696032,  0.22385903,  0.21825293,\n",
       "        0.58630603,  0.30146802,  0.23973829,  0.14814754,  0.33907851,\n",
       "        0.47927759,  0.35054851,  0.3729388 ,  0.39511114,  0.36777595,\n",
       "        0.42200393,  0.37126729,  0.19014704,  0.24706623,  0.23247166,\n",
       "        0.27588502,  0.4167324 ,  0.12087845,  0.36144411,  0.31416717,\n",
       "        0.24128299,  0.39666851,  0.17850099,  0.29731116,  0.14857026,\n",
       "        0.24596098,  0.41581984,  0.23129741,  0.38535186,  0.30346735,\n",
       "        0.32836078,  0.31352876,  0.20906708,  0.26757057,  0.56563891,\n",
       "        0.27679834,  0.4664953 ,  0.15681438,  0.20715168,  0.42673464,\n",
       "        0.41724632,  0.30132904,  0.40762289,  0.13841322,  0.38396258,\n",
       "        0.26515113,  0.18402238,  0.2244237 ,  0.36717051,  0.35277347,\n",
       "        0.4904975 ,  0.23879009,  0.35645847,  0.15639387,  0.41250836,\n",
       "        0.21079514,  0.13517432,  0.32264609,  0.17754811,  0.22967734,\n",
       "        0.1858712 ,  0.41392293,  0.39709772,  0.17510354,  0.15156016,\n",
       "        0.21869767,  0.41693399,  0.36354677,  0.42629605,  0.1708214 ,\n",
       "        0.16916759,  0.27693049,  0.23879009,  0.46276757,  0.43555766,\n",
       "        0.15596594,  0.38952243,  0.23985538,  0.18805151,  0.34390481,\n",
       "        0.19757379,  0.22488048,  0.43860396,  0.53422794,  0.33383706,\n",
       "        0.33094704,  0.16373344,  0.17745175,  0.37671183,  0.21059202,\n",
       "        0.32965262,  0.25823338,  0.19286787,  0.38442687,  0.35307089,\n",
       "        0.43968277,  0.24177498,  0.47152031,  0.16687687,  0.42323379,\n",
       "        0.42868878,  0.53422794,  0.40275988,  0.18293581,  0.36550979,\n",
       "        0.30325181,  0.25009023,  0.18695891,  0.43747535,  0.41598018,\n",
       "        0.24765568,  0.1540788 ,  0.21276229,  0.54037524,  0.33308167,\n",
       "        0.1736037 ,  0.53309134,  0.16871171,  0.23821184,  0.22408539,\n",
       "        0.41910635,  0.42025558,  0.15864299,  0.51083739,  0.17926878,\n",
       "        0.14013052,  0.24571952,  0.40041469,  0.34640488,  0.15888955,\n",
       "        0.51311963,  0.15223126,  0.41819664,  0.23973506,  0.24439598,\n",
       "        0.16117865,  0.38534767,  0.29149289,  0.34995171,  0.22363283,\n",
       "        0.29271023,  0.12862339,  0.38181268,  0.14972717,  0.23233948,\n",
       "        0.41709015,  0.25089133,  0.37126316,  0.40166178,  0.24199897,\n",
       "        0.43327616,  0.37797558,  0.41092688,  0.41835724,  0.53292705,\n",
       "        0.38242348,  0.28548367,  0.41187297,  0.15340103,  0.17832455,\n",
       "        0.3819643 ,  0.20521711,  0.31694344,  0.30140481,  0.22979727,\n",
       "        0.18022626,  0.32965653,  0.10413453,  0.51994501,  0.4909835 ,\n",
       "        0.22669869,  0.12681274])"
      ]
     },
     "execution_count": 130,
     "metadata": {},
     "output_type": "execute_result"
    }
   ],
   "source": [
    "test_probs = lr.predict_proba(X_train)[:,1]\n",
    "test_probs"
   ]
  },
  {
   "cell_type": "code",
   "execution_count": null,
   "metadata": {
    "collapsed": true
   },
   "outputs": [],
   "source": []
  },
  {
   "cell_type": "code",
   "execution_count": null,
   "metadata": {
    "collapsed": true
   },
   "outputs": [],
   "source": [
    "#Lower accuracy score on test, but higher on training dataset suggests overfitting"
   ]
  },
  {
   "cell_type": "markdown",
   "metadata": {},
   "source": [
    "**Question 5:** Use grid search to determine the K-Neigbors values in a KNN model trained on this dataset and to determine the best max_depth value in a Decision Tree model as well. Which model is better? Use roc_auc as your evaluation metric."
   ]
  },
  {
   "cell_type": "code",
   "execution_count": 4,
   "metadata": {
    "collapsed": true
   },
   "outputs": [],
   "source": [
    "from sklearn.datasets import make_classification\n",
    "from sklearn.neighbors import KNeighborsClassifier\n",
    "from sklearn.grid_search import GridSearchCV"
   ]
  },
  {
   "cell_type": "code",
   "execution_count": 32,
   "metadata": {
    "collapsed": true
   },
   "outputs": [],
   "source": [
    "#********************************** KNN MODEL----------------------"
   ]
  },
  {
   "cell_type": "code",
   "execution_count": 51,
   "metadata": {
    "collapsed": false
   },
   "outputs": [
    {
     "data": {
      "text/plain": [
       "{'n_neighbors': [1,\n",
       "  3,\n",
       "  5,\n",
       "  7,\n",
       "  9,\n",
       "  11,\n",
       "  13,\n",
       "  15,\n",
       "  17,\n",
       "  19,\n",
       "  21,\n",
       "  23,\n",
       "  25,\n",
       "  27,\n",
       "  29,\n",
       "  31,\n",
       "  33,\n",
       "  35,\n",
       "  37,\n",
       "  39]}"
      ]
     },
     "execution_count": 51,
     "metadata": {},
     "output_type": "execute_result"
    }
   ],
   "source": [
    "#Intialize parameter grid\n",
    "\n",
    "#Range of neighbors to test\n",
    "neighbors_range = list(range(1, 41, 2))\n",
    "\n",
    "#Dictionary of parameter values \n",
    "param_grid_knn = {}\n",
    "param_grid_knn[\"n_neighbors\"] = neighbors_range\n",
    "\n",
    "param_grid_knn"
   ]
  },
  {
   "cell_type": "code",
   "execution_count": 52,
   "metadata": {
    "collapsed": false
   },
   "outputs": [
    {
     "data": {
      "text/plain": [
       "GridSearchCV(cv=5, error_score='raise',\n",
       "       estimator=KNeighborsClassifier(algorithm='auto', leaf_size=30, metric='minkowski',\n",
       "           metric_params=None, n_jobs=1, n_neighbors=5, p=2,\n",
       "           weights='uniform'),\n",
       "       fit_params={}, iid=True, n_jobs=1,\n",
       "       param_grid={'n_neighbors': [1, 3, 5, 7, 9, 11, 13, 15, 17, 19, 21, 23, 25, 27, 29, 31, 33, 35, 37, 39]},\n",
       "       pre_dispatch='2*n_jobs', refit=True, scoring='accuracy', verbose=0)"
      ]
     },
     "execution_count": 52,
     "metadata": {},
     "output_type": "execute_result"
    }
   ],
   "source": [
    "#Intialize Grid\n",
    "\n",
    "grid_knn = GridSearchCV(estimator = KNeighborsClassifier(), \n",
    "                        param_grid = param_grid_knn, cv = 5, scoring = \"accuracy\")\n",
    "\n",
    "#Fit grid on data\n",
    "\n",
    "grid_knn.fit(X, y)"
   ]
  },
  {
   "cell_type": "code",
   "execution_count": 53,
   "metadata": {
    "collapsed": false
   },
   "outputs": [
    {
     "data": {
      "text/plain": [
       "[mean: 0.63476, std: 0.05644, params: {'n_neighbors': 1},\n",
       " mean: 0.64484, std: 0.06267, params: {'n_neighbors': 3},\n",
       " mean: 0.64987, std: 0.03396, params: {'n_neighbors': 5},\n",
       " mean: 0.66499, std: 0.03594, params: {'n_neighbors': 7},\n",
       " mean: 0.67254, std: 0.05082, params: {'n_neighbors': 9},\n",
       " mean: 0.65743, std: 0.04826, params: {'n_neighbors': 11},\n",
       " mean: 0.66751, std: 0.04540, params: {'n_neighbors': 13},\n",
       " mean: 0.67254, std: 0.06035, params: {'n_neighbors': 15},\n",
       " mean: 0.67003, std: 0.04187, params: {'n_neighbors': 17},\n",
       " mean: 0.67506, std: 0.03113, params: {'n_neighbors': 19},\n",
       " mean: 0.68010, std: 0.03005, params: {'n_neighbors': 21},\n",
       " mean: 0.67758, std: 0.03321, params: {'n_neighbors': 23},\n",
       " mean: 0.67758, std: 0.02282, params: {'n_neighbors': 25},\n",
       " mean: 0.68262, std: 0.02748, params: {'n_neighbors': 27},\n",
       " mean: 0.68262, std: 0.02802, params: {'n_neighbors': 29},\n",
       " mean: 0.68262, std: 0.02802, params: {'n_neighbors': 31},\n",
       " mean: 0.67506, std: 0.01969, params: {'n_neighbors': 33},\n",
       " mean: 0.67254, std: 0.01819, params: {'n_neighbors': 35},\n",
       " mean: 0.67254, std: 0.01819, params: {'n_neighbors': 37},\n",
       " mean: 0.67003, std: 0.01539, params: {'n_neighbors': 39}]"
      ]
     },
     "execution_count": 53,
     "metadata": {},
     "output_type": "execute_result"
    }
   ],
   "source": [
    "grid_knn.grid_scores_"
   ]
  },
  {
   "cell_type": "code",
   "execution_count": 54,
   "metadata": {
    "collapsed": false
   },
   "outputs": [
    {
     "data": {
      "text/plain": [
       "0.68261964735516378"
      ]
     },
     "execution_count": 54,
     "metadata": {},
     "output_type": "execute_result"
    }
   ],
   "source": [
    "grid_knn.best_score_"
   ]
  },
  {
   "cell_type": "code",
   "execution_count": 55,
   "metadata": {
    "collapsed": false
   },
   "outputs": [
    {
     "data": {
      "text/plain": [
       "{'n_neighbors': 27}"
      ]
     },
     "execution_count": 55,
     "metadata": {},
     "output_type": "execute_result"
    }
   ],
   "source": [
    "grid_knn.best_params_"
   ]
  },
  {
   "cell_type": "code",
   "execution_count": 57,
   "metadata": {
    "collapsed": false
   },
   "outputs": [
    {
     "data": {
      "text/plain": [
       "GridSearchCV(cv=5, error_score='raise',\n",
       "       estimator=KNeighborsClassifier(algorithm='auto', leaf_size=30, metric='minkowski',\n",
       "           metric_params=None, n_jobs=1, n_neighbors=5, p=2,\n",
       "           weights='uniform'),\n",
       "       fit_params={}, iid=True, n_jobs=1,\n",
       "       param_grid={'n_neighbors': [1, 3, 5, 7, 9, 11, 13, 15, 17, 19, 21, 23, 25, 27, 29, 31, 33, 35, 37, 39]},\n",
       "       pre_dispatch='2*n_jobs', refit=True, scoring='roc_auc', verbose=0)"
      ]
     },
     "execution_count": 57,
     "metadata": {},
     "output_type": "execute_result"
    }
   ],
   "source": [
    "grid_knn = GridSearchCV(estimator = KNeighborsClassifier(), \n",
    "                        param_grid = param_grid_knn, cv = 5, scoring = \"roc_auc\")\n",
    "\n",
    "#Fit grid on data\n",
    "\n",
    "grid_knn.fit(X, y)"
   ]
  },
  {
   "cell_type": "code",
   "execution_count": 58,
   "metadata": {
    "collapsed": false
   },
   "outputs": [
    {
     "data": {
      "text/plain": [
       "[mean: 0.57518, std: 0.06762, params: {'n_neighbors': 1},\n",
       " mean: 0.59915, std: 0.06625, params: {'n_neighbors': 3},\n",
       " mean: 0.58950, std: 0.05714, params: {'n_neighbors': 5},\n",
       " mean: 0.60310, std: 0.02473, params: {'n_neighbors': 7},\n",
       " mean: 0.61438, std: 0.06177, params: {'n_neighbors': 9},\n",
       " mean: 0.61869, std: 0.04519, params: {'n_neighbors': 11},\n",
       " mean: 0.63084, std: 0.04911, params: {'n_neighbors': 13},\n",
       " mean: 0.64254, std: 0.05209, params: {'n_neighbors': 15},\n",
       " mean: 0.63735, std: 0.06215, params: {'n_neighbors': 17},\n",
       " mean: 0.62182, std: 0.05366, params: {'n_neighbors': 19},\n",
       " mean: 0.62633, std: 0.05923, params: {'n_neighbors': 21},\n",
       " mean: 0.62863, std: 0.06332, params: {'n_neighbors': 23},\n",
       " mean: 0.63648, std: 0.06237, params: {'n_neighbors': 25},\n",
       " mean: 0.63456, std: 0.06769, params: {'n_neighbors': 27},\n",
       " mean: 0.62366, std: 0.06421, params: {'n_neighbors': 29},\n",
       " mean: 0.61841, std: 0.06435, params: {'n_neighbors': 31},\n",
       " mean: 0.62491, std: 0.06681, params: {'n_neighbors': 33},\n",
       " mean: 0.62731, std: 0.06910, params: {'n_neighbors': 35},\n",
       " mean: 0.61993, std: 0.07730, params: {'n_neighbors': 37},\n",
       " mean: 0.62661, std: 0.06848, params: {'n_neighbors': 39}]"
      ]
     },
     "execution_count": 58,
     "metadata": {},
     "output_type": "execute_result"
    }
   ],
   "source": [
    "grid_knn.grid_scores_"
   ]
  },
  {
   "cell_type": "code",
   "execution_count": 59,
   "metadata": {
    "collapsed": false
   },
   "outputs": [
    {
     "data": {
      "text/plain": [
       "0.64254065553813666"
      ]
     },
     "execution_count": 59,
     "metadata": {},
     "output_type": "execute_result"
    }
   ],
   "source": [
    "grid_knn.best_score_"
   ]
  },
  {
   "cell_type": "code",
   "execution_count": 60,
   "metadata": {
    "collapsed": false
   },
   "outputs": [
    {
     "data": {
      "text/plain": [
       "{'n_neighbors': 15}"
      ]
     },
     "execution_count": 60,
     "metadata": {},
     "output_type": "execute_result"
    }
   ],
   "source": [
    "grid_knn.best_params_"
   ]
  },
  {
   "cell_type": "code",
   "execution_count": null,
   "metadata": {
    "collapsed": true
   },
   "outputs": [],
   "source": [
    "#***************************** Decision Tree -----"
   ]
  },
  {
   "cell_type": "code",
   "execution_count": 5,
   "metadata": {
    "collapsed": true
   },
   "outputs": [],
   "source": [
    "from sklearn.tree import DecisionTreeClassifier"
   ]
  },
  {
   "cell_type": "code",
   "execution_count": 45,
   "metadata": {
    "collapsed": false
   },
   "outputs": [
    {
     "data": {
      "text/plain": [
       "{'max_depth': [2, 3, 4, 5, 6, 7, 8, 9, 10, 11, 12, 13, 14, 15, 16, 17, 18, 19]}"
      ]
     },
     "execution_count": 45,
     "metadata": {},
     "output_type": "execute_result"
    }
   ],
   "source": [
    "\n",
    "#Range of neighbors to test\n",
    "depths_range = list(range(2, 20))\n",
    "\n",
    "#Dictionary of parameter values \n",
    "param_grid_dt = {}\n",
    "param_grid_dt[\"max_depth\"] = depths_range\n",
    "\n",
    "param_grid_dt"
   ]
  },
  {
   "cell_type": "code",
   "execution_count": 48,
   "metadata": {
    "collapsed": false
   },
   "outputs": [
    {
     "data": {
      "text/plain": [
       "GridSearchCV(cv=5, error_score='raise',\n",
       "       estimator=DecisionTreeClassifier(class_weight=None, criterion='gini', max_depth=None,\n",
       "            max_features=None, max_leaf_nodes=None, min_samples_leaf=1,\n",
       "            min_samples_split=2, min_weight_fraction_leaf=0.0,\n",
       "            presort=False, random_state=None, splitter='best'),\n",
       "       fit_params={}, iid=True, n_jobs=1,\n",
       "       param_grid={'max_depth': [2, 3, 4, 5, 6, 7, 8, 9, 10, 11, 12, 13, 14, 15, 16, 17, 18, 19]},\n",
       "       pre_dispatch='2*n_jobs', refit=True, scoring='accuracy', verbose=0)"
      ]
     },
     "execution_count": 48,
     "metadata": {},
     "output_type": "execute_result"
    }
   ],
   "source": [
    "#Intialize Grid\n",
    "\n",
    "grid_dt = GridSearchCV(estimator = DecisionTreeClassifier(), \n",
    "                        param_grid = param_grid_dt, cv = 5, scoring = \"accuracy\")\n",
    "\n",
    "#Fit grid on data\n",
    "\n",
    "grid_dt.fit(X, y)"
   ]
  },
  {
   "cell_type": "code",
   "execution_count": 49,
   "metadata": {
    "collapsed": false
   },
   "outputs": [
    {
     "data": {
      "text/plain": [
       "0.66498740554156166"
      ]
     },
     "execution_count": 49,
     "metadata": {},
     "output_type": "execute_result"
    }
   ],
   "source": [
    "grid_dt.best_score_"
   ]
  },
  {
   "cell_type": "code",
   "execution_count": 50,
   "metadata": {
    "collapsed": false
   },
   "outputs": [
    {
     "data": {
      "text/plain": [
       "{'max_depth': 2}"
      ]
     },
     "execution_count": 50,
     "metadata": {},
     "output_type": "execute_result"
    }
   ],
   "source": [
    "grid_dt.best_params_"
   ]
  },
  {
   "cell_type": "code",
   "execution_count": 61,
   "metadata": {
    "collapsed": false
   },
   "outputs": [
    {
     "data": {
      "text/plain": [
       "GridSearchCV(cv=5, error_score='raise',\n",
       "       estimator=DecisionTreeClassifier(class_weight=None, criterion='gini', max_depth=None,\n",
       "            max_features=None, max_leaf_nodes=None, min_samples_leaf=1,\n",
       "            min_samples_split=2, min_weight_fraction_leaf=0.0,\n",
       "            presort=False, random_state=None, splitter='best'),\n",
       "       fit_params={}, iid=True, n_jobs=1,\n",
       "       param_grid={'max_depth': [2, 3, 4, 5, 6, 7, 8, 9, 10, 11, 12, 13, 14, 15, 16, 17, 18, 19]},\n",
       "       pre_dispatch='2*n_jobs', refit=True, scoring='roc_auc', verbose=0)"
      ]
     },
     "execution_count": 61,
     "metadata": {},
     "output_type": "execute_result"
    }
   ],
   "source": [
    "#Intialize Grid\n",
    "\n",
    "grid_dt = GridSearchCV(estimator = DecisionTreeClassifier(), \n",
    "                        param_grid = param_grid_dt, cv = 5, scoring = \"roc_auc\")\n",
    "\n",
    "#Fit grid on data\n",
    "\n",
    "grid_dt.fit(X, y)"
   ]
  },
  {
   "cell_type": "code",
   "execution_count": 62,
   "metadata": {
    "collapsed": false
   },
   "outputs": [
    {
     "data": {
      "text/plain": [
       "0.59964802712913545"
      ]
     },
     "execution_count": 62,
     "metadata": {},
     "output_type": "execute_result"
    }
   ],
   "source": [
    "grid_dt.best_score_"
   ]
  },
  {
   "cell_type": "code",
   "execution_count": 63,
   "metadata": {
    "collapsed": false
   },
   "outputs": [
    {
     "data": {
      "text/plain": [
       "{'max_depth': 2}"
      ]
     },
     "execution_count": 63,
     "metadata": {},
     "output_type": "execute_result"
    }
   ],
   "source": [
    "grid_dt.best_params_"
   ]
  },
  {
   "cell_type": "markdown",
   "metadata": {},
   "source": [
    "**Question 6:** If you work in an admissions department, would you rather have a model that minimizes false negatives or minimizes false positives? Why?"
   ]
  },
  {
   "cell_type": "code",
   "execution_count": null,
   "metadata": {
    "collapsed": true
   },
   "outputs": [],
   "source": [
    "# I would reduce False negatives, as that would mean rejecting students who rightfully deserved an admit. As opposed to \n",
    "# \"False positive\", where students who did not deserve the admit were given one"
   ]
  },
  {
   "cell_type": "markdown",
   "metadata": {},
   "source": [
    "**Question 7:** Using the Logistic Regression from Question 4, what is the probability of admission of the following prospective students:\n",
    "\n",
    "    - Student 1: GRE = 560, GPA = 3.6, Prestige = 2.\n",
    "    - Student 2: GRE = 750, GPA = 3.8, Prestige = 4.\n",
    "    - Student 3: GRE = 660, GPA = 3.1, Prestige = 1."
   ]
  },
  {
   "cell_type": "code",
   "execution_count": 482,
   "metadata": {
    "collapsed": true
   },
   "outputs": [],
   "source": [
    "test_table = pd.DataFrame({'gre':[560,750,660,500],\n",
    "                           'gpa':[3.6,3.8,3.1,3.4],\n",
    "                           'prestige':[2.0,4.0,1.0,3.0]\n",
    "                          })"
   ]
  },
  {
   "cell_type": "code",
   "execution_count": 483,
   "metadata": {
    "collapsed": false
   },
   "outputs": [
    {
     "data": {
      "text/html": [
       "<div>\n",
       "<table border=\"1\" class=\"dataframe\">\n",
       "  <thead>\n",
       "    <tr style=\"text-align: right;\">\n",
       "      <th></th>\n",
       "      <th>gpa</th>\n",
       "      <th>gre</th>\n",
       "      <th>prestige</th>\n",
       "    </tr>\n",
       "  </thead>\n",
       "  <tbody>\n",
       "    <tr>\n",
       "      <th>0</th>\n",
       "      <td>3.6</td>\n",
       "      <td>560</td>\n",
       "      <td>2.0</td>\n",
       "    </tr>\n",
       "    <tr>\n",
       "      <th>1</th>\n",
       "      <td>3.8</td>\n",
       "      <td>750</td>\n",
       "      <td>4.0</td>\n",
       "    </tr>\n",
       "    <tr>\n",
       "      <th>2</th>\n",
       "      <td>3.1</td>\n",
       "      <td>660</td>\n",
       "      <td>1.0</td>\n",
       "    </tr>\n",
       "    <tr>\n",
       "      <th>3</th>\n",
       "      <td>3.4</td>\n",
       "      <td>500</td>\n",
       "      <td>3.0</td>\n",
       "    </tr>\n",
       "  </tbody>\n",
       "</table>\n",
       "</div>"
      ],
      "text/plain": [
       "   gpa  gre  prestige\n",
       "0  3.6  560       2.0\n",
       "1  3.8  750       4.0\n",
       "2  3.1  660       1.0\n",
       "3  3.4  500       3.0"
      ]
     },
     "execution_count": 483,
     "metadata": {},
     "output_type": "execute_result"
    }
   ],
   "source": [
    "test_table"
   ]
  },
  {
   "cell_type": "code",
   "execution_count": 484,
   "metadata": {
    "collapsed": true
   },
   "outputs": [],
   "source": [
    "test_dums = pd.get_dummies(test_table.prestige, prefix = \"prestige\")"
   ]
  },
  {
   "cell_type": "code",
   "execution_count": 489,
   "metadata": {
    "collapsed": false
   },
   "outputs": [],
   "source": [
    "test_dums.drop(\"prestige_1.0\",axis=1,inplace=True)"
   ]
  },
  {
   "cell_type": "code",
   "execution_count": 490,
   "metadata": {
    "collapsed": true
   },
   "outputs": [],
   "source": [
    "test_table.drop(\"prestige\",axis =1,inplace = True)"
   ]
  },
  {
   "cell_type": "code",
   "execution_count": 491,
   "metadata": {
    "collapsed": false
   },
   "outputs": [
    {
     "data": {
      "text/html": [
       "<div>\n",
       "<table border=\"1\" class=\"dataframe\">\n",
       "  <thead>\n",
       "    <tr style=\"text-align: right;\">\n",
       "      <th></th>\n",
       "      <th>gpa</th>\n",
       "      <th>gre</th>\n",
       "      <th>prestige_2.0</th>\n",
       "      <th>prestige_3.0</th>\n",
       "      <th>prestige_4.0</th>\n",
       "    </tr>\n",
       "  </thead>\n",
       "  <tbody>\n",
       "    <tr>\n",
       "      <th>0</th>\n",
       "      <td>3.6</td>\n",
       "      <td>560</td>\n",
       "      <td>1.0</td>\n",
       "      <td>0.0</td>\n",
       "      <td>0.0</td>\n",
       "    </tr>\n",
       "    <tr>\n",
       "      <th>1</th>\n",
       "      <td>3.8</td>\n",
       "      <td>750</td>\n",
       "      <td>0.0</td>\n",
       "      <td>0.0</td>\n",
       "      <td>1.0</td>\n",
       "    </tr>\n",
       "    <tr>\n",
       "      <th>2</th>\n",
       "      <td>3.1</td>\n",
       "      <td>660</td>\n",
       "      <td>0.0</td>\n",
       "      <td>0.0</td>\n",
       "      <td>0.0</td>\n",
       "    </tr>\n",
       "    <tr>\n",
       "      <th>3</th>\n",
       "      <td>3.4</td>\n",
       "      <td>500</td>\n",
       "      <td>0.0</td>\n",
       "      <td>1.0</td>\n",
       "      <td>0.0</td>\n",
       "    </tr>\n",
       "  </tbody>\n",
       "</table>\n",
       "</div>"
      ],
      "text/plain": [
       "   gpa  gre  prestige_2.0  prestige_3.0  prestige_4.0\n",
       "0  3.6  560           1.0           0.0           0.0\n",
       "1  3.8  750           0.0           0.0           1.0\n",
       "2  3.1  660           0.0           0.0           0.0\n",
       "3  3.4  500           0.0           1.0           0.0"
      ]
     },
     "execution_count": 491,
     "metadata": {},
     "output_type": "execute_result"
    }
   ],
   "source": [
    "test_table2 = pd.concat([test_table,test_dums],axis = 1)\n",
    "#3. View new concatenated dataframe\n",
    "test_table2.head()"
   ]
  },
  {
   "cell_type": "code",
   "execution_count": 497,
   "metadata": {
    "collapsed": false
   },
   "outputs": [
    {
     "data": {
      "text/plain": [
       "array([1, 1, 1, 1], dtype=int64)"
      ]
     },
     "execution_count": 497,
     "metadata": {},
     "output_type": "execute_result"
    }
   ],
   "source": [
    "lr.predict(test_table2)"
   ]
  },
  {
   "cell_type": "code",
   "execution_count": null,
   "metadata": {
    "collapsed": true
   },
   "outputs": [],
   "source": []
  },
  {
   "cell_type": "markdown",
   "metadata": {},
   "source": [
    "## Section 2: Mystery Dataset\n",
    "\n",
    "In this section you will work with a \"mystery\" supervised classification dataset, in that you have no context to work with — the names of the features come from San Francisco neighborhoods but aren't related to anything to San Francisco.\n",
    "\n",
    "<br>\n",
    "\n",
    "In this section I want to devise the best possible model with the fewest number of features. Some of the features are informative, while others are junk, your task is to find the good ones while dropping the bad ones.\n",
    "\n",
    "<br>\n",
    "\n",
    "I want you to thoroughly test at least three algorithms in order to find the best one with the best parameters."
   ]
  },
  {
   "cell_type": "code",
   "execution_count": 6,
   "metadata": {
    "collapsed": false
   },
   "outputs": [
    {
     "data": {
      "text/html": [
       "<div>\n",
       "<table border=\"1\" class=\"dataframe\">\n",
       "  <thead>\n",
       "    <tr style=\"text-align: right;\">\n",
       "      <th></th>\n",
       "      <th>haight</th>\n",
       "      <th>mission</th>\n",
       "      <th>soma</th>\n",
       "      <th>sunset</th>\n",
       "      <th>richmond</th>\n",
       "      <th>glen_park</th>\n",
       "      <th>castro</th>\n",
       "      <th>potrero</th>\n",
       "      <th>hayes_valley</th>\n",
       "      <th>fillmore</th>\n",
       "      <th>bernal</th>\n",
       "      <th>marina</th>\n",
       "      <th>north_beach</th>\n",
       "      <th>excelsior</th>\n",
       "      <th>target</th>\n",
       "    </tr>\n",
       "  </thead>\n",
       "  <tbody>\n",
       "    <tr>\n",
       "      <th>0</th>\n",
       "      <td>-3.126509</td>\n",
       "      <td>7.807749</td>\n",
       "      <td>0.959736</td>\n",
       "      <td>-2.248569</td>\n",
       "      <td>4.557675</td>\n",
       "      <td>1.110156</td>\n",
       "      <td>0.617296</td>\n",
       "      <td>0.356864</td>\n",
       "      <td>0.860267</td>\n",
       "      <td>-0.395962</td>\n",
       "      <td>-1.144975</td>\n",
       "      <td>-1.805742</td>\n",
       "      <td>1.498388</td>\n",
       "      <td>2.157730</td>\n",
       "      <td>1</td>\n",
       "    </tr>\n",
       "    <tr>\n",
       "      <th>1</th>\n",
       "      <td>0.941629</td>\n",
       "      <td>2.935495</td>\n",
       "      <td>-0.584966</td>\n",
       "      <td>-0.880963</td>\n",
       "      <td>-1.262072</td>\n",
       "      <td>0.120989</td>\n",
       "      <td>3.970787</td>\n",
       "      <td>2.509629</td>\n",
       "      <td>1.400017</td>\n",
       "      <td>0.574335</td>\n",
       "      <td>-3.389879</td>\n",
       "      <td>-0.898020</td>\n",
       "      <td>0.512079</td>\n",
       "      <td>4.340694</td>\n",
       "      <td>1</td>\n",
       "    </tr>\n",
       "    <tr>\n",
       "      <th>2</th>\n",
       "      <td>-0.724688</td>\n",
       "      <td>4.192606</td>\n",
       "      <td>-1.139602</td>\n",
       "      <td>0.856972</td>\n",
       "      <td>0.906893</td>\n",
       "      <td>-2.799484</td>\n",
       "      <td>0.584498</td>\n",
       "      <td>3.468955</td>\n",
       "      <td>1.011336</td>\n",
       "      <td>0.839612</td>\n",
       "      <td>-1.384781</td>\n",
       "      <td>-0.241726</td>\n",
       "      <td>1.502255</td>\n",
       "      <td>-1.539356</td>\n",
       "      <td>1</td>\n",
       "    </tr>\n",
       "    <tr>\n",
       "      <th>3</th>\n",
       "      <td>-2.641034</td>\n",
       "      <td>6.963189</td>\n",
       "      <td>0.962412</td>\n",
       "      <td>-0.838858</td>\n",
       "      <td>1.549620</td>\n",
       "      <td>-2.335671</td>\n",
       "      <td>-0.838585</td>\n",
       "      <td>1.924333</td>\n",
       "      <td>2.794306</td>\n",
       "      <td>-0.421610</td>\n",
       "      <td>-1.273275</td>\n",
       "      <td>0.833424</td>\n",
       "      <td>2.268457</td>\n",
       "      <td>-0.004678</td>\n",
       "      <td>0</td>\n",
       "    </tr>\n",
       "    <tr>\n",
       "      <th>4</th>\n",
       "      <td>1.259116</td>\n",
       "      <td>4.741797</td>\n",
       "      <td>1.084332</td>\n",
       "      <td>0.186698</td>\n",
       "      <td>4.794145</td>\n",
       "      <td>-1.093006</td>\n",
       "      <td>2.161358</td>\n",
       "      <td>3.264167</td>\n",
       "      <td>-0.060052</td>\n",
       "      <td>1.154145</td>\n",
       "      <td>-2.030773</td>\n",
       "      <td>-1.442986</td>\n",
       "      <td>0.588193</td>\n",
       "      <td>0.533464</td>\n",
       "      <td>1</td>\n",
       "    </tr>\n",
       "  </tbody>\n",
       "</table>\n",
       "</div>"
      ],
      "text/plain": [
       "     haight   mission      soma    sunset  richmond  glen_park    castro  \\\n",
       "0 -3.126509  7.807749  0.959736 -2.248569  4.557675   1.110156  0.617296   \n",
       "1  0.941629  2.935495 -0.584966 -0.880963 -1.262072   0.120989  3.970787   \n",
       "2 -0.724688  4.192606 -1.139602  0.856972  0.906893  -2.799484  0.584498   \n",
       "3 -2.641034  6.963189  0.962412 -0.838858  1.549620  -2.335671 -0.838585   \n",
       "4  1.259116  4.741797  1.084332  0.186698  4.794145  -1.093006  2.161358   \n",
       "\n",
       "    potrero  hayes_valley  fillmore    bernal    marina  north_beach  \\\n",
       "0  0.356864      0.860267 -0.395962 -1.144975 -1.805742     1.498388   \n",
       "1  2.509629      1.400017  0.574335 -3.389879 -0.898020     0.512079   \n",
       "2  3.468955      1.011336  0.839612 -1.384781 -0.241726     1.502255   \n",
       "3  1.924333      2.794306 -0.421610 -1.273275  0.833424     2.268457   \n",
       "4  3.264167     -0.060052  1.154145 -2.030773 -1.442986     0.588193   \n",
       "\n",
       "   excelsior  target  \n",
       "0   2.157730       1  \n",
       "1   4.340694       1  \n",
       "2  -1.539356       1  \n",
       "3  -0.004678       0  \n",
       "4   0.533464       1  "
      ]
     },
     "execution_count": 6,
     "metadata": {},
     "output_type": "execute_result"
    }
   ],
   "source": [
    "data = pd.read_csv(\"../data/homework_2_data.csv\", index_col=[0])\n",
    "\n",
    "data.head()"
   ]
  },
  {
   "cell_type": "code",
   "execution_count": 100,
   "metadata": {
    "collapsed": false
   },
   "outputs": [
    {
     "name": "stdout",
     "output_type": "stream",
     "text": [
      "<class 'pandas.core.frame.DataFrame'>\n",
      "Int64Index: 4000 entries, 0 to 3999\n",
      "Data columns (total 15 columns):\n",
      "haight          4000 non-null float64\n",
      "mission         4000 non-null float64\n",
      "soma            4000 non-null float64\n",
      "sunset          4000 non-null float64\n",
      "richmond        4000 non-null float64\n",
      "glen_park       4000 non-null float64\n",
      "castro          4000 non-null float64\n",
      "potrero         4000 non-null float64\n",
      "hayes_valley    4000 non-null float64\n",
      "fillmore        4000 non-null float64\n",
      "bernal          4000 non-null float64\n",
      "marina          4000 non-null float64\n",
      "north_beach     4000 non-null float64\n",
      "excelsior       4000 non-null float64\n",
      "target          4000 non-null int64\n",
      "dtypes: float64(14), int64(1)\n",
      "memory usage: 500.0 KB\n"
     ]
    }
   ],
   "source": [
    "data.info()"
   ]
  },
  {
   "cell_type": "code",
   "execution_count": 101,
   "metadata": {
    "collapsed": false
   },
   "outputs": [
    {
     "data": {
      "text/html": [
       "<div>\n",
       "<table border=\"1\" class=\"dataframe\">\n",
       "  <thead>\n",
       "    <tr style=\"text-align: right;\">\n",
       "      <th></th>\n",
       "      <th>haight</th>\n",
       "      <th>mission</th>\n",
       "      <th>soma</th>\n",
       "      <th>sunset</th>\n",
       "      <th>richmond</th>\n",
       "      <th>glen_park</th>\n",
       "      <th>castro</th>\n",
       "      <th>potrero</th>\n",
       "      <th>hayes_valley</th>\n",
       "      <th>fillmore</th>\n",
       "      <th>bernal</th>\n",
       "      <th>marina</th>\n",
       "      <th>north_beach</th>\n",
       "      <th>excelsior</th>\n",
       "      <th>target</th>\n",
       "    </tr>\n",
       "  </thead>\n",
       "  <tbody>\n",
       "    <tr>\n",
       "      <th>count</th>\n",
       "      <td>4000.000000</td>\n",
       "      <td>4000.000000</td>\n",
       "      <td>4000.000000</td>\n",
       "      <td>4000.000000</td>\n",
       "      <td>4000.000000</td>\n",
       "      <td>4000.000000</td>\n",
       "      <td>4000.000000</td>\n",
       "      <td>4000.000000</td>\n",
       "      <td>4000.000000</td>\n",
       "      <td>4000.000000</td>\n",
       "      <td>4000.000000</td>\n",
       "      <td>4000.000000</td>\n",
       "      <td>4000.000000</td>\n",
       "      <td>4000.000000</td>\n",
       "      <td>4000.000000</td>\n",
       "    </tr>\n",
       "    <tr>\n",
       "      <th>mean</th>\n",
       "      <td>-0.267225</td>\n",
       "      <td>0.913052</td>\n",
       "      <td>-0.021879</td>\n",
       "      <td>-0.007041</td>\n",
       "      <td>0.488571</td>\n",
       "      <td>0.000533</td>\n",
       "      <td>0.214764</td>\n",
       "      <td>0.473963</td>\n",
       "      <td>0.276314</td>\n",
       "      <td>-0.001805</td>\n",
       "      <td>0.719916</td>\n",
       "      <td>0.016530</td>\n",
       "      <td>0.301720</td>\n",
       "      <td>-0.686948</td>\n",
       "      <td>0.361750</td>\n",
       "    </tr>\n",
       "    <tr>\n",
       "      <th>std</th>\n",
       "      <td>1.937676</td>\n",
       "      <td>3.021233</td>\n",
       "      <td>1.000251</td>\n",
       "      <td>1.010572</td>\n",
       "      <td>1.709379</td>\n",
       "      <td>1.699261</td>\n",
       "      <td>1.899664</td>\n",
       "      <td>1.760681</td>\n",
       "      <td>1.797701</td>\n",
       "      <td>0.982354</td>\n",
       "      <td>1.800790</td>\n",
       "      <td>0.991669</td>\n",
       "      <td>1.821065</td>\n",
       "      <td>3.675909</td>\n",
       "      <td>0.480567</td>\n",
       "    </tr>\n",
       "    <tr>\n",
       "      <th>min</th>\n",
       "      <td>-6.937360</td>\n",
       "      <td>-12.397333</td>\n",
       "      <td>-4.303971</td>\n",
       "      <td>-3.754228</td>\n",
       "      <td>-6.185402</td>\n",
       "      <td>-6.502010</td>\n",
       "      <td>-8.197095</td>\n",
       "      <td>-5.768151</td>\n",
       "      <td>-5.999394</td>\n",
       "      <td>-3.689324</td>\n",
       "      <td>-6.220787</td>\n",
       "      <td>-3.169294</td>\n",
       "      <td>-5.589536</td>\n",
       "      <td>-13.042620</td>\n",
       "      <td>0.000000</td>\n",
       "    </tr>\n",
       "    <tr>\n",
       "      <th>25%</th>\n",
       "      <td>-1.559472</td>\n",
       "      <td>-1.004986</td>\n",
       "      <td>-0.693617</td>\n",
       "      <td>-0.663096</td>\n",
       "      <td>-0.631218</td>\n",
       "      <td>-1.125261</td>\n",
       "      <td>-0.965050</td>\n",
       "      <td>-0.747362</td>\n",
       "      <td>-0.907813</td>\n",
       "      <td>-0.674620</td>\n",
       "      <td>-0.506630</td>\n",
       "      <td>-0.650516</td>\n",
       "      <td>-0.921863</td>\n",
       "      <td>-3.161465</td>\n",
       "      <td>0.000000</td>\n",
       "    </tr>\n",
       "    <tr>\n",
       "      <th>50%</th>\n",
       "      <td>-0.272602</td>\n",
       "      <td>1.030225</td>\n",
       "      <td>0.001604</td>\n",
       "      <td>-0.018837</td>\n",
       "      <td>0.538179</td>\n",
       "      <td>0.047370</td>\n",
       "      <td>0.299145</td>\n",
       "      <td>0.495901</td>\n",
       "      <td>0.300742</td>\n",
       "      <td>0.004425</td>\n",
       "      <td>0.717371</td>\n",
       "      <td>0.013667</td>\n",
       "      <td>0.263889</td>\n",
       "      <td>-0.721604</td>\n",
       "      <td>0.000000</td>\n",
       "    </tr>\n",
       "    <tr>\n",
       "      <th>75%</th>\n",
       "      <td>0.947680</td>\n",
       "      <td>2.990420</td>\n",
       "      <td>0.645886</td>\n",
       "      <td>0.673647</td>\n",
       "      <td>1.594229</td>\n",
       "      <td>1.132822</td>\n",
       "      <td>1.461197</td>\n",
       "      <td>1.666650</td>\n",
       "      <td>1.480998</td>\n",
       "      <td>0.651688</td>\n",
       "      <td>1.946477</td>\n",
       "      <td>0.661317</td>\n",
       "      <td>1.512332</td>\n",
       "      <td>1.515665</td>\n",
       "      <td>1.000000</td>\n",
       "    </tr>\n",
       "    <tr>\n",
       "      <th>max</th>\n",
       "      <td>6.680262</td>\n",
       "      <td>12.031816</td>\n",
       "      <td>3.424344</td>\n",
       "      <td>4.113957</td>\n",
       "      <td>7.032764</td>\n",
       "      <td>6.458744</td>\n",
       "      <td>7.532350</td>\n",
       "      <td>6.954996</td>\n",
       "      <td>6.621243</td>\n",
       "      <td>3.880595</td>\n",
       "      <td>7.368307</td>\n",
       "      <td>3.135799</td>\n",
       "      <td>7.445434</td>\n",
       "      <td>13.432946</td>\n",
       "      <td>1.000000</td>\n",
       "    </tr>\n",
       "  </tbody>\n",
       "</table>\n",
       "</div>"
      ],
      "text/plain": [
       "            haight      mission         soma       sunset     richmond  \\\n",
       "count  4000.000000  4000.000000  4000.000000  4000.000000  4000.000000   \n",
       "mean     -0.267225     0.913052    -0.021879    -0.007041     0.488571   \n",
       "std       1.937676     3.021233     1.000251     1.010572     1.709379   \n",
       "min      -6.937360   -12.397333    -4.303971    -3.754228    -6.185402   \n",
       "25%      -1.559472    -1.004986    -0.693617    -0.663096    -0.631218   \n",
       "50%      -0.272602     1.030225     0.001604    -0.018837     0.538179   \n",
       "75%       0.947680     2.990420     0.645886     0.673647     1.594229   \n",
       "max       6.680262    12.031816     3.424344     4.113957     7.032764   \n",
       "\n",
       "         glen_park       castro      potrero  hayes_valley     fillmore  \\\n",
       "count  4000.000000  4000.000000  4000.000000   4000.000000  4000.000000   \n",
       "mean      0.000533     0.214764     0.473963      0.276314    -0.001805   \n",
       "std       1.699261     1.899664     1.760681      1.797701     0.982354   \n",
       "min      -6.502010    -8.197095    -5.768151     -5.999394    -3.689324   \n",
       "25%      -1.125261    -0.965050    -0.747362     -0.907813    -0.674620   \n",
       "50%       0.047370     0.299145     0.495901      0.300742     0.004425   \n",
       "75%       1.132822     1.461197     1.666650      1.480998     0.651688   \n",
       "max       6.458744     7.532350     6.954996      6.621243     3.880595   \n",
       "\n",
       "            bernal       marina  north_beach    excelsior       target  \n",
       "count  4000.000000  4000.000000  4000.000000  4000.000000  4000.000000  \n",
       "mean      0.719916     0.016530     0.301720    -0.686948     0.361750  \n",
       "std       1.800790     0.991669     1.821065     3.675909     0.480567  \n",
       "min      -6.220787    -3.169294    -5.589536   -13.042620     0.000000  \n",
       "25%      -0.506630    -0.650516    -0.921863    -3.161465     0.000000  \n",
       "50%       0.717371     0.013667     0.263889    -0.721604     0.000000  \n",
       "75%       1.946477     0.661317     1.512332     1.515665     1.000000  \n",
       "max       7.368307     3.135799     7.445434    13.432946     1.000000  "
      ]
     },
     "execution_count": 101,
     "metadata": {},
     "output_type": "execute_result"
    }
   ],
   "source": [
    "data.describe()"
   ]
  },
  {
   "cell_type": "code",
   "execution_count": 102,
   "metadata": {
    "collapsed": false
   },
   "outputs": [
    {
     "data": {
      "text/plain": [
       "0    0.63825\n",
       "1    0.36175\n",
       "Name: target, dtype: float64"
      ]
     },
     "execution_count": 102,
     "metadata": {},
     "output_type": "execute_result"
    }
   ],
   "source": [
    "data.target.value_counts(normalize=True, ascending = False) "
   ]
  },
  {
   "cell_type": "code",
   "execution_count": 119,
   "metadata": {
    "collapsed": false
   },
   "outputs": [
    {
     "data": {
      "text/html": [
       "<div>\n",
       "<table border=\"1\" class=\"dataframe\">\n",
       "  <thead>\n",
       "    <tr style=\"text-align: right;\">\n",
       "      <th></th>\n",
       "      <th>haight</th>\n",
       "      <th>mission</th>\n",
       "      <th>soma</th>\n",
       "      <th>sunset</th>\n",
       "      <th>richmond</th>\n",
       "      <th>glen_park</th>\n",
       "      <th>castro</th>\n",
       "      <th>potrero</th>\n",
       "      <th>hayes_valley</th>\n",
       "      <th>fillmore</th>\n",
       "      <th>bernal</th>\n",
       "      <th>marina</th>\n",
       "      <th>north_beach</th>\n",
       "      <th>excelsior</th>\n",
       "    </tr>\n",
       "    <tr>\n",
       "      <th>target</th>\n",
       "      <th></th>\n",
       "      <th></th>\n",
       "      <th></th>\n",
       "      <th></th>\n",
       "      <th></th>\n",
       "      <th></th>\n",
       "      <th></th>\n",
       "      <th></th>\n",
       "      <th></th>\n",
       "      <th></th>\n",
       "      <th></th>\n",
       "      <th></th>\n",
       "      <th></th>\n",
       "      <th></th>\n",
       "    </tr>\n",
       "  </thead>\n",
       "  <tbody>\n",
       "    <tr>\n",
       "      <th>0</th>\n",
       "      <td>-0.016454</td>\n",
       "      <td>0.601508</td>\n",
       "      <td>-0.029950</td>\n",
       "      <td>0.013038</td>\n",
       "      <td>0.741687</td>\n",
       "      <td>-0.006643</td>\n",
       "      <td>-0.052958</td>\n",
       "      <td>0.737972</td>\n",
       "      <td>0.036991</td>\n",
       "      <td>-0.023105</td>\n",
       "      <td>0.735132</td>\n",
       "      <td>0.025810</td>\n",
       "      <td>0.030070</td>\n",
       "      <td>-1.021871</td>\n",
       "    </tr>\n",
       "    <tr>\n",
       "      <th>1</th>\n",
       "      <td>-0.709672</td>\n",
       "      <td>1.462723</td>\n",
       "      <td>-0.007641</td>\n",
       "      <td>-0.042468</td>\n",
       "      <td>0.041988</td>\n",
       "      <td>0.013194</td>\n",
       "      <td>0.687117</td>\n",
       "      <td>0.008162</td>\n",
       "      <td>0.698561</td>\n",
       "      <td>0.035775</td>\n",
       "      <td>0.693069</td>\n",
       "      <td>0.000157</td>\n",
       "      <td>0.781002</td>\n",
       "      <td>-0.096030</td>\n",
       "    </tr>\n",
       "  </tbody>\n",
       "</table>\n",
       "</div>"
      ],
      "text/plain": [
       "          haight   mission      soma    sunset  richmond  glen_park    castro  \\\n",
       "target                                                                          \n",
       "0      -0.016454  0.601508 -0.029950  0.013038  0.741687  -0.006643 -0.052958   \n",
       "1      -0.709672  1.462723 -0.007641 -0.042468  0.041988   0.013194  0.687117   \n",
       "\n",
       "         potrero  hayes_valley  fillmore    bernal    marina  north_beach  \\\n",
       "target                                                                      \n",
       "0       0.737972      0.036991 -0.023105  0.735132  0.025810     0.030070   \n",
       "1       0.008162      0.698561  0.035775  0.693069  0.000157     0.781002   \n",
       "\n",
       "        excelsior  \n",
       "target             \n",
       "0       -1.021871  \n",
       "1       -0.096030  "
      ]
     },
     "execution_count": 119,
     "metadata": {},
     "output_type": "execute_result"
    }
   ],
   "source": [
    "data.groupby(\"target\").mean()"
   ]
  },
  {
   "cell_type": "code",
   "execution_count": null,
   "metadata": {
    "collapsed": true
   },
   "outputs": [],
   "source": [
    "#------------------------ #1 Decision Tree Classifier ---------------------------"
   ]
  },
  {
   "cell_type": "code",
   "execution_count": 7,
   "metadata": {
    "collapsed": true
   },
   "outputs": [],
   "source": [
    "#Create X and y variables\n",
    "d_X = data.drop(\"target\", axis=1)\n",
    "d_y = data.target"
   ]
  },
  {
   "cell_type": "code",
   "execution_count": 106,
   "metadata": {
    "collapsed": false
   },
   "outputs": [
    {
     "data": {
      "image/png": "[encoded data removed]",
      "text/plain": [
       "<matplotlib.figure.Figure at 0x1a239e90c18>"
      ]
     },
     "metadata": {},
     "output_type": "display_data"
    }
   ],
   "source": [
    "depths = range(1, 31)\n",
    "\n",
    "cv_scores = []\n",
    "\n",
    "for i in depths:\n",
    "    cv = cross_val_score(DecisionTreeClassifier(max_depth=i), d_X, d_y, cv =5, scoring=\"accuracy\")\n",
    "    cv_mean = cv.mean()\n",
    "    cv_scores.append(cv_mean)\n",
    "    \n",
    "plt.plot(depths, cv_scores, linewidth = 3)\n",
    "plt.xlabel(\"Max Depth Values\")\n",
    "plt.ylabel(\"Average Cross Validated Accuracy\");"
   ]
  },
  {
   "cell_type": "code",
   "execution_count": null,
   "metadata": {
    "collapsed": true
   },
   "outputs": [],
   "source": [
    "# or do the same with gridsearch"
   ]
  },
  {
   "cell_type": "code",
   "execution_count": 107,
   "metadata": {
    "collapsed": false
   },
   "outputs": [
    {
     "data": {
      "text/plain": [
       "{'max_depth': [2,\n",
       "  3,\n",
       "  4,\n",
       "  5,\n",
       "  6,\n",
       "  7,\n",
       "  8,\n",
       "  9,\n",
       "  10,\n",
       "  11,\n",
       "  12,\n",
       "  13,\n",
       "  14,\n",
       "  15,\n",
       "  16,\n",
       "  17,\n",
       "  18,\n",
       "  19,\n",
       "  20,\n",
       "  21,\n",
       "  22,\n",
       "  23,\n",
       "  24,\n",
       "  25,\n",
       "  26,\n",
       "  27,\n",
       "  28,\n",
       "  29,\n",
       "  30]}"
      ]
     },
     "execution_count": 107,
     "metadata": {},
     "output_type": "execute_result"
    }
   ],
   "source": [
    "#Range of neighbors to test\n",
    "depths_range = list(range(2, 31))\n",
    "\n",
    "#Dictionary of parameter values \n",
    "param_grid_dt = {}\n",
    "param_grid_dt[\"max_depth\"] = depths_range\n",
    "\n",
    "param_grid_dt"
   ]
  },
  {
   "cell_type": "code",
   "execution_count": 108,
   "metadata": {
    "collapsed": false
   },
   "outputs": [
    {
     "data": {
      "text/plain": [
       "GridSearchCV(cv=5, error_score='raise',\n",
       "       estimator=DecisionTreeClassifier(class_weight=None, criterion='gini', max_depth=None,\n",
       "            max_features=None, max_leaf_nodes=None, min_samples_leaf=1,\n",
       "            min_samples_split=2, min_weight_fraction_leaf=0.0,\n",
       "            presort=False, random_state=None, splitter='best'),\n",
       "       fit_params={}, iid=True, n_jobs=1,\n",
       "       param_grid={'max_depth': [2, 3, 4, 5, 6, 7, 8, 9, 10, 11, 12, 13, 14, 15, 16, 17, 18, 19, 20, 21, 22, 23, 24, 25, 26, 27, 28, 29, 30]},\n",
       "       pre_dispatch='2*n_jobs', refit=True, scoring='accuracy', verbose=0)"
      ]
     },
     "execution_count": 108,
     "metadata": {},
     "output_type": "execute_result"
    }
   ],
   "source": [
    "#Intialize Grid\n",
    "\n",
    "grid_dt = GridSearchCV(estimator = DecisionTreeClassifier(), \n",
    "                        param_grid = param_grid_dt, cv = 5, scoring = \"accuracy\")\n",
    "\n",
    "#Fit grid on data\n",
    "\n",
    "grid_dt.fit(d_X, d_y)"
   ]
  },
  {
   "cell_type": "code",
   "execution_count": 109,
   "metadata": {
    "collapsed": false
   },
   "outputs": [
    {
     "data": {
      "text/plain": [
       "0.82725000000000004"
      ]
     },
     "execution_count": 109,
     "metadata": {},
     "output_type": "execute_result"
    }
   ],
   "source": [
    "grid_dt.best_score_"
   ]
  },
  {
   "cell_type": "code",
   "execution_count": 110,
   "metadata": {
    "collapsed": false
   },
   "outputs": [
    {
     "data": {
      "text/plain": [
       "{'max_depth': 9}"
      ]
     },
     "execution_count": 110,
     "metadata": {},
     "output_type": "execute_result"
    }
   ],
   "source": [
    "grid_dt.best_params_"
   ]
  },
  {
   "cell_type": "code",
   "execution_count": 111,
   "metadata": {
    "collapsed": false
   },
   "outputs": [
    {
     "data": {
      "text/plain": [
       "DecisionTreeClassifier(class_weight=None, criterion='gini', max_depth=4,\n",
       "            max_features=None, max_leaf_nodes=None, min_samples_leaf=1,\n",
       "            min_samples_split=2, min_weight_fraction_leaf=0.0,\n",
       "            presort=False, random_state=None, splitter='best')"
      ]
     },
     "execution_count": 111,
     "metadata": {},
     "output_type": "execute_result"
    }
   ],
   "source": [
    "#Fit DT model on X and y with max_depth 9\n",
    "\n",
    "dt = DecisionTreeClassifier(max_depth=4)\n",
    "dt.fit(d_X, d_y)"
   ]
  },
  {
   "cell_type": "code",
   "execution_count": 113,
   "metadata": {
    "collapsed": false
   },
   "outputs": [
    {
     "data": {
      "text/html": [
       "<div>\n",
       "<table border=\"1\" class=\"dataframe\">\n",
       "  <thead>\n",
       "    <tr style=\"text-align: right;\">\n",
       "      <th></th>\n",
       "      <th>score</th>\n",
       "      <th>feature</th>\n",
       "    </tr>\n",
       "  </thead>\n",
       "  <tbody>\n",
       "    <tr>\n",
       "      <th>0</th>\n",
       "      <td>0.000000</td>\n",
       "      <td>haight</td>\n",
       "    </tr>\n",
       "    <tr>\n",
       "      <th>1</th>\n",
       "      <td>0.088673</td>\n",
       "      <td>mission</td>\n",
       "    </tr>\n",
       "    <tr>\n",
       "      <th>2</th>\n",
       "      <td>0.000000</td>\n",
       "      <td>soma</td>\n",
       "    </tr>\n",
       "    <tr>\n",
       "      <th>3</th>\n",
       "      <td>0.000000</td>\n",
       "      <td>sunset</td>\n",
       "    </tr>\n",
       "    <tr>\n",
       "      <th>4</th>\n",
       "      <td>0.174986</td>\n",
       "      <td>richmond</td>\n",
       "    </tr>\n",
       "    <tr>\n",
       "      <th>5</th>\n",
       "      <td>0.189501</td>\n",
       "      <td>glen_park</td>\n",
       "    </tr>\n",
       "    <tr>\n",
       "      <th>6</th>\n",
       "      <td>0.046893</td>\n",
       "      <td>castro</td>\n",
       "    </tr>\n",
       "    <tr>\n",
       "      <th>7</th>\n",
       "      <td>0.047113</td>\n",
       "      <td>potrero</td>\n",
       "    </tr>\n",
       "    <tr>\n",
       "      <th>8</th>\n",
       "      <td>0.135746</td>\n",
       "      <td>hayes_valley</td>\n",
       "    </tr>\n",
       "    <tr>\n",
       "      <th>9</th>\n",
       "      <td>0.000000</td>\n",
       "      <td>fillmore</td>\n",
       "    </tr>\n",
       "    <tr>\n",
       "      <th>10</th>\n",
       "      <td>0.000000</td>\n",
       "      <td>bernal</td>\n",
       "    </tr>\n",
       "    <tr>\n",
       "      <th>11</th>\n",
       "      <td>0.000000</td>\n",
       "      <td>marina</td>\n",
       "    </tr>\n",
       "    <tr>\n",
       "      <th>12</th>\n",
       "      <td>0.114040</td>\n",
       "      <td>north_beach</td>\n",
       "    </tr>\n",
       "    <tr>\n",
       "      <th>13</th>\n",
       "      <td>0.203049</td>\n",
       "      <td>excelsior</td>\n",
       "    </tr>\n",
       "  </tbody>\n",
       "</table>\n",
       "</div>"
      ],
      "text/plain": [
       "       score       feature\n",
       "0   0.000000        haight\n",
       "1   0.088673       mission\n",
       "2   0.000000          soma\n",
       "3   0.000000        sunset\n",
       "4   0.174986      richmond\n",
       "5   0.189501     glen_park\n",
       "6   0.046893        castro\n",
       "7   0.047113       potrero\n",
       "8   0.135746  hayes_valley\n",
       "9   0.000000      fillmore\n",
       "10  0.000000        bernal\n",
       "11  0.000000        marina\n",
       "12  0.114040   north_beach\n",
       "13  0.203049     excelsior"
      ]
     },
     "execution_count": 113,
     "metadata": {},
     "output_type": "execute_result"
    }
   ],
   "source": [
    "#Call feature importanes and put that in a dataframe\n",
    "\n",
    "df = pd.DataFrame(columns = [\"score\",\"feature\"])\n",
    "df[\"score\"] = dt.feature_importances_\n",
    "df[\"feature\"] = d_X.columns\n",
    "df\n"
   ]
  },
  {
   "cell_type": "code",
   "execution_count": null,
   "metadata": {
    "collapsed": true
   },
   "outputs": [],
   "source": [
    "# 6 of the 14 features have no significance. remove these and run the model"
   ]
  },
  {
   "cell_type": "code",
   "execution_count": 115,
   "metadata": {
    "collapsed": false
   },
   "outputs": [],
   "source": [
    "columns = [\"marina\",\"bernal\",\"fillmore\",\"sunset\",\"soma\",\"haight\"]\n",
    "\n",
    "d_X2 = d_X.drop(columns, axis=1)"
   ]
  },
  {
   "cell_type": "code",
   "execution_count": 116,
   "metadata": {
    "collapsed": false
   },
   "outputs": [
    {
     "data": {
      "text/plain": [
       "GridSearchCV(cv=5, error_score='raise',\n",
       "       estimator=DecisionTreeClassifier(class_weight=None, criterion='gini', max_depth=None,\n",
       "            max_features=None, max_leaf_nodes=None, min_samples_leaf=1,\n",
       "            min_samples_split=2, min_weight_fraction_leaf=0.0,\n",
       "            presort=False, random_state=None, splitter='best'),\n",
       "       fit_params={}, iid=True, n_jobs=1,\n",
       "       param_grid={'max_depth': [2, 3, 4, 5, 6, 7, 8, 9, 10, 11, 12, 13, 14, 15, 16, 17, 18, 19, 20, 21, 22, 23, 24, 25, 26, 27, 28, 29, 30]},\n",
       "       pre_dispatch='2*n_jobs', refit=True, scoring='accuracy', verbose=0)"
      ]
     },
     "execution_count": 116,
     "metadata": {},
     "output_type": "execute_result"
    }
   ],
   "source": [
    "#Initialize Grid\n",
    "\n",
    "grid_dt = GridSearchCV(estimator = DecisionTreeClassifier(), \n",
    "                        param_grid = param_grid_dt, cv = 5, scoring = \"accuracy\")\n",
    "\n",
    "#Fit grid on data\n",
    "\n",
    "grid_dt.fit(d_X2, d_y)"
   ]
  },
  {
   "cell_type": "code",
   "execution_count": 117,
   "metadata": {
    "collapsed": false
   },
   "outputs": [
    {
     "data": {
      "text/plain": [
       "0.81925000000000003"
      ]
     },
     "execution_count": 117,
     "metadata": {},
     "output_type": "execute_result"
    }
   ],
   "source": [
    "grid_dt.best_score_"
   ]
  },
  {
   "cell_type": "code",
   "execution_count": 118,
   "metadata": {
    "collapsed": false
   },
   "outputs": [
    {
     "data": {
      "text/plain": [
       "{'max_depth': 9}"
      ]
     },
     "execution_count": 118,
     "metadata": {},
     "output_type": "execute_result"
    }
   ],
   "source": [
    "grid_dt.best_params_"
   ]
  },
  {
   "cell_type": "code",
   "execution_count": null,
   "metadata": {
    "collapsed": true
   },
   "outputs": [],
   "source": [
    "# Even though the score reduces by a small margin, we drop 6 features. Hence this is a good model"
   ]
  },
  {
   "cell_type": "code",
   "execution_count": null,
   "metadata": {
    "collapsed": true
   },
   "outputs": [],
   "source": [
    "#--------------------------------------- #2 Logistic Regression"
   ]
  },
  {
   "cell_type": "code",
   "execution_count": 132,
   "metadata": {
    "collapsed": false
   },
   "outputs": [
    {
     "name": "stdout",
     "output_type": "stream",
     "text": [
      "The model accurately classified 75.06 percent of the testing data\n"
     ]
    }
   ],
   "source": [
    "#Step 1\n",
    "dX_train, dX_test, dy_train, dy_test = train_test_split(d_X, d_y, \n",
    "                                                    test_size=0.4,\n",
    "                                                    random_state=42)\n",
    "#Step 2\n",
    "lr = LogisticRegression()\n",
    "lr.fit(dX_train, dy_train)\n",
    "\n",
    "#Step 3\n",
    "preds = lr.predict(dX_test)\n",
    "\n",
    "#Step 4\n",
    "testing_score = accuracy_score(dy_test, preds)\n",
    "\n",
    "print (\"The model accurately classified {:.2f} percent of the testing data\".format(testing_score*100))"
   ]
  },
  {
   "cell_type": "code",
   "execution_count": 135,
   "metadata": {
    "collapsed": false
   },
   "outputs": [
    {
     "name": "stdout",
     "output_type": "stream",
     "text": [
      "The cross validated accuracy score is 76.65 percent\n"
     ]
    }
   ],
   "source": [
    "#Use cross_val_score method to generate the average accuracy score for 5 CVs\n",
    "mean_cv_score = cross_val_score(LogisticRegression(), d_X,d_y, cv=5, scoring=\"accuracy\").mean()\n",
    "\n",
    "print ((\"The cross validated accuracy score is {:.2f} percent\").format(mean_cv_score*100))"
   ]
  },
  {
   "cell_type": "code",
   "execution_count": 136,
   "metadata": {
    "collapsed": false
   },
   "outputs": [
    {
     "data": {
      "text/html": [
       "<div>\n",
       "<table border=\"1\" class=\"dataframe\">\n",
       "  <thead>\n",
       "    <tr style=\"text-align: right;\">\n",
       "      <th></th>\n",
       "      <th>coef</th>\n",
       "      <th>value</th>\n",
       "    </tr>\n",
       "  </thead>\n",
       "  <tbody>\n",
       "    <tr>\n",
       "      <th>0</th>\n",
       "      <td>haight</td>\n",
       "      <td>-0.231724</td>\n",
       "    </tr>\n",
       "    <tr>\n",
       "      <th>1</th>\n",
       "      <td>mission</td>\n",
       "      <td>0.165422</td>\n",
       "    </tr>\n",
       "    <tr>\n",
       "      <th>2</th>\n",
       "      <td>soma</td>\n",
       "      <td>0.014287</td>\n",
       "    </tr>\n",
       "    <tr>\n",
       "      <th>3</th>\n",
       "      <td>sunset</td>\n",
       "      <td>-0.036342</td>\n",
       "    </tr>\n",
       "    <tr>\n",
       "      <th>4</th>\n",
       "      <td>richmond</td>\n",
       "      <td>-0.397628</td>\n",
       "    </tr>\n",
       "    <tr>\n",
       "      <th>5</th>\n",
       "      <td>glen_park</td>\n",
       "      <td>0.185643</td>\n",
       "    </tr>\n",
       "    <tr>\n",
       "      <th>6</th>\n",
       "      <td>castro</td>\n",
       "      <td>0.275169</td>\n",
       "    </tr>\n",
       "    <tr>\n",
       "      <th>7</th>\n",
       "      <td>potrero</td>\n",
       "      <td>-0.388687</td>\n",
       "    </tr>\n",
       "    <tr>\n",
       "      <th>8</th>\n",
       "      <td>hayes_valley</td>\n",
       "      <td>0.011970</td>\n",
       "    </tr>\n",
       "    <tr>\n",
       "      <th>9</th>\n",
       "      <td>fillmore</td>\n",
       "      <td>0.011140</td>\n",
       "    </tr>\n",
       "    <tr>\n",
       "      <th>10</th>\n",
       "      <td>bernal</td>\n",
       "      <td>-0.127082</td>\n",
       "    </tr>\n",
       "    <tr>\n",
       "      <th>11</th>\n",
       "      <td>marina</td>\n",
       "      <td>-0.042222</td>\n",
       "    </tr>\n",
       "    <tr>\n",
       "      <th>12</th>\n",
       "      <td>north_beach</td>\n",
       "      <td>0.703114</td>\n",
       "    </tr>\n",
       "    <tr>\n",
       "      <th>13</th>\n",
       "      <td>excelsior</td>\n",
       "      <td>0.042052</td>\n",
       "    </tr>\n",
       "  </tbody>\n",
       "</table>\n",
       "</div>"
      ],
      "text/plain": [
       "            coef     value\n",
       "0         haight -0.231724\n",
       "1        mission  0.165422\n",
       "2           soma  0.014287\n",
       "3         sunset -0.036342\n",
       "4       richmond -0.397628\n",
       "5      glen_park  0.185643\n",
       "6         castro  0.275169\n",
       "7        potrero -0.388687\n",
       "8   hayes_valley  0.011970\n",
       "9       fillmore  0.011140\n",
       "10        bernal -0.127082\n",
       "11        marina -0.042222\n",
       "12   north_beach  0.703114\n",
       "13     excelsior  0.042052"
      ]
     },
     "execution_count": 136,
     "metadata": {},
     "output_type": "execute_result"
    }
   ],
   "source": [
    "#Table of coefficients and their values\n",
    "d_coef = pd.DataFrame(columns=[\"coef\", \"value\"])\n",
    "d_coef[\"coef\"] = d_X.columns\n",
    "d_coef[\"value\"] = np.transpose(lr.coef_[0])\n",
    "\n",
    "d_coef"
   ]
  },
  {
   "cell_type": "code",
   "execution_count": null,
   "metadata": {
    "collapsed": true
   },
   "outputs": [],
   "source": []
  },
  {
   "cell_type": "code",
   "execution_count": null,
   "metadata": {
    "collapsed": true
   },
   "outputs": [],
   "source": [
    "#--------------------------------------- #3 Random Forest"
   ]
  },
  {
   "cell_type": "code",
   "execution_count": 138,
   "metadata": {
    "collapsed": true
   },
   "outputs": [],
   "source": [
    "#Import\n",
    "from sklearn.ensemble import RandomForestRegressor"
   ]
  },
  {
   "cell_type": "code",
   "execution_count": null,
   "metadata": {
    "collapsed": true
   },
   "outputs": [],
   "source": [
    "# Compute the ideal number of estimator"
   ]
  },
  {
   "cell_type": "code",
   "execution_count": 142,
   "metadata": {
    "collapsed": false
   },
   "outputs": [],
   "source": [
    "# list of values to try for n_estimators\n",
    "estimator_range = range(10, 310, 10)\n",
    "\n",
    "# list to store the average RMSE for each value of n_estimators\n",
    "RMSE_scores = []\n",
    "\n",
    "# use 5-fold cross-validation with each value of n_estimators. Will take a while.\n",
    "\n",
    "for estimator in estimator_range:\n",
    "    rfreg = RandomForestRegressor(n_estimators=estimator, random_state=1)\n",
    "    MSE_scores = cross_val_score(rfreg, d_X, d_y, cv=5, scoring='mean_squared_error')\n",
    "    RMSE_scores.append(np.mean(np.sqrt(-MSE_scores)))"
   ]
  },
  {
   "cell_type": "code",
   "execution_count": 143,
   "metadata": {
    "collapsed": false
   },
   "outputs": [
    {
     "data": {
      "image/png": "[encoded data removed]",
      "text/plain": [
       "<matplotlib.figure.Figure at 0x1a23affba58>"
      ]
     },
     "metadata": {},
     "output_type": "display_data"
    }
   ],
   "source": [
    "# plot n_estimators (x-axis) versus RMSE (y-axis)\n",
    "plt.figure(figsize=(10, 7))\n",
    "plt.plot(estimator_range, RMSE_scores)\n",
    "plt.xlabel('n_estimators')\n",
    "plt.ylabel('RMSE');"
   ]
  },
  {
   "cell_type": "code",
   "execution_count": 144,
   "metadata": {
    "collapsed": false
   },
   "outputs": [
    {
     "data": {
      "text/plain": [
       "(0.2888175480832148, 270)"
      ]
     },
     "execution_count": 144,
     "metadata": {},
     "output_type": "execute_result"
    }
   ],
   "source": [
    "#Best estimator\n",
    "sorted(zip(RMSE_scores, estimator_range))[0]"
   ]
  },
  {
   "cell_type": "code",
   "execution_count": null,
   "metadata": {
    "collapsed": true
   },
   "outputs": [],
   "source": [
    "# Tuning Max features"
   ]
  },
  {
   "cell_type": "code",
   "execution_count": 147,
   "metadata": {
    "collapsed": false
   },
   "outputs": [],
   "source": [
    "feature_cols = d_X.columns"
   ]
  },
  {
   "cell_type": "code",
   "execution_count": 154,
   "metadata": {
    "collapsed": false
   },
   "outputs": [],
   "source": [
    "# 240 is a big enough estimator\n",
    "\n",
    "# list of values to try for max_features\n",
    "feature_range = range(1, len(feature_cols)+1)\n",
    "\n",
    "# list to store the average RMSE for each value of max_features\n",
    "RMSE_scores = []\n",
    "\n",
    "# use 5-fold cross-validation with each value of max_features (WARNING: SLOW!)\n",
    "for feature in feature_range:\n",
    "    rfreg = RandomForestRegressor(n_estimators=240, max_features=feature, random_state=1)\n",
    "    MSE_scores = cross_val_score(rfreg, d_X, d_y, cv=5, scoring='mean_squared_error')\n",
    "    RMSE_scores.append(np.mean(np.sqrt(-MSE_scores)))"
   ]
  },
  {
   "cell_type": "code",
   "execution_count": 156,
   "metadata": {
    "collapsed": false
   },
   "outputs": [
    {
     "data": {
      "image/png": "[encoded data removed]",
      "text/plain": [
       "<matplotlib.figure.Figure at 0x1a23b22f2b0>"
      ]
     },
     "metadata": {},
     "output_type": "display_data"
    }
   ],
   "source": [
    "# plot max_features (x-axis) versus RMSE (y-axis)\n",
    "plt.figure(figsize=(10, 7))\n",
    "plt.plot(feature_range, RMSE_scores)\n",
    "plt.xlabel('max_features')\n",
    "plt.ylabel('RMSE');"
   ]
  },
  {
   "cell_type": "code",
   "execution_count": 157,
   "metadata": {
    "collapsed": false
   },
   "outputs": [
    {
     "data": {
      "text/plain": [
       "(0.28242247725570552, 7)"
      ]
     },
     "execution_count": 157,
     "metadata": {},
     "output_type": "execute_result"
    }
   ],
   "source": [
    "# show the best RMSE and the corresponding max_features\n",
    "sorted(zip(RMSE_scores, feature_range))[0]"
   ]
  },
  {
   "cell_type": "code",
   "execution_count": null,
   "metadata": {
    "collapsed": true
   },
   "outputs": [],
   "source": [
    "#Creating random forest with the best parameters"
   ]
  },
  {
   "cell_type": "code",
   "execution_count": 171,
   "metadata": {
    "collapsed": false
   },
   "outputs": [
    {
     "data": {
      "text/plain": [
       "RandomForestRegressor(bootstrap=True, criterion='mse', max_depth=None,\n",
       "           max_features=7, max_leaf_nodes=None, min_samples_leaf=1,\n",
       "           min_samples_split=2, min_weight_fraction_leaf=0.0,\n",
       "           n_estimators=240, n_jobs=1, oob_score=True, random_state=1,\n",
       "           verbose=0, warm_start=False)"
      ]
     },
     "execution_count": 171,
     "metadata": {},
     "output_type": "execute_result"
    }
   ],
   "source": [
    "# max_features=7 is best and n_estimators=240 is sufficiently large\n",
    "rfreg = RandomForestRegressor(n_estimators=240, \n",
    "                              max_features=7,\n",
    "                              oob_score=True,\n",
    "                              random_state=1)\n",
    "rfreg.fit(d_X, d_y)"
   ]
  },
  {
   "cell_type": "code",
   "execution_count": 159,
   "metadata": {
    "collapsed": false
   },
   "outputs": [
    {
     "name": "stderr",
     "output_type": "stream",
     "text": [
      "C:\\Users\\shoprabhakar\\AppData\\Local\\Continuum\\Anaconda3\\lib\\site-packages\\ipykernel\\__main__.py:3: FutureWarning: sort(columns=....) is deprecated, use sort_values(by=.....)\n",
      "  app.launch_new_instance()\n"
     ]
    },
    {
     "data": {
      "text/html": [
       "<div>\n",
       "<table border=\"1\" class=\"dataframe\">\n",
       "  <thead>\n",
       "    <tr style=\"text-align: right;\">\n",
       "      <th></th>\n",
       "      <th>feature</th>\n",
       "      <th>importance</th>\n",
       "    </tr>\n",
       "  </thead>\n",
       "  <tbody>\n",
       "    <tr>\n",
       "      <th>12</th>\n",
       "      <td>north_beach</td>\n",
       "      <td>0.127486</td>\n",
       "    </tr>\n",
       "    <tr>\n",
       "      <th>5</th>\n",
       "      <td>glen_park</td>\n",
       "      <td>0.117523</td>\n",
       "    </tr>\n",
       "    <tr>\n",
       "      <th>4</th>\n",
       "      <td>richmond</td>\n",
       "      <td>0.116334</td>\n",
       "    </tr>\n",
       "    <tr>\n",
       "      <th>7</th>\n",
       "      <td>potrero</td>\n",
       "      <td>0.092659</td>\n",
       "    </tr>\n",
       "    <tr>\n",
       "      <th>13</th>\n",
       "      <td>excelsior</td>\n",
       "      <td>0.090818</td>\n",
       "    </tr>\n",
       "    <tr>\n",
       "      <th>6</th>\n",
       "      <td>castro</td>\n",
       "      <td>0.082547</td>\n",
       "    </tr>\n",
       "    <tr>\n",
       "      <th>10</th>\n",
       "      <td>bernal</td>\n",
       "      <td>0.073861</td>\n",
       "    </tr>\n",
       "    <tr>\n",
       "      <th>8</th>\n",
       "      <td>hayes_valley</td>\n",
       "      <td>0.073205</td>\n",
       "    </tr>\n",
       "    <tr>\n",
       "      <th>0</th>\n",
       "      <td>haight</td>\n",
       "      <td>0.068979</td>\n",
       "    </tr>\n",
       "    <tr>\n",
       "      <th>1</th>\n",
       "      <td>mission</td>\n",
       "      <td>0.067498</td>\n",
       "    </tr>\n",
       "    <tr>\n",
       "      <th>3</th>\n",
       "      <td>sunset</td>\n",
       "      <td>0.023394</td>\n",
       "    </tr>\n",
       "    <tr>\n",
       "      <th>2</th>\n",
       "      <td>soma</td>\n",
       "      <td>0.021985</td>\n",
       "    </tr>\n",
       "    <tr>\n",
       "      <th>9</th>\n",
       "      <td>fillmore</td>\n",
       "      <td>0.021937</td>\n",
       "    </tr>\n",
       "    <tr>\n",
       "      <th>11</th>\n",
       "      <td>marina</td>\n",
       "      <td>0.021774</td>\n",
       "    </tr>\n",
       "  </tbody>\n",
       "</table>\n",
       "</div>"
      ],
      "text/plain": [
       "         feature  importance\n",
       "12   north_beach    0.127486\n",
       "5      glen_park    0.117523\n",
       "4       richmond    0.116334\n",
       "7        potrero    0.092659\n",
       "13     excelsior    0.090818\n",
       "6         castro    0.082547\n",
       "10        bernal    0.073861\n",
       "8   hayes_valley    0.073205\n",
       "0         haight    0.068979\n",
       "1        mission    0.067498\n",
       "3         sunset    0.023394\n",
       "2           soma    0.021985\n",
       "9       fillmore    0.021937\n",
       "11        marina    0.021774"
      ]
     },
     "execution_count": 159,
     "metadata": {},
     "output_type": "execute_result"
    }
   ],
   "source": [
    "# compute feature importances\n",
    "pd.DataFrame({'feature':feature_cols,\n",
    "              'importance':rfreg.feature_importances_}).sort('importance', ascending = False)"
   ]
  },
  {
   "cell_type": "code",
   "execution_count": 160,
   "metadata": {
    "collapsed": false
   },
   "outputs": [
    {
     "data": {
      "text/plain": [
       "0.66075492355606413"
      ]
     },
     "execution_count": 160,
     "metadata": {},
     "output_type": "execute_result"
    }
   ],
   "source": [
    "# compute the out-of-bag R-squared score\n",
    "rfreg.oob_score_"
   ]
  },
  {
   "cell_type": "code",
   "execution_count": 162,
   "metadata": {
    "collapsed": false
   },
   "outputs": [
    {
     "data": {
      "text/plain": [
       "(4000, 14)"
      ]
     },
     "execution_count": 162,
     "metadata": {},
     "output_type": "execute_result"
    }
   ],
   "source": [
    "d_X.shape"
   ]
  },
  {
   "cell_type": "code",
   "execution_count": 164,
   "metadata": {
    "collapsed": false
   },
   "outputs": [
    {
     "name": "stdout",
     "output_type": "stream",
     "text": [
      "(4000, 8)\n"
     ]
    },
    {
     "name": "stderr",
     "output_type": "stream",
     "text": [
      "C:\\Users\\shoprabhakar\\AppData\\Local\\Continuum\\Anaconda3\\lib\\site-packages\\sklearn\\utils\\__init__.py:93: DeprecationWarning: Function transform is deprecated; Support to use estimators as feature selectors will be removed in version 0.19. Use SelectFromModel instead.\n",
      "  warnings.warn(msg, category=DeprecationWarning)\n",
      "C:\\Users\\shoprabhakar\\AppData\\Local\\Continuum\\Anaconda3\\lib\\site-packages\\sklearn\\utils\\__init__.py:93: DeprecationWarning: Function transform is deprecated; Support to use estimators as feature selectors will be removed in version 0.19. Use SelectFromModel instead.\n",
      "  warnings.warn(msg, category=DeprecationWarning)\n"
     ]
    },
    {
     "data": {
      "text/plain": [
       "array([[ 4.55767512,  1.11015572,  0.61729606, ..., -1.14497458,\n",
       "         1.49838805,  2.15772961],\n",
       "       [-1.26207178,  0.12098939,  3.97078726, ..., -3.38987933,\n",
       "         0.51207915,  4.34069351],\n",
       "       [ 0.90689348, -2.79948396,  0.58449822, ..., -1.38478126,\n",
       "         1.50225475, -1.53935567],\n",
       "       ..., \n",
       "       [ 1.99165404,  0.18856402, -3.62274408, ...,  3.28088655,\n",
       "         2.80460309, -7.87025272],\n",
       "       [-2.53465166, -0.91034214, -0.67499031, ...,  4.32700125,\n",
       "         1.84599609, -7.37277265],\n",
       "       [ 2.01231767,  3.02817255, -1.38875321, ...,  0.52950692,\n",
       "        -1.58812129, -1.49132362]])"
      ]
     },
     "execution_count": 164,
     "metadata": {},
     "output_type": "execute_result"
    }
   ],
   "source": [
    "# set a threshold for which features to include\n",
    "print (rfreg.transform(d_X, threshold='mean').shape)\n",
    "\n",
    "rfreg.transform(d_X, threshold='mean')\n"
   ]
  },
  {
   "cell_type": "code",
   "execution_count": 165,
   "metadata": {
    "collapsed": false
   },
   "outputs": [
    {
     "name": "stderr",
     "output_type": "stream",
     "text": [
      "C:\\Users\\shoprabhakar\\AppData\\Local\\Continuum\\Anaconda3\\lib\\site-packages\\sklearn\\utils\\__init__.py:93: DeprecationWarning: Function transform is deprecated; Support to use estimators as feature selectors will be removed in version 0.19. Use SelectFromModel instead.\n",
      "  warnings.warn(msg, category=DeprecationWarning)\n"
     ]
    }
   ],
   "source": [
    "# create a new feature matrix that only includes important features\n",
    "d_X_important = rfreg.transform(d_X, threshold='mean')"
   ]
  },
  {
   "cell_type": "code",
   "execution_count": 166,
   "metadata": {
    "collapsed": false
   },
   "outputs": [
    {
     "data": {
      "text/plain": [
       "0.28469076963123774"
      ]
     },
     "execution_count": 166,
     "metadata": {},
     "output_type": "execute_result"
    }
   ],
   "source": [
    "# check the RMSE for a Random Forest that only includes important features\n",
    "rfreg = RandomForestRegressor(n_estimators=240, max_features=7, random_state=1)\n",
    "scores = cross_val_score(rfreg, d_X_important, d_y, cv=10, scoring='mean_squared_error')\n",
    "np.mean(np.sqrt(-scores))"
   ]
  },
  {
   "cell_type": "code",
   "execution_count": 167,
   "metadata": {
    "collapsed": false
   },
   "outputs": [
    {
     "data": {
      "text/plain": [
       "0.28039343061579725"
      ]
     },
     "execution_count": 167,
     "metadata": {},
     "output_type": "execute_result"
    }
   ],
   "source": [
    "# check the RMSE for a Random Forest that includes ALL features ( for comparison )\n",
    "rfreg = RandomForestRegressor(n_estimators=240, max_features=7, random_state=1)\n",
    "scores = cross_val_score(rfreg, d_X, d_y, cv=10, scoring='mean_squared_error')\n",
    "np.mean(np.sqrt(-scores))"
   ]
  },
  {
   "cell_type": "code",
   "execution_count": 173,
   "metadata": {
    "collapsed": false
   },
   "outputs": [
    {
     "data": {
      "text/plain": [
       "RandomForestRegressor(bootstrap=True, criterion='mse', max_depth=None,\n",
       "           max_features=7, max_leaf_nodes=None, min_samples_leaf=1,\n",
       "           min_samples_split=2, min_weight_fraction_leaf=0.0,\n",
       "           n_estimators=240, n_jobs=1, oob_score=True, random_state=1,\n",
       "           verbose=0, warm_start=False)"
      ]
     },
     "execution_count": 173,
     "metadata": {},
     "output_type": "execute_result"
    }
   ],
   "source": [
    "# max_features=7 is best and n_estimators=240 is sufficiently large\n",
    "rfreg = RandomForestRegressor(n_estimators=240, \n",
    "                              max_features=7,\n",
    "                              oob_score=True,\n",
    "                              random_state=1)\n",
    "rfreg.fit(d_X, d_y)"
   ]
  },
  {
   "cell_type": "code",
   "execution_count": 174,
   "metadata": {
    "collapsed": false
   },
   "outputs": [
    {
     "name": "stderr",
     "output_type": "stream",
     "text": [
      "C:\\Users\\shoprabhakar\\AppData\\Local\\Continuum\\Anaconda3\\lib\\site-packages\\sklearn\\utils\\__init__.py:93: DeprecationWarning: Function transform is deprecated; Support to use estimators as feature selectors will be removed in version 0.19. Use SelectFromModel instead.\n",
      "  warnings.warn(msg, category=DeprecationWarning)\n",
      "C:\\Users\\shoprabhakar\\AppData\\Local\\Continuum\\Anaconda3\\lib\\site-packages\\sklearn\\utils\\__init__.py:93: DeprecationWarning: Function transform is deprecated; Support to use estimators as feature selectors will be removed in version 0.19. Use SelectFromModel instead.\n",
      "  warnings.warn(msg, category=DeprecationWarning)\n"
     ]
    }
   ],
   "source": [
    "# create a new feature matrix that only includes important features\n",
    "rfreg.transform(d_X, threshold=0.03)\n",
    "\n",
    "d_X_important2 = rfreg.transform(d_X, threshold=0.03)"
   ]
  },
  {
   "cell_type": "code",
   "execution_count": 175,
   "metadata": {
    "collapsed": false
   },
   "outputs": [
    {
     "data": {
      "text/plain": [
       "0.27273203281733044"
      ]
     },
     "execution_count": 175,
     "metadata": {},
     "output_type": "execute_result"
    }
   ],
   "source": [
    "# check the RMSE for a Random Forest that only includes important features\n",
    "rfreg = RandomForestRegressor(n_estimators=240, max_features=7, random_state=1)\n",
    "scores = cross_val_score(rfreg, d_X_important2, d_y, cv=10, scoring='mean_squared_error')\n",
    "np.mean(np.sqrt(-scores))"
   ]
  },
  {
   "cell_type": "code",
   "execution_count": 177,
   "metadata": {
    "collapsed": false
   },
   "outputs": [],
   "source": [
    "#Note: Removing the 4 features (marina, fillmore, soma, sunset) gives the lowest error"
   ]
  },
  {
   "cell_type": "code",
   "execution_count": null,
   "metadata": {
    "collapsed": true
   },
   "outputs": [],
   "source": []
  },
  {
   "cell_type": "markdown",
   "metadata": {},
   "source": [
    "## Section 3: Movie Revenue Prediction\n",
    "\n",
    "Use the movie_metadata dataset to fit a regression model to predict gross. Use Linear, Polynomial, Ridge, Lasso regression. Use rMSE as your evaluation metric.\n",
    "\n",
    "<br>\n",
    "\n",
    "Once you've made the best possible model, I want you to pick three movies that are set to be released in January or February 2018 and use the model to predict how much revenue those movies will bring in."
   ]
  },
  {
   "cell_type": "code",
   "execution_count": 55,
   "metadata": {
    "collapsed": false
   },
   "outputs": [
    {
     "data": {
      "text/html": [
       "<div>\n",
       "<table border=\"1\" class=\"dataframe\">\n",
       "  <thead>\n",
       "    <tr style=\"text-align: right;\">\n",
       "      <th></th>\n",
       "      <th>color</th>\n",
       "      <th>director_name</th>\n",
       "      <th>num_critic_for_reviews</th>\n",
       "      <th>duration</th>\n",
       "      <th>director_facebook_likes</th>\n",
       "      <th>actor_3_facebook_likes</th>\n",
       "      <th>actor_2_name</th>\n",
       "      <th>actor_1_facebook_likes</th>\n",
       "      <th>gross</th>\n",
       "      <th>genres</th>\n",
       "      <th>...</th>\n",
       "      <th>num_user_for_reviews</th>\n",
       "      <th>language</th>\n",
       "      <th>country</th>\n",
       "      <th>content_rating</th>\n",
       "      <th>budget</th>\n",
       "      <th>title_year</th>\n",
       "      <th>actor_2_facebook_likes</th>\n",
       "      <th>imdb_score</th>\n",
       "      <th>aspect_ratio</th>\n",
       "      <th>movie_facebook_likes</th>\n",
       "    </tr>\n",
       "  </thead>\n",
       "  <tbody>\n",
       "    <tr>\n",
       "      <th>0</th>\n",
       "      <td>Color</td>\n",
       "      <td>James Cameron</td>\n",
       "      <td>723.0</td>\n",
       "      <td>178.0</td>\n",
       "      <td>0.0</td>\n",
       "      <td>855.0</td>\n",
       "      <td>Joel David Moore</td>\n",
       "      <td>1000.0</td>\n",
       "      <td>760505847.0</td>\n",
       "      <td>Action|Adventure|Fantasy|Sci-Fi</td>\n",
       "      <td>...</td>\n",
       "      <td>3054.0</td>\n",
       "      <td>English</td>\n",
       "      <td>USA</td>\n",
       "      <td>PG-13</td>\n",
       "      <td>237000000.0</td>\n",
       "      <td>2009.0</td>\n",
       "      <td>936.0</td>\n",
       "      <td>7.9</td>\n",
       "      <td>1.78</td>\n",
       "      <td>33000</td>\n",
       "    </tr>\n",
       "    <tr>\n",
       "      <th>1</th>\n",
       "      <td>Color</td>\n",
       "      <td>Gore Verbinski</td>\n",
       "      <td>302.0</td>\n",
       "      <td>169.0</td>\n",
       "      <td>563.0</td>\n",
       "      <td>1000.0</td>\n",
       "      <td>Orlando Bloom</td>\n",
       "      <td>40000.0</td>\n",
       "      <td>309404152.0</td>\n",
       "      <td>Action|Adventure|Fantasy</td>\n",
       "      <td>...</td>\n",
       "      <td>1238.0</td>\n",
       "      <td>English</td>\n",
       "      <td>USA</td>\n",
       "      <td>PG-13</td>\n",
       "      <td>300000000.0</td>\n",
       "      <td>2007.0</td>\n",
       "      <td>5000.0</td>\n",
       "      <td>7.1</td>\n",
       "      <td>2.35</td>\n",
       "      <td>0</td>\n",
       "    </tr>\n",
       "    <tr>\n",
       "      <th>2</th>\n",
       "      <td>Color</td>\n",
       "      <td>Sam Mendes</td>\n",
       "      <td>602.0</td>\n",
       "      <td>148.0</td>\n",
       "      <td>0.0</td>\n",
       "      <td>161.0</td>\n",
       "      <td>Rory Kinnear</td>\n",
       "      <td>11000.0</td>\n",
       "      <td>200074175.0</td>\n",
       "      <td>Action|Adventure|Thriller</td>\n",
       "      <td>...</td>\n",
       "      <td>994.0</td>\n",
       "      <td>English</td>\n",
       "      <td>UK</td>\n",
       "      <td>PG-13</td>\n",
       "      <td>245000000.0</td>\n",
       "      <td>2015.0</td>\n",
       "      <td>393.0</td>\n",
       "      <td>6.8</td>\n",
       "      <td>2.35</td>\n",
       "      <td>85000</td>\n",
       "    </tr>\n",
       "    <tr>\n",
       "      <th>3</th>\n",
       "      <td>Color</td>\n",
       "      <td>Christopher Nolan</td>\n",
       "      <td>813.0</td>\n",
       "      <td>164.0</td>\n",
       "      <td>22000.0</td>\n",
       "      <td>23000.0</td>\n",
       "      <td>Christian Bale</td>\n",
       "      <td>27000.0</td>\n",
       "      <td>448130642.0</td>\n",
       "      <td>Action|Thriller</td>\n",
       "      <td>...</td>\n",
       "      <td>2701.0</td>\n",
       "      <td>English</td>\n",
       "      <td>USA</td>\n",
       "      <td>PG-13</td>\n",
       "      <td>250000000.0</td>\n",
       "      <td>2012.0</td>\n",
       "      <td>23000.0</td>\n",
       "      <td>8.5</td>\n",
       "      <td>2.35</td>\n",
       "      <td>164000</td>\n",
       "    </tr>\n",
       "    <tr>\n",
       "      <th>4</th>\n",
       "      <td>NaN</td>\n",
       "      <td>Doug Walker</td>\n",
       "      <td>NaN</td>\n",
       "      <td>NaN</td>\n",
       "      <td>131.0</td>\n",
       "      <td>NaN</td>\n",
       "      <td>Rob Walker</td>\n",
       "      <td>131.0</td>\n",
       "      <td>NaN</td>\n",
       "      <td>Documentary</td>\n",
       "      <td>...</td>\n",
       "      <td>NaN</td>\n",
       "      <td>NaN</td>\n",
       "      <td>NaN</td>\n",
       "      <td>NaN</td>\n",
       "      <td>NaN</td>\n",
       "      <td>NaN</td>\n",
       "      <td>12.0</td>\n",
       "      <td>7.1</td>\n",
       "      <td>NaN</td>\n",
       "      <td>0</td>\n",
       "    </tr>\n",
       "  </tbody>\n",
       "</table>\n",
       "<p>5 rows × 28 columns</p>\n",
       "</div>"
      ],
      "text/plain": [
       "   color      director_name  num_critic_for_reviews  duration  \\\n",
       "0  Color      James Cameron                   723.0     178.0   \n",
       "1  Color     Gore Verbinski                   302.0     169.0   \n",
       "2  Color         Sam Mendes                   602.0     148.0   \n",
       "3  Color  Christopher Nolan                   813.0     164.0   \n",
       "4    NaN        Doug Walker                     NaN       NaN   \n",
       "\n",
       "   director_facebook_likes  actor_3_facebook_likes      actor_2_name  \\\n",
       "0                      0.0                   855.0  Joel David Moore   \n",
       "1                    563.0                  1000.0     Orlando Bloom   \n",
       "2                      0.0                   161.0      Rory Kinnear   \n",
       "3                  22000.0                 23000.0    Christian Bale   \n",
       "4                    131.0                     NaN        Rob Walker   \n",
       "\n",
       "   actor_1_facebook_likes        gross                           genres  \\\n",
       "0                  1000.0  760505847.0  Action|Adventure|Fantasy|Sci-Fi   \n",
       "1                 40000.0  309404152.0         Action|Adventure|Fantasy   \n",
       "2                 11000.0  200074175.0        Action|Adventure|Thriller   \n",
       "3                 27000.0  448130642.0                  Action|Thriller   \n",
       "4                   131.0          NaN                      Documentary   \n",
       "\n",
       "          ...          num_user_for_reviews language  country  content_rating  \\\n",
       "0         ...                        3054.0  English      USA           PG-13   \n",
       "1         ...                        1238.0  English      USA           PG-13   \n",
       "2         ...                         994.0  English       UK           PG-13   \n",
       "3         ...                        2701.0  English      USA           PG-13   \n",
       "4         ...                           NaN      NaN      NaN             NaN   \n",
       "\n",
       "        budget  title_year actor_2_facebook_likes imdb_score  aspect_ratio  \\\n",
       "0  237000000.0      2009.0                  936.0        7.9          1.78   \n",
       "1  300000000.0      2007.0                 5000.0        7.1          2.35   \n",
       "2  245000000.0      2015.0                  393.0        6.8          2.35   \n",
       "3  250000000.0      2012.0                23000.0        8.5          2.35   \n",
       "4          NaN         NaN                   12.0        7.1           NaN   \n",
       "\n",
       "  movie_facebook_likes  \n",
       "0                33000  \n",
       "1                    0  \n",
       "2                85000  \n",
       "3               164000  \n",
       "4                    0  \n",
       "\n",
       "[5 rows x 28 columns]"
      ]
     },
     "execution_count": 55,
     "metadata": {},
     "output_type": "execute_result"
    }
   ],
   "source": [
    "movies = pd.read_csv(\"../data/movie_metadata.csv\")\n",
    "\n",
    "movies.head()"
   ]
  },
  {
   "cell_type": "code",
   "execution_count": 185,
   "metadata": {
    "collapsed": false
   },
   "outputs": [
    {
     "data": {
      "text/plain": [
       "(5043, 28)"
      ]
     },
     "execution_count": 185,
     "metadata": {},
     "output_type": "execute_result"
    }
   ],
   "source": [
    "movies.shape"
   ]
  },
  {
   "cell_type": "code",
   "execution_count": 186,
   "metadata": {
    "collapsed": false
   },
   "outputs": [
    {
     "name": "stderr",
     "output_type": "stream",
     "text": [
      "C:\\Users\\shoprabhakar\\AppData\\Local\\Continuum\\Anaconda3\\lib\\site-packages\\numpy\\lib\\function_base.py:3834: RuntimeWarning: Invalid value encountered in percentile\n",
      "  RuntimeWarning)\n"
     ]
    },
    {
     "data": {
      "text/html": [
       "<div>\n",
       "<table border=\"1\" class=\"dataframe\">\n",
       "  <thead>\n",
       "    <tr style=\"text-align: right;\">\n",
       "      <th></th>\n",
       "      <th>num_critic_for_reviews</th>\n",
       "      <th>duration</th>\n",
       "      <th>director_facebook_likes</th>\n",
       "      <th>actor_3_facebook_likes</th>\n",
       "      <th>actor_1_facebook_likes</th>\n",
       "      <th>gross</th>\n",
       "      <th>num_voted_users</th>\n",
       "      <th>cast_total_facebook_likes</th>\n",
       "      <th>facenumber_in_poster</th>\n",
       "      <th>num_user_for_reviews</th>\n",
       "      <th>budget</th>\n",
       "      <th>title_year</th>\n",
       "      <th>actor_2_facebook_likes</th>\n",
       "      <th>imdb_score</th>\n",
       "      <th>aspect_ratio</th>\n",
       "      <th>movie_facebook_likes</th>\n",
       "    </tr>\n",
       "  </thead>\n",
       "  <tbody>\n",
       "    <tr>\n",
       "      <th>count</th>\n",
       "      <td>4993.000000</td>\n",
       "      <td>5028.000000</td>\n",
       "      <td>4939.000000</td>\n",
       "      <td>5020.000000</td>\n",
       "      <td>5036.000000</td>\n",
       "      <td>4.159000e+03</td>\n",
       "      <td>5.043000e+03</td>\n",
       "      <td>5043.000000</td>\n",
       "      <td>5030.000000</td>\n",
       "      <td>5022.000000</td>\n",
       "      <td>4.551000e+03</td>\n",
       "      <td>4935.000000</td>\n",
       "      <td>5030.000000</td>\n",
       "      <td>5043.000000</td>\n",
       "      <td>4714.000000</td>\n",
       "      <td>5043.000000</td>\n",
       "    </tr>\n",
       "    <tr>\n",
       "      <th>mean</th>\n",
       "      <td>140.194272</td>\n",
       "      <td>107.201074</td>\n",
       "      <td>686.509212</td>\n",
       "      <td>645.009761</td>\n",
       "      <td>6560.047061</td>\n",
       "      <td>4.846841e+07</td>\n",
       "      <td>8.366816e+04</td>\n",
       "      <td>9699.063851</td>\n",
       "      <td>1.371173</td>\n",
       "      <td>272.770808</td>\n",
       "      <td>3.975262e+07</td>\n",
       "      <td>2002.470517</td>\n",
       "      <td>1651.754473</td>\n",
       "      <td>6.442138</td>\n",
       "      <td>2.220403</td>\n",
       "      <td>7525.964505</td>\n",
       "    </tr>\n",
       "    <tr>\n",
       "      <th>std</th>\n",
       "      <td>121.601675</td>\n",
       "      <td>25.197441</td>\n",
       "      <td>2813.328607</td>\n",
       "      <td>1665.041728</td>\n",
       "      <td>15020.759120</td>\n",
       "      <td>6.845299e+07</td>\n",
       "      <td>1.384853e+05</td>\n",
       "      <td>18163.799124</td>\n",
       "      <td>2.013576</td>\n",
       "      <td>377.982886</td>\n",
       "      <td>2.061149e+08</td>\n",
       "      <td>12.474599</td>\n",
       "      <td>4042.438863</td>\n",
       "      <td>1.125116</td>\n",
       "      <td>1.385113</td>\n",
       "      <td>19320.445110</td>\n",
       "    </tr>\n",
       "    <tr>\n",
       "      <th>min</th>\n",
       "      <td>1.000000</td>\n",
       "      <td>7.000000</td>\n",
       "      <td>0.000000</td>\n",
       "      <td>0.000000</td>\n",
       "      <td>0.000000</td>\n",
       "      <td>1.620000e+02</td>\n",
       "      <td>5.000000e+00</td>\n",
       "      <td>0.000000</td>\n",
       "      <td>0.000000</td>\n",
       "      <td>1.000000</td>\n",
       "      <td>2.180000e+02</td>\n",
       "      <td>1916.000000</td>\n",
       "      <td>0.000000</td>\n",
       "      <td>1.600000</td>\n",
       "      <td>1.180000</td>\n",
       "      <td>0.000000</td>\n",
       "    </tr>\n",
       "    <tr>\n",
       "      <th>25%</th>\n",
       "      <td>NaN</td>\n",
       "      <td>NaN</td>\n",
       "      <td>NaN</td>\n",
       "      <td>NaN</td>\n",
       "      <td>NaN</td>\n",
       "      <td>NaN</td>\n",
       "      <td>8.593500e+03</td>\n",
       "      <td>1411.000000</td>\n",
       "      <td>NaN</td>\n",
       "      <td>NaN</td>\n",
       "      <td>NaN</td>\n",
       "      <td>NaN</td>\n",
       "      <td>NaN</td>\n",
       "      <td>5.800000</td>\n",
       "      <td>NaN</td>\n",
       "      <td>0.000000</td>\n",
       "    </tr>\n",
       "    <tr>\n",
       "      <th>50%</th>\n",
       "      <td>NaN</td>\n",
       "      <td>NaN</td>\n",
       "      <td>NaN</td>\n",
       "      <td>NaN</td>\n",
       "      <td>NaN</td>\n",
       "      <td>NaN</td>\n",
       "      <td>3.435900e+04</td>\n",
       "      <td>3090.000000</td>\n",
       "      <td>NaN</td>\n",
       "      <td>NaN</td>\n",
       "      <td>NaN</td>\n",
       "      <td>NaN</td>\n",
       "      <td>NaN</td>\n",
       "      <td>6.600000</td>\n",
       "      <td>NaN</td>\n",
       "      <td>166.000000</td>\n",
       "    </tr>\n",
       "    <tr>\n",
       "      <th>75%</th>\n",
       "      <td>NaN</td>\n",
       "      <td>NaN</td>\n",
       "      <td>NaN</td>\n",
       "      <td>NaN</td>\n",
       "      <td>NaN</td>\n",
       "      <td>NaN</td>\n",
       "      <td>9.630900e+04</td>\n",
       "      <td>13756.500000</td>\n",
       "      <td>NaN</td>\n",
       "      <td>NaN</td>\n",
       "      <td>NaN</td>\n",
       "      <td>NaN</td>\n",
       "      <td>NaN</td>\n",
       "      <td>7.200000</td>\n",
       "      <td>NaN</td>\n",
       "      <td>3000.000000</td>\n",
       "    </tr>\n",
       "    <tr>\n",
       "      <th>max</th>\n",
       "      <td>813.000000</td>\n",
       "      <td>511.000000</td>\n",
       "      <td>23000.000000</td>\n",
       "      <td>23000.000000</td>\n",
       "      <td>640000.000000</td>\n",
       "      <td>7.605058e+08</td>\n",
       "      <td>1.689764e+06</td>\n",
       "      <td>656730.000000</td>\n",
       "      <td>43.000000</td>\n",
       "      <td>5060.000000</td>\n",
       "      <td>1.221550e+10</td>\n",
       "      <td>2016.000000</td>\n",
       "      <td>137000.000000</td>\n",
       "      <td>9.500000</td>\n",
       "      <td>16.000000</td>\n",
       "      <td>349000.000000</td>\n",
       "    </tr>\n",
       "  </tbody>\n",
       "</table>\n",
       "</div>"
      ],
      "text/plain": [
       "       num_critic_for_reviews     duration  director_facebook_likes  \\\n",
       "count             4993.000000  5028.000000              4939.000000   \n",
       "mean               140.194272   107.201074               686.509212   \n",
       "std                121.601675    25.197441              2813.328607   \n",
       "min                  1.000000     7.000000                 0.000000   \n",
       "25%                       NaN          NaN                      NaN   \n",
       "50%                       NaN          NaN                      NaN   \n",
       "75%                       NaN          NaN                      NaN   \n",
       "max                813.000000   511.000000             23000.000000   \n",
       "\n",
       "       actor_3_facebook_likes  actor_1_facebook_likes         gross  \\\n",
       "count             5020.000000             5036.000000  4.159000e+03   \n",
       "mean               645.009761             6560.047061  4.846841e+07   \n",
       "std               1665.041728            15020.759120  6.845299e+07   \n",
       "min                  0.000000                0.000000  1.620000e+02   \n",
       "25%                       NaN                     NaN           NaN   \n",
       "50%                       NaN                     NaN           NaN   \n",
       "75%                       NaN                     NaN           NaN   \n",
       "max              23000.000000           640000.000000  7.605058e+08   \n",
       "\n",
       "       num_voted_users  cast_total_facebook_likes  facenumber_in_poster  \\\n",
       "count     5.043000e+03                5043.000000           5030.000000   \n",
       "mean      8.366816e+04                9699.063851              1.371173   \n",
       "std       1.384853e+05               18163.799124              2.013576   \n",
       "min       5.000000e+00                   0.000000              0.000000   \n",
       "25%       8.593500e+03                1411.000000                   NaN   \n",
       "50%       3.435900e+04                3090.000000                   NaN   \n",
       "75%       9.630900e+04               13756.500000                   NaN   \n",
       "max       1.689764e+06              656730.000000             43.000000   \n",
       "\n",
       "       num_user_for_reviews        budget   title_year  \\\n",
       "count           5022.000000  4.551000e+03  4935.000000   \n",
       "mean             272.770808  3.975262e+07  2002.470517   \n",
       "std              377.982886  2.061149e+08    12.474599   \n",
       "min                1.000000  2.180000e+02  1916.000000   \n",
       "25%                     NaN           NaN          NaN   \n",
       "50%                     NaN           NaN          NaN   \n",
       "75%                     NaN           NaN          NaN   \n",
       "max             5060.000000  1.221550e+10  2016.000000   \n",
       "\n",
       "       actor_2_facebook_likes   imdb_score  aspect_ratio  movie_facebook_likes  \n",
       "count             5030.000000  5043.000000   4714.000000           5043.000000  \n",
       "mean              1651.754473     6.442138      2.220403           7525.964505  \n",
       "std               4042.438863     1.125116      1.385113          19320.445110  \n",
       "min                  0.000000     1.600000      1.180000              0.000000  \n",
       "25%                       NaN     5.800000           NaN              0.000000  \n",
       "50%                       NaN     6.600000           NaN            166.000000  \n",
       "75%                       NaN     7.200000           NaN           3000.000000  \n",
       "max             137000.000000     9.500000     16.000000         349000.000000  "
      ]
     },
     "execution_count": 186,
     "metadata": {},
     "output_type": "execute_result"
    }
   ],
   "source": [
    "movies.describe()"
   ]
  },
  {
   "cell_type": "code",
   "execution_count": 56,
   "metadata": {
    "collapsed": true
   },
   "outputs": [],
   "source": [
    "movies.dropna(subset = [\"gross\"], inplace=True)"
   ]
  },
  {
   "cell_type": "code",
   "execution_count": 57,
   "metadata": {
    "collapsed": false
   },
   "outputs": [
    {
     "data": {
      "text/plain": [
       "(4159, 28)"
      ]
     },
     "execution_count": 57,
     "metadata": {},
     "output_type": "execute_result"
    }
   ],
   "source": [
    "movies.shape"
   ]
  },
  {
   "cell_type": "code",
   "execution_count": 196,
   "metadata": {
    "collapsed": false
   },
   "outputs": [
    {
     "name": "stderr",
     "output_type": "stream",
     "text": [
      "C:\\Users\\shoprabhakar\\AppData\\Local\\Continuum\\Anaconda3\\lib\\site-packages\\numpy\\lib\\function_base.py:3834: RuntimeWarning: Invalid value encountered in percentile\n",
      "  RuntimeWarning)\n"
     ]
    },
    {
     "data": {
      "text/html": [
       "<div>\n",
       "<table border=\"1\" class=\"dataframe\">\n",
       "  <thead>\n",
       "    <tr style=\"text-align: right;\">\n",
       "      <th></th>\n",
       "      <th>num_critic_for_reviews</th>\n",
       "      <th>duration</th>\n",
       "      <th>director_facebook_likes</th>\n",
       "      <th>actor_3_facebook_likes</th>\n",
       "      <th>actor_1_facebook_likes</th>\n",
       "      <th>gross</th>\n",
       "      <th>num_voted_users</th>\n",
       "      <th>cast_total_facebook_likes</th>\n",
       "      <th>facenumber_in_poster</th>\n",
       "      <th>num_user_for_reviews</th>\n",
       "      <th>budget</th>\n",
       "      <th>title_year</th>\n",
       "      <th>actor_2_facebook_likes</th>\n",
       "      <th>imdb_score</th>\n",
       "      <th>aspect_ratio</th>\n",
       "      <th>movie_facebook_likes</th>\n",
       "    </tr>\n",
       "  </thead>\n",
       "  <tbody>\n",
       "    <tr>\n",
       "      <th>count</th>\n",
       "      <td>4156.000000</td>\n",
       "      <td>4157.000000</td>\n",
       "      <td>4156.00000</td>\n",
       "      <td>4146.000000</td>\n",
       "      <td>4155.000000</td>\n",
       "      <td>4.159000e+03</td>\n",
       "      <td>4.159000e+03</td>\n",
       "      <td>4159.000000</td>\n",
       "      <td>4152.000000</td>\n",
       "      <td>4158.000000</td>\n",
       "      <td>3.891000e+03</td>\n",
       "      <td>4156.000000</td>\n",
       "      <td>4153.000000</td>\n",
       "      <td>4159.000000</td>\n",
       "      <td>4054.000000</td>\n",
       "      <td>4159.000000</td>\n",
       "    </tr>\n",
       "    <tr>\n",
       "      <th>mean</th>\n",
       "      <td>159.333013</td>\n",
       "      <td>109.535242</td>\n",
       "      <td>747.16001</td>\n",
       "      <td>723.764834</td>\n",
       "      <td>7344.085921</td>\n",
       "      <td>4.846841e+07</td>\n",
       "      <td>9.748653e+04</td>\n",
       "      <td>10882.029574</td>\n",
       "      <td>1.373555</td>\n",
       "      <td>312.829004</td>\n",
       "      <td>4.521028e+07</td>\n",
       "      <td>2003.267565</td>\n",
       "      <td>1888.046472</td>\n",
       "      <td>6.469897</td>\n",
       "      <td>2.105740</td>\n",
       "      <td>8730.617697</td>\n",
       "    </tr>\n",
       "    <tr>\n",
       "      <th>std</th>\n",
       "      <td>122.574779</td>\n",
       "      <td>22.693707</td>\n",
       "      <td>2946.34955</td>\n",
       "      <td>1810.821487</td>\n",
       "      <td>15050.541525</td>\n",
       "      <td>6.845299e+07</td>\n",
       "      <td>1.472604e+05</td>\n",
       "      <td>18517.280893</td>\n",
       "      <td>2.040875</td>\n",
       "      <td>399.464221</td>\n",
       "      <td>2.223895e+08</td>\n",
       "      <td>9.945465</td>\n",
       "      <td>4370.489706</td>\n",
       "      <td>1.052182</td>\n",
       "      <td>0.349726</td>\n",
       "      <td>20788.260808</td>\n",
       "    </tr>\n",
       "    <tr>\n",
       "      <th>min</th>\n",
       "      <td>1.000000</td>\n",
       "      <td>34.000000</td>\n",
       "      <td>0.00000</td>\n",
       "      <td>0.000000</td>\n",
       "      <td>0.000000</td>\n",
       "      <td>1.620000e+02</td>\n",
       "      <td>5.000000e+00</td>\n",
       "      <td>0.000000</td>\n",
       "      <td>0.000000</td>\n",
       "      <td>1.000000</td>\n",
       "      <td>2.180000e+02</td>\n",
       "      <td>1920.000000</td>\n",
       "      <td>0.000000</td>\n",
       "      <td>1.600000</td>\n",
       "      <td>1.180000</td>\n",
       "      <td>0.000000</td>\n",
       "    </tr>\n",
       "    <tr>\n",
       "      <th>25%</th>\n",
       "      <td>NaN</td>\n",
       "      <td>NaN</td>\n",
       "      <td>NaN</td>\n",
       "      <td>NaN</td>\n",
       "      <td>NaN</td>\n",
       "      <td>5.340988e+06</td>\n",
       "      <td>1.511700e+04</td>\n",
       "      <td>1736.500000</td>\n",
       "      <td>NaN</td>\n",
       "      <td>NaN</td>\n",
       "      <td>NaN</td>\n",
       "      <td>NaN</td>\n",
       "      <td>NaN</td>\n",
       "      <td>5.900000</td>\n",
       "      <td>NaN</td>\n",
       "      <td>0.000000</td>\n",
       "    </tr>\n",
       "    <tr>\n",
       "      <th>50%</th>\n",
       "      <td>NaN</td>\n",
       "      <td>NaN</td>\n",
       "      <td>NaN</td>\n",
       "      <td>NaN</td>\n",
       "      <td>NaN</td>\n",
       "      <td>2.551750e+07</td>\n",
       "      <td>4.639600e+04</td>\n",
       "      <td>3697.000000</td>\n",
       "      <td>NaN</td>\n",
       "      <td>NaN</td>\n",
       "      <td>NaN</td>\n",
       "      <td>NaN</td>\n",
       "      <td>NaN</td>\n",
       "      <td>6.600000</td>\n",
       "      <td>NaN</td>\n",
       "      <td>182.000000</td>\n",
       "    </tr>\n",
       "    <tr>\n",
       "      <th>75%</th>\n",
       "      <td>NaN</td>\n",
       "      <td>NaN</td>\n",
       "      <td>NaN</td>\n",
       "      <td>NaN</td>\n",
       "      <td>NaN</td>\n",
       "      <td>6.230944e+07</td>\n",
       "      <td>1.145815e+05</td>\n",
       "      <td>15561.500000</td>\n",
       "      <td>NaN</td>\n",
       "      <td>NaN</td>\n",
       "      <td>NaN</td>\n",
       "      <td>NaN</td>\n",
       "      <td>NaN</td>\n",
       "      <td>7.200000</td>\n",
       "      <td>NaN</td>\n",
       "      <td>10000.000000</td>\n",
       "    </tr>\n",
       "    <tr>\n",
       "      <th>max</th>\n",
       "      <td>813.000000</td>\n",
       "      <td>334.000000</td>\n",
       "      <td>23000.00000</td>\n",
       "      <td>23000.000000</td>\n",
       "      <td>640000.000000</td>\n",
       "      <td>7.605058e+08</td>\n",
       "      <td>1.689764e+06</td>\n",
       "      <td>656730.000000</td>\n",
       "      <td>43.000000</td>\n",
       "      <td>5060.000000</td>\n",
       "      <td>1.221550e+10</td>\n",
       "      <td>2016.000000</td>\n",
       "      <td>137000.000000</td>\n",
       "      <td>9.300000</td>\n",
       "      <td>16.000000</td>\n",
       "      <td>349000.000000</td>\n",
       "    </tr>\n",
       "  </tbody>\n",
       "</table>\n",
       "</div>"
      ],
      "text/plain": [
       "       num_critic_for_reviews     duration  director_facebook_likes  \\\n",
       "count             4156.000000  4157.000000               4156.00000   \n",
       "mean               159.333013   109.535242                747.16001   \n",
       "std                122.574779    22.693707               2946.34955   \n",
       "min                  1.000000    34.000000                  0.00000   \n",
       "25%                       NaN          NaN                      NaN   \n",
       "50%                       NaN          NaN                      NaN   \n",
       "75%                       NaN          NaN                      NaN   \n",
       "max                813.000000   334.000000              23000.00000   \n",
       "\n",
       "       actor_3_facebook_likes  actor_1_facebook_likes         gross  \\\n",
       "count             4146.000000             4155.000000  4.159000e+03   \n",
       "mean               723.764834             7344.085921  4.846841e+07   \n",
       "std               1810.821487            15050.541525  6.845299e+07   \n",
       "min                  0.000000                0.000000  1.620000e+02   \n",
       "25%                       NaN                     NaN  5.340988e+06   \n",
       "50%                       NaN                     NaN  2.551750e+07   \n",
       "75%                       NaN                     NaN  6.230944e+07   \n",
       "max              23000.000000           640000.000000  7.605058e+08   \n",
       "\n",
       "       num_voted_users  cast_total_facebook_likes  facenumber_in_poster  \\\n",
       "count     4.159000e+03                4159.000000           4152.000000   \n",
       "mean      9.748653e+04               10882.029574              1.373555   \n",
       "std       1.472604e+05               18517.280893              2.040875   \n",
       "min       5.000000e+00                   0.000000              0.000000   \n",
       "25%       1.511700e+04                1736.500000                   NaN   \n",
       "50%       4.639600e+04                3697.000000                   NaN   \n",
       "75%       1.145815e+05               15561.500000                   NaN   \n",
       "max       1.689764e+06              656730.000000             43.000000   \n",
       "\n",
       "       num_user_for_reviews        budget   title_year  \\\n",
       "count           4158.000000  3.891000e+03  4156.000000   \n",
       "mean             312.829004  4.521028e+07  2003.267565   \n",
       "std              399.464221  2.223895e+08     9.945465   \n",
       "min                1.000000  2.180000e+02  1920.000000   \n",
       "25%                     NaN           NaN          NaN   \n",
       "50%                     NaN           NaN          NaN   \n",
       "75%                     NaN           NaN          NaN   \n",
       "max             5060.000000  1.221550e+10  2016.000000   \n",
       "\n",
       "       actor_2_facebook_likes   imdb_score  aspect_ratio  movie_facebook_likes  \n",
       "count             4153.000000  4159.000000   4054.000000           4159.000000  \n",
       "mean              1888.046472     6.469897      2.105740           8730.617697  \n",
       "std               4370.489706     1.052182      0.349726          20788.260808  \n",
       "min                  0.000000     1.600000      1.180000              0.000000  \n",
       "25%                       NaN     5.900000           NaN              0.000000  \n",
       "50%                       NaN     6.600000           NaN            182.000000  \n",
       "75%                       NaN     7.200000           NaN          10000.000000  \n",
       "max             137000.000000     9.300000     16.000000         349000.000000  "
      ]
     },
     "execution_count": 196,
     "metadata": {},
     "output_type": "execute_result"
    }
   ],
   "source": [
    "movies.describe()"
   ]
  },
  {
   "cell_type": "code",
   "execution_count": 199,
   "metadata": {
    "collapsed": false
   },
   "outputs": [
    {
     "data": {
      "text/html": [
       "<div>\n",
       "<table border=\"1\" class=\"dataframe\">\n",
       "  <thead>\n",
       "    <tr style=\"text-align: right;\">\n",
       "      <th></th>\n",
       "      <th>color</th>\n",
       "      <th>director_name</th>\n",
       "      <th>num_critic_for_reviews</th>\n",
       "      <th>duration</th>\n",
       "      <th>director_facebook_likes</th>\n",
       "      <th>actor_3_facebook_likes</th>\n",
       "      <th>actor_2_name</th>\n",
       "      <th>actor_1_facebook_likes</th>\n",
       "      <th>gross</th>\n",
       "      <th>genres</th>\n",
       "      <th>...</th>\n",
       "      <th>num_user_for_reviews</th>\n",
       "      <th>language</th>\n",
       "      <th>country</th>\n",
       "      <th>content_rating</th>\n",
       "      <th>budget</th>\n",
       "      <th>title_year</th>\n",
       "      <th>actor_2_facebook_likes</th>\n",
       "      <th>imdb_score</th>\n",
       "      <th>aspect_ratio</th>\n",
       "      <th>movie_facebook_likes</th>\n",
       "    </tr>\n",
       "  </thead>\n",
       "  <tbody>\n",
       "    <tr>\n",
       "      <th>0</th>\n",
       "      <td>Color</td>\n",
       "      <td>James Cameron</td>\n",
       "      <td>723.0</td>\n",
       "      <td>178.0</td>\n",
       "      <td>0.0</td>\n",
       "      <td>855.0</td>\n",
       "      <td>Joel David Moore</td>\n",
       "      <td>1000.0</td>\n",
       "      <td>760505847.0</td>\n",
       "      <td>Action|Adventure|Fantasy|Sci-Fi</td>\n",
       "      <td>...</td>\n",
       "      <td>3054.0</td>\n",
       "      <td>English</td>\n",
       "      <td>USA</td>\n",
       "      <td>PG-13</td>\n",
       "      <td>237000000.0</td>\n",
       "      <td>2009.0</td>\n",
       "      <td>936.0</td>\n",
       "      <td>7.9</td>\n",
       "      <td>1.78</td>\n",
       "      <td>33000</td>\n",
       "    </tr>\n",
       "    <tr>\n",
       "      <th>1</th>\n",
       "      <td>Color</td>\n",
       "      <td>Gore Verbinski</td>\n",
       "      <td>302.0</td>\n",
       "      <td>169.0</td>\n",
       "      <td>563.0</td>\n",
       "      <td>1000.0</td>\n",
       "      <td>Orlando Bloom</td>\n",
       "      <td>40000.0</td>\n",
       "      <td>309404152.0</td>\n",
       "      <td>Action|Adventure|Fantasy</td>\n",
       "      <td>...</td>\n",
       "      <td>1238.0</td>\n",
       "      <td>English</td>\n",
       "      <td>USA</td>\n",
       "      <td>PG-13</td>\n",
       "      <td>300000000.0</td>\n",
       "      <td>2007.0</td>\n",
       "      <td>5000.0</td>\n",
       "      <td>7.1</td>\n",
       "      <td>2.35</td>\n",
       "      <td>0</td>\n",
       "    </tr>\n",
       "    <tr>\n",
       "      <th>2</th>\n",
       "      <td>Color</td>\n",
       "      <td>Sam Mendes</td>\n",
       "      <td>602.0</td>\n",
       "      <td>148.0</td>\n",
       "      <td>0.0</td>\n",
       "      <td>161.0</td>\n",
       "      <td>Rory Kinnear</td>\n",
       "      <td>11000.0</td>\n",
       "      <td>200074175.0</td>\n",
       "      <td>Action|Adventure|Thriller</td>\n",
       "      <td>...</td>\n",
       "      <td>994.0</td>\n",
       "      <td>English</td>\n",
       "      <td>UK</td>\n",
       "      <td>PG-13</td>\n",
       "      <td>245000000.0</td>\n",
       "      <td>2015.0</td>\n",
       "      <td>393.0</td>\n",
       "      <td>6.8</td>\n",
       "      <td>2.35</td>\n",
       "      <td>85000</td>\n",
       "    </tr>\n",
       "    <tr>\n",
       "      <th>3</th>\n",
       "      <td>Color</td>\n",
       "      <td>Christopher Nolan</td>\n",
       "      <td>813.0</td>\n",
       "      <td>164.0</td>\n",
       "      <td>22000.0</td>\n",
       "      <td>23000.0</td>\n",
       "      <td>Christian Bale</td>\n",
       "      <td>27000.0</td>\n",
       "      <td>448130642.0</td>\n",
       "      <td>Action|Thriller</td>\n",
       "      <td>...</td>\n",
       "      <td>2701.0</td>\n",
       "      <td>English</td>\n",
       "      <td>USA</td>\n",
       "      <td>PG-13</td>\n",
       "      <td>250000000.0</td>\n",
       "      <td>2012.0</td>\n",
       "      <td>23000.0</td>\n",
       "      <td>8.5</td>\n",
       "      <td>2.35</td>\n",
       "      <td>164000</td>\n",
       "    </tr>\n",
       "    <tr>\n",
       "      <th>5</th>\n",
       "      <td>Color</td>\n",
       "      <td>Andrew Stanton</td>\n",
       "      <td>462.0</td>\n",
       "      <td>132.0</td>\n",
       "      <td>475.0</td>\n",
       "      <td>530.0</td>\n",
       "      <td>Samantha Morton</td>\n",
       "      <td>640.0</td>\n",
       "      <td>73058679.0</td>\n",
       "      <td>Action|Adventure|Sci-Fi</td>\n",
       "      <td>...</td>\n",
       "      <td>738.0</td>\n",
       "      <td>English</td>\n",
       "      <td>USA</td>\n",
       "      <td>PG-13</td>\n",
       "      <td>263700000.0</td>\n",
       "      <td>2012.0</td>\n",
       "      <td>632.0</td>\n",
       "      <td>6.6</td>\n",
       "      <td>2.35</td>\n",
       "      <td>24000</td>\n",
       "    </tr>\n",
       "  </tbody>\n",
       "</table>\n",
       "<p>5 rows × 28 columns</p>\n",
       "</div>"
      ],
      "text/plain": [
       "   color      director_name  num_critic_for_reviews  duration  \\\n",
       "0  Color      James Cameron                   723.0     178.0   \n",
       "1  Color     Gore Verbinski                   302.0     169.0   \n",
       "2  Color         Sam Mendes                   602.0     148.0   \n",
       "3  Color  Christopher Nolan                   813.0     164.0   \n",
       "5  Color     Andrew Stanton                   462.0     132.0   \n",
       "\n",
       "   director_facebook_likes  actor_3_facebook_likes      actor_2_name  \\\n",
       "0                      0.0                   855.0  Joel David Moore   \n",
       "1                    563.0                  1000.0     Orlando Bloom   \n",
       "2                      0.0                   161.0      Rory Kinnear   \n",
       "3                  22000.0                 23000.0    Christian Bale   \n",
       "5                    475.0                   530.0   Samantha Morton   \n",
       "\n",
       "   actor_1_facebook_likes        gross                           genres  \\\n",
       "0                  1000.0  760505847.0  Action|Adventure|Fantasy|Sci-Fi   \n",
       "1                 40000.0  309404152.0         Action|Adventure|Fantasy   \n",
       "2                 11000.0  200074175.0        Action|Adventure|Thriller   \n",
       "3                 27000.0  448130642.0                  Action|Thriller   \n",
       "5                   640.0   73058679.0          Action|Adventure|Sci-Fi   \n",
       "\n",
       "          ...          num_user_for_reviews language  country  content_rating  \\\n",
       "0         ...                        3054.0  English      USA           PG-13   \n",
       "1         ...                        1238.0  English      USA           PG-13   \n",
       "2         ...                         994.0  English       UK           PG-13   \n",
       "3         ...                        2701.0  English      USA           PG-13   \n",
       "5         ...                         738.0  English      USA           PG-13   \n",
       "\n",
       "        budget  title_year actor_2_facebook_likes imdb_score  aspect_ratio  \\\n",
       "0  237000000.0      2009.0                  936.0        7.9          1.78   \n",
       "1  300000000.0      2007.0                 5000.0        7.1          2.35   \n",
       "2  245000000.0      2015.0                  393.0        6.8          2.35   \n",
       "3  250000000.0      2012.0                23000.0        8.5          2.35   \n",
       "5  263700000.0      2012.0                  632.0        6.6          2.35   \n",
       "\n",
       "  movie_facebook_likes  \n",
       "0                33000  \n",
       "1                    0  \n",
       "2                85000  \n",
       "3               164000  \n",
       "5                24000  \n",
       "\n",
       "[5 rows x 28 columns]"
      ]
     },
     "execution_count": 199,
     "metadata": {},
     "output_type": "execute_result"
    }
   ],
   "source": [
    "movies.head()"
   ]
  },
  {
   "cell_type": "code",
   "execution_count": 198,
   "metadata": {
    "collapsed": false
   },
   "outputs": [
    {
     "name": "stdout",
     "output_type": "stream",
     "text": [
      "<class 'pandas.core.frame.DataFrame'>\n",
      "Int64Index: 4159 entries, 0 to 5042\n",
      "Data columns (total 28 columns):\n",
      "color                        4157 non-null object\n",
      "director_name                4156 non-null object\n",
      "num_critic_for_reviews       4156 non-null float64\n",
      "duration                     4157 non-null float64\n",
      "director_facebook_likes      4156 non-null float64\n",
      "actor_3_facebook_likes       4146 non-null float64\n",
      "actor_2_name                 4153 non-null object\n",
      "actor_1_facebook_likes       4155 non-null float64\n",
      "gross                        4159 non-null float64\n",
      "genres                       4159 non-null object\n",
      "actor_1_name                 4155 non-null object\n",
      "movie_title                  4159 non-null object\n",
      "num_voted_users              4159 non-null int64\n",
      "cast_total_facebook_likes    4159 non-null int64\n",
      "actor_3_name                 4146 non-null object\n",
      "facenumber_in_poster         4152 non-null float64\n",
      "plot_keywords                4119 non-null object\n",
      "movie_imdb_link              4159 non-null object\n",
      "num_user_for_reviews         4158 non-null float64\n",
      "language                     4156 non-null object\n",
      "country                      4159 non-null object\n",
      "content_rating               4095 non-null object\n",
      "budget                       3891 non-null float64\n",
      "title_year                   4156 non-null float64\n",
      "actor_2_facebook_likes       4153 non-null float64\n",
      "imdb_score                   4159 non-null float64\n",
      "aspect_ratio                 4054 non-null float64\n",
      "movie_facebook_likes         4159 non-null int64\n",
      "dtypes: float64(13), int64(3), object(12)\n",
      "memory usage: 942.3+ KB\n"
     ]
    }
   ],
   "source": [
    "movies.info()"
   ]
  },
  {
   "cell_type": "code",
   "execution_count": 227,
   "metadata": {
    "collapsed": false
   },
   "outputs": [
    {
     "data": {
      "text/plain": [
       "Color               0.966562\n",
       " Black and White    0.033438\n",
       "Name: color, dtype: float64"
      ]
     },
     "execution_count": 227,
     "metadata": {},
     "output_type": "execute_result"
    }
   ],
   "source": [
    "movies.color.value_counts(normalize=True)"
   ]
  },
  {
   "cell_type": "code",
   "execution_count": null,
   "metadata": {
    "collapsed": true
   },
   "outputs": [],
   "source": [
    "# Transform to dummy \n",
    "\n",
    "color # 96.6% color, rest B/W\n",
    "content_rating\n",
    "\n",
    "\n",
    "# Drop from the training dataset\n",
    "director_name # TOO many distinct values\n",
    "actor_2_name\n",
    "genres\n",
    "actor_1_name\n",
    "movie_title \n",
    "actor_3_name\n",
    "plot_keywords\n",
    "movie_imdb_link\n",
    "language # 94% is english. not distributed well\n",
    "country # Can add it later\n",
    "\n",
    "\n",
    "#Keep\n",
    "num_critic_for_reviews\n",
    "duration\n",
    "director_facebook_likes\n",
    "actor_3_facebook_likes\n",
    "actor_1_facebook_likes\n",
    "num_voted_users\n",
    "cast_total_facebook_likes\n",
    "facenumber_in_poster\n",
    "num_user_for_reviews\n",
    "budget\n",
    "title_year\n",
    "actor_2_facebook_likes\n",
    "imdb_score\n",
    "aspect_ratio\n",
    "movie_facebook_likes\n"
   ]
  },
  {
   "cell_type": "code",
   "execution_count": 58,
   "metadata": {
    "collapsed": true
   },
   "outputs": [],
   "source": [
    "color_dums = pd.get_dummies(movies.color, prefix = \"col\", drop_first= True)\n",
    "content_rating_dums = pd.get_dummies(movies.content_rating, prefix = \"cont_rtng\", drop_first= True)"
   ]
  },
  {
   "cell_type": "code",
   "execution_count": 59,
   "metadata": {
    "collapsed": true
   },
   "outputs": [],
   "source": [
    "# Drop the columns not being used\n",
    "\n",
    "m_cols = [\"director_name\",\"actor_2_name\",\"genres\",\"actor_1_name\",\"movie_title\",\"actor_3_name\",\"plot_keywords\",\"movie_imdb_link\",\"language\",\"country\"]\n",
    "\n",
    "movies.drop(m_cols,axis =1,inplace = True)"
   ]
  },
  {
   "cell_type": "code",
   "execution_count": 60,
   "metadata": {
    "collapsed": false,
    "scrolled": true
   },
   "outputs": [
    {
     "data": {
      "text/html": [
       "<div>\n",
       "<table border=\"1\" class=\"dataframe\">\n",
       "  <thead>\n",
       "    <tr style=\"text-align: right;\">\n",
       "      <th></th>\n",
       "      <th>num_critic_for_reviews</th>\n",
       "      <th>duration</th>\n",
       "      <th>director_facebook_likes</th>\n",
       "      <th>actor_3_facebook_likes</th>\n",
       "      <th>actor_1_facebook_likes</th>\n",
       "      <th>gross</th>\n",
       "      <th>num_voted_users</th>\n",
       "      <th>cast_total_facebook_likes</th>\n",
       "      <th>facenumber_in_poster</th>\n",
       "      <th>num_user_for_reviews</th>\n",
       "      <th>...</th>\n",
       "      <th>cont_rtng_M</th>\n",
       "      <th>cont_rtng_NC-17</th>\n",
       "      <th>cont_rtng_Not Rated</th>\n",
       "      <th>cont_rtng_PG</th>\n",
       "      <th>cont_rtng_PG-13</th>\n",
       "      <th>cont_rtng_Passed</th>\n",
       "      <th>cont_rtng_R</th>\n",
       "      <th>cont_rtng_TV-MA</th>\n",
       "      <th>cont_rtng_Unrated</th>\n",
       "      <th>cont_rtng_X</th>\n",
       "    </tr>\n",
       "  </thead>\n",
       "  <tbody>\n",
       "    <tr>\n",
       "      <th>0</th>\n",
       "      <td>723.0</td>\n",
       "      <td>178.0</td>\n",
       "      <td>0.0</td>\n",
       "      <td>855.0</td>\n",
       "      <td>1000.0</td>\n",
       "      <td>760505847.0</td>\n",
       "      <td>886204</td>\n",
       "      <td>4834</td>\n",
       "      <td>0.0</td>\n",
       "      <td>3054.0</td>\n",
       "      <td>...</td>\n",
       "      <td>0.0</td>\n",
       "      <td>0.0</td>\n",
       "      <td>0.0</td>\n",
       "      <td>0.0</td>\n",
       "      <td>1.0</td>\n",
       "      <td>0.0</td>\n",
       "      <td>0.0</td>\n",
       "      <td>0.0</td>\n",
       "      <td>0.0</td>\n",
       "      <td>0.0</td>\n",
       "    </tr>\n",
       "    <tr>\n",
       "      <th>1</th>\n",
       "      <td>302.0</td>\n",
       "      <td>169.0</td>\n",
       "      <td>563.0</td>\n",
       "      <td>1000.0</td>\n",
       "      <td>40000.0</td>\n",
       "      <td>309404152.0</td>\n",
       "      <td>471220</td>\n",
       "      <td>48350</td>\n",
       "      <td>0.0</td>\n",
       "      <td>1238.0</td>\n",
       "      <td>...</td>\n",
       "      <td>0.0</td>\n",
       "      <td>0.0</td>\n",
       "      <td>0.0</td>\n",
       "      <td>0.0</td>\n",
       "      <td>1.0</td>\n",
       "      <td>0.0</td>\n",
       "      <td>0.0</td>\n",
       "      <td>0.0</td>\n",
       "      <td>0.0</td>\n",
       "      <td>0.0</td>\n",
       "    </tr>\n",
       "    <tr>\n",
       "      <th>2</th>\n",
       "      <td>602.0</td>\n",
       "      <td>148.0</td>\n",
       "      <td>0.0</td>\n",
       "      <td>161.0</td>\n",
       "      <td>11000.0</td>\n",
       "      <td>200074175.0</td>\n",
       "      <td>275868</td>\n",
       "      <td>11700</td>\n",
       "      <td>1.0</td>\n",
       "      <td>994.0</td>\n",
       "      <td>...</td>\n",
       "      <td>0.0</td>\n",
       "      <td>0.0</td>\n",
       "      <td>0.0</td>\n",
       "      <td>0.0</td>\n",
       "      <td>1.0</td>\n",
       "      <td>0.0</td>\n",
       "      <td>0.0</td>\n",
       "      <td>0.0</td>\n",
       "      <td>0.0</td>\n",
       "      <td>0.0</td>\n",
       "    </tr>\n",
       "    <tr>\n",
       "      <th>3</th>\n",
       "      <td>813.0</td>\n",
       "      <td>164.0</td>\n",
       "      <td>22000.0</td>\n",
       "      <td>23000.0</td>\n",
       "      <td>27000.0</td>\n",
       "      <td>448130642.0</td>\n",
       "      <td>1144337</td>\n",
       "      <td>106759</td>\n",
       "      <td>0.0</td>\n",
       "      <td>2701.0</td>\n",
       "      <td>...</td>\n",
       "      <td>0.0</td>\n",
       "      <td>0.0</td>\n",
       "      <td>0.0</td>\n",
       "      <td>0.0</td>\n",
       "      <td>1.0</td>\n",
       "      <td>0.0</td>\n",
       "      <td>0.0</td>\n",
       "      <td>0.0</td>\n",
       "      <td>0.0</td>\n",
       "      <td>0.0</td>\n",
       "    </tr>\n",
       "    <tr>\n",
       "      <th>5</th>\n",
       "      <td>462.0</td>\n",
       "      <td>132.0</td>\n",
       "      <td>475.0</td>\n",
       "      <td>530.0</td>\n",
       "      <td>640.0</td>\n",
       "      <td>73058679.0</td>\n",
       "      <td>212204</td>\n",
       "      <td>1873</td>\n",
       "      <td>1.0</td>\n",
       "      <td>738.0</td>\n",
       "      <td>...</td>\n",
       "      <td>0.0</td>\n",
       "      <td>0.0</td>\n",
       "      <td>0.0</td>\n",
       "      <td>0.0</td>\n",
       "      <td>1.0</td>\n",
       "      <td>0.0</td>\n",
       "      <td>0.0</td>\n",
       "      <td>0.0</td>\n",
       "      <td>0.0</td>\n",
       "      <td>0.0</td>\n",
       "    </tr>\n",
       "  </tbody>\n",
       "</table>\n",
       "<p>5 rows × 29 columns</p>\n",
       "</div>"
      ],
      "text/plain": [
       "   num_critic_for_reviews  duration  director_facebook_likes  \\\n",
       "0                   723.0     178.0                      0.0   \n",
       "1                   302.0     169.0                    563.0   \n",
       "2                   602.0     148.0                      0.0   \n",
       "3                   813.0     164.0                  22000.0   \n",
       "5                   462.0     132.0                    475.0   \n",
       "\n",
       "   actor_3_facebook_likes  actor_1_facebook_likes        gross  \\\n",
       "0                   855.0                  1000.0  760505847.0   \n",
       "1                  1000.0                 40000.0  309404152.0   \n",
       "2                   161.0                 11000.0  200074175.0   \n",
       "3                 23000.0                 27000.0  448130642.0   \n",
       "5                   530.0                   640.0   73058679.0   \n",
       "\n",
       "   num_voted_users  cast_total_facebook_likes  facenumber_in_poster  \\\n",
       "0           886204                       4834                   0.0   \n",
       "1           471220                      48350                   0.0   \n",
       "2           275868                      11700                   1.0   \n",
       "3          1144337                     106759                   0.0   \n",
       "5           212204                       1873                   1.0   \n",
       "\n",
       "   num_user_for_reviews     ...       cont_rtng_M  cont_rtng_NC-17  \\\n",
       "0                3054.0     ...               0.0              0.0   \n",
       "1                1238.0     ...               0.0              0.0   \n",
       "2                 994.0     ...               0.0              0.0   \n",
       "3                2701.0     ...               0.0              0.0   \n",
       "5                 738.0     ...               0.0              0.0   \n",
       "\n",
       "   cont_rtng_Not Rated  cont_rtng_PG  cont_rtng_PG-13  cont_rtng_Passed  \\\n",
       "0                  0.0           0.0              1.0               0.0   \n",
       "1                  0.0           0.0              1.0               0.0   \n",
       "2                  0.0           0.0              1.0               0.0   \n",
       "3                  0.0           0.0              1.0               0.0   \n",
       "5                  0.0           0.0              1.0               0.0   \n",
       "\n",
       "   cont_rtng_R  cont_rtng_TV-MA  cont_rtng_Unrated  cont_rtng_X  \n",
       "0          0.0              0.0                0.0          0.0  \n",
       "1          0.0              0.0                0.0          0.0  \n",
       "2          0.0              0.0                0.0          0.0  \n",
       "3          0.0              0.0                0.0          0.0  \n",
       "5          0.0              0.0                0.0          0.0  \n",
       "\n",
       "[5 rows x 29 columns]"
      ]
     },
     "execution_count": 60,
     "metadata": {},
     "output_type": "execute_result"
    }
   ],
   "source": [
    "m2_cols = [\"color\",\"content_rating\"]\n",
    "\n",
    "movies.drop(m2_cols,axis =1,inplace = True)\n",
    "mov_df = pd.concat([movies,color_dums,content_rating_dums],axis = 1)\n",
    "mov_df.head()"
   ]
  },
  {
   "cell_type": "code",
   "execution_count": 237,
   "metadata": {
    "collapsed": false
   },
   "outputs": [
    {
     "data": {
      "text/plain": [
       "(4159, 29)"
      ]
     },
     "execution_count": 237,
     "metadata": {},
     "output_type": "execute_result"
    }
   ],
   "source": [
    "mov_df.shape"
   ]
  },
  {
   "cell_type": "code",
   "execution_count": 10,
   "metadata": {
    "collapsed": true
   },
   "outputs": [],
   "source": [
    "mov_df2 = mov_df.dropna()"
   ]
  },
  {
   "cell_type": "code",
   "execution_count": 239,
   "metadata": {
    "collapsed": false
   },
   "outputs": [
    {
     "data": {
      "text/plain": [
       "(3801, 29)"
      ]
     },
     "execution_count": 239,
     "metadata": {},
     "output_type": "execute_result"
    }
   ],
   "source": [
    "mov_df2.shape"
   ]
  },
  {
   "cell_type": "code",
   "execution_count": 254,
   "metadata": {
    "collapsed": false
   },
   "outputs": [
    {
     "data": {
      "text/html": [
       "<div>\n",
       "<table border=\"1\" class=\"dataframe\">\n",
       "  <thead>\n",
       "    <tr style=\"text-align: right;\">\n",
       "      <th></th>\n",
       "      <th>num_critic_for_reviews</th>\n",
       "      <th>duration</th>\n",
       "      <th>director_facebook_likes</th>\n",
       "      <th>actor_3_facebook_likes</th>\n",
       "      <th>actor_1_facebook_likes</th>\n",
       "      <th>gross</th>\n",
       "      <th>num_voted_users</th>\n",
       "      <th>cast_total_facebook_likes</th>\n",
       "      <th>facenumber_in_poster</th>\n",
       "      <th>num_user_for_reviews</th>\n",
       "      <th>...</th>\n",
       "      <th>cont_rtng_M</th>\n",
       "      <th>cont_rtng_NC-17</th>\n",
       "      <th>cont_rtng_Not Rated</th>\n",
       "      <th>cont_rtng_PG</th>\n",
       "      <th>cont_rtng_PG-13</th>\n",
       "      <th>cont_rtng_Passed</th>\n",
       "      <th>cont_rtng_R</th>\n",
       "      <th>cont_rtng_TV-MA</th>\n",
       "      <th>cont_rtng_Unrated</th>\n",
       "      <th>cont_rtng_X</th>\n",
       "    </tr>\n",
       "  </thead>\n",
       "  <tbody>\n",
       "    <tr>\n",
       "      <th>count</th>\n",
       "      <td>3801.000000</td>\n",
       "      <td>3801.000000</td>\n",
       "      <td>3801.000000</td>\n",
       "      <td>3801.000000</td>\n",
       "      <td>3801.000000</td>\n",
       "      <td>3.801000e+03</td>\n",
       "      <td>3.801000e+03</td>\n",
       "      <td>3801.000000</td>\n",
       "      <td>3801.000000</td>\n",
       "      <td>3801.000000</td>\n",
       "      <td>...</td>\n",
       "      <td>3801.000000</td>\n",
       "      <td>3801.000000</td>\n",
       "      <td>3801.000000</td>\n",
       "      <td>3801.000000</td>\n",
       "      <td>3801.000000</td>\n",
       "      <td>3801.000000</td>\n",
       "      <td>3801.000000</td>\n",
       "      <td>3801.0</td>\n",
       "      <td>3801.000000</td>\n",
       "      <td>3801.000000</td>\n",
       "    </tr>\n",
       "    <tr>\n",
       "      <th>mean</th>\n",
       "      <td>165.848724</td>\n",
       "      <td>110.207840</td>\n",
       "      <td>798.599053</td>\n",
       "      <td>763.819521</td>\n",
       "      <td>7673.008419</td>\n",
       "      <td>5.200576e+07</td>\n",
       "      <td>1.046772e+05</td>\n",
       "      <td>11414.850303</td>\n",
       "      <td>1.379111</td>\n",
       "      <td>333.571692</td>\n",
       "      <td>...</td>\n",
       "      <td>0.000526</td>\n",
       "      <td>0.001579</td>\n",
       "      <td>0.008945</td>\n",
       "      <td>0.149171</td>\n",
       "      <td>0.345435</td>\n",
       "      <td>0.000789</td>\n",
       "      <td>0.449619</td>\n",
       "      <td>0.0</td>\n",
       "      <td>0.006051</td>\n",
       "      <td>0.002631</td>\n",
       "    </tr>\n",
       "    <tr>\n",
       "      <th>std</th>\n",
       "      <td>123.564807</td>\n",
       "      <td>22.688693</td>\n",
       "      <td>3051.030222</td>\n",
       "      <td>1884.372443</td>\n",
       "      <td>15448.143479</td>\n",
       "      <td>7.012065e+07</td>\n",
       "      <td>1.515070e+05</td>\n",
       "      <td>19045.793637</td>\n",
       "      <td>2.052899</td>\n",
       "      <td>410.048394</td>\n",
       "      <td>...</td>\n",
       "      <td>0.022936</td>\n",
       "      <td>0.039705</td>\n",
       "      <td>0.094167</td>\n",
       "      <td>0.356304</td>\n",
       "      <td>0.475573</td>\n",
       "      <td>0.028086</td>\n",
       "      <td>0.497521</td>\n",
       "      <td>0.0</td>\n",
       "      <td>0.077563</td>\n",
       "      <td>0.051231</td>\n",
       "    </tr>\n",
       "    <tr>\n",
       "      <th>min</th>\n",
       "      <td>1.000000</td>\n",
       "      <td>37.000000</td>\n",
       "      <td>0.000000</td>\n",
       "      <td>0.000000</td>\n",
       "      <td>0.000000</td>\n",
       "      <td>1.620000e+02</td>\n",
       "      <td>5.000000e+00</td>\n",
       "      <td>0.000000</td>\n",
       "      <td>0.000000</td>\n",
       "      <td>1.000000</td>\n",
       "      <td>...</td>\n",
       "      <td>0.000000</td>\n",
       "      <td>0.000000</td>\n",
       "      <td>0.000000</td>\n",
       "      <td>0.000000</td>\n",
       "      <td>0.000000</td>\n",
       "      <td>0.000000</td>\n",
       "      <td>0.000000</td>\n",
       "      <td>0.0</td>\n",
       "      <td>0.000000</td>\n",
       "      <td>0.000000</td>\n",
       "    </tr>\n",
       "    <tr>\n",
       "      <th>25%</th>\n",
       "      <td>75.000000</td>\n",
       "      <td>96.000000</td>\n",
       "      <td>11.000000</td>\n",
       "      <td>187.000000</td>\n",
       "      <td>736.000000</td>\n",
       "      <td>7.689458e+06</td>\n",
       "      <td>1.891500e+04</td>\n",
       "      <td>1865.000000</td>\n",
       "      <td>0.000000</td>\n",
       "      <td>107.000000</td>\n",
       "      <td>...</td>\n",
       "      <td>0.000000</td>\n",
       "      <td>0.000000</td>\n",
       "      <td>0.000000</td>\n",
       "      <td>0.000000</td>\n",
       "      <td>0.000000</td>\n",
       "      <td>0.000000</td>\n",
       "      <td>0.000000</td>\n",
       "      <td>0.0</td>\n",
       "      <td>0.000000</td>\n",
       "      <td>0.000000</td>\n",
       "    </tr>\n",
       "    <tr>\n",
       "      <th>50%</th>\n",
       "      <td>137.000000</td>\n",
       "      <td>106.000000</td>\n",
       "      <td>62.000000</td>\n",
       "      <td>433.000000</td>\n",
       "      <td>1000.000000</td>\n",
       "      <td>2.920000e+07</td>\n",
       "      <td>5.302800e+04</td>\n",
       "      <td>3969.000000</td>\n",
       "      <td>1.000000</td>\n",
       "      <td>208.000000</td>\n",
       "      <td>...</td>\n",
       "      <td>0.000000</td>\n",
       "      <td>0.000000</td>\n",
       "      <td>0.000000</td>\n",
       "      <td>0.000000</td>\n",
       "      <td>0.000000</td>\n",
       "      <td>0.000000</td>\n",
       "      <td>0.000000</td>\n",
       "      <td>0.0</td>\n",
       "      <td>0.000000</td>\n",
       "      <td>0.000000</td>\n",
       "    </tr>\n",
       "    <tr>\n",
       "      <th>75%</th>\n",
       "      <td>223.000000</td>\n",
       "      <td>120.000000</td>\n",
       "      <td>234.000000</td>\n",
       "      <td>690.000000</td>\n",
       "      <td>13000.000000</td>\n",
       "      <td>6.646637e+07</td>\n",
       "      <td>1.269160e+05</td>\n",
       "      <td>16143.000000</td>\n",
       "      <td>2.000000</td>\n",
       "      <td>397.000000</td>\n",
       "      <td>...</td>\n",
       "      <td>0.000000</td>\n",
       "      <td>0.000000</td>\n",
       "      <td>0.000000</td>\n",
       "      <td>0.000000</td>\n",
       "      <td>1.000000</td>\n",
       "      <td>0.000000</td>\n",
       "      <td>1.000000</td>\n",
       "      <td>0.0</td>\n",
       "      <td>0.000000</td>\n",
       "      <td>0.000000</td>\n",
       "    </tr>\n",
       "    <tr>\n",
       "      <th>max</th>\n",
       "      <td>813.000000</td>\n",
       "      <td>330.000000</td>\n",
       "      <td>23000.000000</td>\n",
       "      <td>23000.000000</td>\n",
       "      <td>640000.000000</td>\n",
       "      <td>7.605058e+08</td>\n",
       "      <td>1.689764e+06</td>\n",
       "      <td>656730.000000</td>\n",
       "      <td>43.000000</td>\n",
       "      <td>5060.000000</td>\n",
       "      <td>...</td>\n",
       "      <td>1.000000</td>\n",
       "      <td>1.000000</td>\n",
       "      <td>1.000000</td>\n",
       "      <td>1.000000</td>\n",
       "      <td>1.000000</td>\n",
       "      <td>1.000000</td>\n",
       "      <td>1.000000</td>\n",
       "      <td>0.0</td>\n",
       "      <td>1.000000</td>\n",
       "      <td>1.000000</td>\n",
       "    </tr>\n",
       "  </tbody>\n",
       "</table>\n",
       "<p>8 rows × 29 columns</p>\n",
       "</div>"
      ],
      "text/plain": [
       "       num_critic_for_reviews     duration  director_facebook_likes  \\\n",
       "count             3801.000000  3801.000000              3801.000000   \n",
       "mean               165.848724   110.207840               798.599053   \n",
       "std                123.564807    22.688693              3051.030222   \n",
       "min                  1.000000    37.000000                 0.000000   \n",
       "25%                 75.000000    96.000000                11.000000   \n",
       "50%                137.000000   106.000000                62.000000   \n",
       "75%                223.000000   120.000000               234.000000   \n",
       "max                813.000000   330.000000             23000.000000   \n",
       "\n",
       "       actor_3_facebook_likes  actor_1_facebook_likes         gross  \\\n",
       "count             3801.000000             3801.000000  3.801000e+03   \n",
       "mean               763.819521             7673.008419  5.200576e+07   \n",
       "std               1884.372443            15448.143479  7.012065e+07   \n",
       "min                  0.000000                0.000000  1.620000e+02   \n",
       "25%                187.000000              736.000000  7.689458e+06   \n",
       "50%                433.000000             1000.000000  2.920000e+07   \n",
       "75%                690.000000            13000.000000  6.646637e+07   \n",
       "max              23000.000000           640000.000000  7.605058e+08   \n",
       "\n",
       "       num_voted_users  cast_total_facebook_likes  facenumber_in_poster  \\\n",
       "count     3.801000e+03                3801.000000           3801.000000   \n",
       "mean      1.046772e+05               11414.850303              1.379111   \n",
       "std       1.515070e+05               19045.793637              2.052899   \n",
       "min       5.000000e+00                   0.000000              0.000000   \n",
       "25%       1.891500e+04                1865.000000              0.000000   \n",
       "50%       5.302800e+04                3969.000000              1.000000   \n",
       "75%       1.269160e+05               16143.000000              2.000000   \n",
       "max       1.689764e+06              656730.000000             43.000000   \n",
       "\n",
       "       num_user_for_reviews     ...       cont_rtng_M  cont_rtng_NC-17  \\\n",
       "count           3801.000000     ...       3801.000000      3801.000000   \n",
       "mean             333.571692     ...          0.000526         0.001579   \n",
       "std              410.048394     ...          0.022936         0.039705   \n",
       "min                1.000000     ...          0.000000         0.000000   \n",
       "25%              107.000000     ...          0.000000         0.000000   \n",
       "50%              208.000000     ...          0.000000         0.000000   \n",
       "75%              397.000000     ...          0.000000         0.000000   \n",
       "max             5060.000000     ...          1.000000         1.000000   \n",
       "\n",
       "       cont_rtng_Not Rated  cont_rtng_PG  cont_rtng_PG-13  cont_rtng_Passed  \\\n",
       "count          3801.000000   3801.000000      3801.000000       3801.000000   \n",
       "mean              0.008945      0.149171         0.345435          0.000789   \n",
       "std               0.094167      0.356304         0.475573          0.028086   \n",
       "min               0.000000      0.000000         0.000000          0.000000   \n",
       "25%               0.000000      0.000000         0.000000          0.000000   \n",
       "50%               0.000000      0.000000         0.000000          0.000000   \n",
       "75%               0.000000      0.000000         1.000000          0.000000   \n",
       "max               1.000000      1.000000         1.000000          1.000000   \n",
       "\n",
       "       cont_rtng_R  cont_rtng_TV-MA  cont_rtng_Unrated  cont_rtng_X  \n",
       "count  3801.000000           3801.0        3801.000000  3801.000000  \n",
       "mean      0.449619              0.0           0.006051     0.002631  \n",
       "std       0.497521              0.0           0.077563     0.051231  \n",
       "min       0.000000              0.0           0.000000     0.000000  \n",
       "25%       0.000000              0.0           0.000000     0.000000  \n",
       "50%       0.000000              0.0           0.000000     0.000000  \n",
       "75%       1.000000              0.0           0.000000     0.000000  \n",
       "max       1.000000              0.0           1.000000     1.000000  \n",
       "\n",
       "[8 rows x 29 columns]"
      ]
     },
     "execution_count": 254,
     "metadata": {},
     "output_type": "execute_result"
    }
   ],
   "source": [
    "mov_df2.describe()"
   ]
  },
  {
   "cell_type": "code",
   "execution_count": 11,
   "metadata": {
    "collapsed": true
   },
   "outputs": [],
   "source": [
    "# Assign X and y\n",
    "mov_X = mov_df2.drop(\"gross\", axis = 1)\n",
    "mov_y = mov_df2.gross"
   ]
  },
  {
   "cell_type": "code",
   "execution_count": 61,
   "metadata": {
    "collapsed": true
   },
   "outputs": [],
   "source": [
    "from sklearn.linear_model import LinearRegression\n",
    "from sklearn.cross_validation import cross_val_score, train_test_split\n",
    "from sklearn import metrics\n",
    "import statsmodels.formula.api as smf"
   ]
  },
  {
   "cell_type": "code",
   "execution_count": 13,
   "metadata": {
    "collapsed": false
   },
   "outputs": [
    {
     "data": {
      "text/plain": [
       "0.55097019057794361"
      ]
     },
     "execution_count": 13,
     "metadata": {},
     "output_type": "execute_result"
    }
   ],
   "source": [
    "#----------------------------------- MODEL 1 (2 dummy variables) -- NOT FINAL MODEL\n",
    "\n",
    "\n",
    "# Intialize an empty model\n",
    "lr = LinearRegression()\n",
    "\n",
    "# Fit the model to the full dataset\n",
    "lr.fit(mov_X, mov_y)\n",
    "# Print out the R^2 for the model against the full dataset\n",
    "lr.score(mov_X,mov_y)"
   ]
  },
  {
   "cell_type": "code",
   "execution_count": 246,
   "metadata": {
    "collapsed": false
   },
   "outputs": [],
   "source": [
    "#lr.rsquared\n",
    "#lr.conf_int()\n",
    "#lr.summary()"
   ]
  },
  {
   "cell_type": "code",
   "execution_count": 14,
   "metadata": {
    "collapsed": false
   },
   "outputs": [],
   "source": [
    "lr2 = lr.fit(mov_X, mov_y)"
   ]
  },
  {
   "cell_type": "code",
   "execution_count": 15,
   "metadata": {
    "collapsed": false
   },
   "outputs": [
    {
     "data": {
      "text/plain": [
       "882471221.70034754"
      ]
     },
     "execution_count": 15,
     "metadata": {},
     "output_type": "execute_result"
    }
   ],
   "source": [
    "lr2.intercept_"
   ]
  },
  {
   "cell_type": "code",
   "execution_count": 16,
   "metadata": {
    "collapsed": false
   },
   "outputs": [
    {
     "data": {
      "text/plain": [
       "array([  1.14415020e+05,   1.58382240e+05,  -1.24989707e+03,\n",
       "        -1.10019953e+04,  -9.56645244e+03,   2.05517874e+02,\n",
       "         9.52551361e+03,  -6.24239537e+05,   1.56104497e+04,\n",
       "         9.01663318e-03,  -4.47817314e+05,  -8.93137604e+03,\n",
       "        -3.86914239e+06,  -1.68909893e+06,  -1.57536115e+02,\n",
       "         1.88101947e+07,   4.65613139e+07,  -6.43730894e+05,\n",
       "         9.09940160e+06,  -2.11169789e+07,  -1.08178148e+07,\n",
       "         4.01037875e+07,   1.65689322e+07,  -3.05897721e+07,\n",
       "        -1.09062570e+07,   1.39698386e-09,  -4.73998224e+06,\n",
       "        -1.58335674e+07])"
      ]
     },
     "execution_count": 16,
     "metadata": {},
     "output_type": "execute_result"
    }
   ],
   "source": [
    "lr2.coef_"
   ]
  },
  {
   "cell_type": "code",
   "execution_count": null,
   "metadata": {
    "collapsed": true
   },
   "outputs": [],
   "source": []
  },
  {
   "cell_type": "code",
   "execution_count": null,
   "metadata": {
    "collapsed": true
   },
   "outputs": [],
   "source": [
    "#----------------------------------- MODEL 2 - Final LR model"
   ]
  },
  {
   "cell_type": "code",
   "execution_count": 84,
   "metadata": {
    "collapsed": false
   },
   "outputs": [
    {
     "data": {
      "text/plain": [
       "(4159, 16)"
      ]
     },
     "execution_count": 84,
     "metadata": {},
     "output_type": "execute_result"
    }
   ],
   "source": [
    "movies.shape"
   ]
  },
  {
   "cell_type": "code",
   "execution_count": 85,
   "metadata": {
    "collapsed": true
   },
   "outputs": [],
   "source": [
    "mov3 = movies.dropna()"
   ]
  },
  {
   "cell_type": "code",
   "execution_count": 86,
   "metadata": {
    "collapsed": false
   },
   "outputs": [
    {
     "data": {
      "text/plain": [
       "(3801, 16)"
      ]
     },
     "execution_count": 86,
     "metadata": {},
     "output_type": "execute_result"
    }
   ],
   "source": [
    "mov3.shape"
   ]
  },
  {
   "cell_type": "code",
   "execution_count": 111,
   "metadata": {
    "collapsed": false
   },
   "outputs": [
    {
     "name": "stderr",
     "output_type": "stream",
     "text": [
      "C:\\Users\\shoprabhakar\\AppData\\Local\\Continuum\\Anaconda3\\lib\\site-packages\\ipykernel\\__main__.py:1: SettingWithCopyWarning: \n",
      "A value is trying to be set on a copy of a slice from a DataFrame\n",
      "\n",
      "See the caveats in the documentation: http://pandas.pydata.org/pandas-docs/stable/indexing.html#indexing-view-versus-copy\n",
      "  if __name__ == '__main__':\n"
     ]
    }
   ],
   "source": [
    "mov3.drop(\"title_year\",axis=1,inplace=True)"
   ]
  },
  {
   "cell_type": "code",
   "execution_count": 113,
   "metadata": {
    "collapsed": false
   },
   "outputs": [
    {
     "data": {
      "text/plain": [
       "(3801, 15)"
      ]
     },
     "execution_count": 113,
     "metadata": {},
     "output_type": "execute_result"
    }
   ],
   "source": [
    "mov3.shape"
   ]
  },
  {
   "cell_type": "code",
   "execution_count": 114,
   "metadata": {
    "collapsed": true
   },
   "outputs": [],
   "source": [
    "# Assign X and y\n",
    "mov3_X = mov3.drop(\"gross\", axis = 1)\n",
    "mov3_y = mov3.gross"
   ]
  },
  {
   "cell_type": "code",
   "execution_count": 115,
   "metadata": {
    "collapsed": false
   },
   "outputs": [
    {
     "data": {
      "text/plain": [
       "55916185.611679241"
      ]
     },
     "execution_count": 115,
     "metadata": {},
     "output_type": "execute_result"
    }
   ],
   "source": [
    "linreg = LinearRegression()\n",
    "mov_scores = cross_val_score(linreg, mov3_X, mov3_y, cv=5, scoring='mean_squared_error')\n",
    "np.sqrt(abs(mov_scores)).mean()"
   ]
  },
  {
   "cell_type": "code",
   "execution_count": 116,
   "metadata": {
    "collapsed": false
   },
   "outputs": [
    {
     "data": {
      "text/plain": [
       "0.51405839277091125"
      ]
     },
     "execution_count": 116,
     "metadata": {},
     "output_type": "execute_result"
    }
   ],
   "source": [
    "linreg = LinearRegression()\n",
    "mov_scores = cross_val_score(linreg, mov3_X, mov3_y, cv=5, scoring='r2')\n",
    "np.sqrt(abs(mov_scores)).mean()"
   ]
  },
  {
   "cell_type": "code",
   "execution_count": null,
   "metadata": {
    "collapsed": true
   },
   "outputs": [],
   "source": [
    "#---- splitting the data to fit and identify best coeficients"
   ]
  },
  {
   "cell_type": "code",
   "execution_count": 117,
   "metadata": {
    "collapsed": true
   },
   "outputs": [],
   "source": [
    "movX_train, movX_test, movy_train, movy_test = train_test_split(mov3_X, mov3_y, test_size=0.4, random_state=1)"
   ]
  },
  {
   "cell_type": "code",
   "execution_count": 136,
   "metadata": {
    "collapsed": false
   },
   "outputs": [
    {
     "data": {
      "text/plain": [
       "0.51348523934546053"
      ]
     },
     "execution_count": 136,
     "metadata": {},
     "output_type": "execute_result"
    }
   ],
   "source": [
    "linreg2 = LinearRegression()\n",
    "linreg2.fit(movX_train,movy_train)\n",
    "linreg2.score(movX_train,movy_train)"
   ]
  },
  {
   "cell_type": "code",
   "execution_count": 137,
   "metadata": {
    "collapsed": false
   },
   "outputs": [
    {
     "data": {
      "text/plain": [
       "0.37364631143362781"
      ]
     },
     "execution_count": 137,
     "metadata": {},
     "output_type": "execute_result"
    }
   ],
   "source": [
    "linreg2.score(movX_test,movy_test)"
   ]
  },
  {
   "cell_type": "code",
   "execution_count": 138,
   "metadata": {
    "collapsed": false
   },
   "outputs": [
    {
     "data": {
      "text/plain": [
       "43595130.669217572"
      ]
     },
     "execution_count": 138,
     "metadata": {},
     "output_type": "execute_result"
    }
   ],
   "source": [
    "linreg2.intercept_"
   ]
  },
  {
   "cell_type": "code",
   "execution_count": 140,
   "metadata": {
    "collapsed": false
   },
   "outputs": [
    {
     "name": "stderr",
     "output_type": "stream",
     "text": [
      "C:\\Users\\shoprabhakar\\AppData\\Local\\Continuum\\Anaconda3\\lib\\site-packages\\ipykernel\\__main__.py:3: FutureWarning: sort(columns=....) is deprecated, use sort_values(by=.....)\n",
      "  app.launch_new_instance()\n"
     ]
    },
    {
     "data": {
      "text/html": [
       "<div>\n",
       "<table border=\"1\" class=\"dataframe\">\n",
       "  <thead>\n",
       "    <tr style=\"text-align: right;\">\n",
       "      <th></th>\n",
       "      <th>feature</th>\n",
       "      <th>importance</th>\n",
       "    </tr>\n",
       "  </thead>\n",
       "  <tbody>\n",
       "    <tr>\n",
       "      <th>1</th>\n",
       "      <td>duration</td>\n",
       "      <td>1.688638e+05</td>\n",
       "    </tr>\n",
       "    <tr>\n",
       "      <th>0</th>\n",
       "      <td>num_critic_for_reviews</td>\n",
       "      <td>5.127156e+04</td>\n",
       "    </tr>\n",
       "    <tr>\n",
       "      <th>8</th>\n",
       "      <td>num_user_for_reviews</td>\n",
       "      <td>1.306994e+04</td>\n",
       "    </tr>\n",
       "    <tr>\n",
       "      <th>6</th>\n",
       "      <td>cast_total_facebook_likes</td>\n",
       "      <td>1.124022e+04</td>\n",
       "    </tr>\n",
       "    <tr>\n",
       "      <th>5</th>\n",
       "      <td>num_voted_users</td>\n",
       "      <td>2.748166e+02</td>\n",
       "    </tr>\n",
       "    <tr>\n",
       "      <th>9</th>\n",
       "      <td>budget</td>\n",
       "      <td>4.249077e-02</td>\n",
       "    </tr>\n",
       "    <tr>\n",
       "      <th>13</th>\n",
       "      <td>movie_facebook_likes</td>\n",
       "      <td>-1.761181e+02</td>\n",
       "    </tr>\n",
       "    <tr>\n",
       "      <th>2</th>\n",
       "      <td>director_facebook_likes</td>\n",
       "      <td>-1.553876e+03</td>\n",
       "    </tr>\n",
       "    <tr>\n",
       "      <th>10</th>\n",
       "      <td>actor_2_facebook_likes</td>\n",
       "      <td>-1.094259e+04</td>\n",
       "    </tr>\n",
       "    <tr>\n",
       "      <th>4</th>\n",
       "      <td>actor_1_facebook_likes</td>\n",
       "      <td>-1.130845e+04</td>\n",
       "    </tr>\n",
       "    <tr>\n",
       "      <th>3</th>\n",
       "      <td>actor_3_facebook_likes</td>\n",
       "      <td>-1.160938e+04</td>\n",
       "    </tr>\n",
       "    <tr>\n",
       "      <th>7</th>\n",
       "      <td>facenumber_in_poster</td>\n",
       "      <td>-1.195430e+06</td>\n",
       "    </tr>\n",
       "    <tr>\n",
       "      <th>11</th>\n",
       "      <td>imdb_score</td>\n",
       "      <td>-6.795331e+06</td>\n",
       "    </tr>\n",
       "    <tr>\n",
       "      <th>12</th>\n",
       "      <td>aspect_ratio</td>\n",
       "      <td>-7.496531e+06</td>\n",
       "    </tr>\n",
       "  </tbody>\n",
       "</table>\n",
       "</div>"
      ],
      "text/plain": [
       "                      feature    importance\n",
       "1                    duration  1.688638e+05\n",
       "0      num_critic_for_reviews  5.127156e+04\n",
       "8        num_user_for_reviews  1.306994e+04\n",
       "6   cast_total_facebook_likes  1.124022e+04\n",
       "5             num_voted_users  2.748166e+02\n",
       "9                      budget  4.249077e-02\n",
       "13       movie_facebook_likes -1.761181e+02\n",
       "2     director_facebook_likes -1.553876e+03\n",
       "10     actor_2_facebook_likes -1.094259e+04\n",
       "4      actor_1_facebook_likes -1.130845e+04\n",
       "3      actor_3_facebook_likes -1.160938e+04\n",
       "7        facenumber_in_poster -1.195430e+06\n",
       "11                 imdb_score -6.795331e+06\n",
       "12               aspect_ratio -7.496531e+06"
      ]
     },
     "execution_count": 140,
     "metadata": {},
     "output_type": "execute_result"
    }
   ],
   "source": [
    "# compute feature importances\n",
    "pd.DataFrame({'feature':mov3_X.columns,\n",
    "              'importance':linreg2.coef_}).sort('importance', ascending = False)"
   ]
  },
  {
   "cell_type": "code",
   "execution_count": 142,
   "metadata": {
    "collapsed": false
   },
   "outputs": [
    {
     "data": {
      "text/html": [
       "<div>\n",
       "<table border=\"1\" class=\"dataframe\">\n",
       "  <thead>\n",
       "    <tr style=\"text-align: right;\">\n",
       "      <th></th>\n",
       "      <th>num_critic_for_reviews</th>\n",
       "      <th>duration</th>\n",
       "      <th>director_facebook_likes</th>\n",
       "      <th>actor_3_facebook_likes</th>\n",
       "      <th>actor_1_facebook_likes</th>\n",
       "      <th>num_voted_users</th>\n",
       "      <th>cast_total_facebook_likes</th>\n",
       "      <th>facenumber_in_poster</th>\n",
       "      <th>num_user_for_reviews</th>\n",
       "      <th>budget</th>\n",
       "      <th>actor_2_facebook_likes</th>\n",
       "      <th>imdb_score</th>\n",
       "      <th>aspect_ratio</th>\n",
       "      <th>movie_facebook_likes</th>\n",
       "    </tr>\n",
       "  </thead>\n",
       "  <tbody>\n",
       "    <tr>\n",
       "      <th>num_critic_for_reviews</th>\n",
       "      <td>1.000000</td>\n",
       "      <td>0.227705</td>\n",
       "      <td>0.176916</td>\n",
       "      <td>0.255086</td>\n",
       "      <td>0.170198</td>\n",
       "      <td>0.594990</td>\n",
       "      <td>0.241005</td>\n",
       "      <td>-0.034009</td>\n",
       "      <td>0.566795</td>\n",
       "      <td>0.105681</td>\n",
       "      <td>0.255837</td>\n",
       "      <td>0.343881</td>\n",
       "      <td>0.180641</td>\n",
       "      <td>0.703969</td>\n",
       "    </tr>\n",
       "    <tr>\n",
       "      <th>duration</th>\n",
       "      <td>0.227705</td>\n",
       "      <td>1.000000</td>\n",
       "      <td>0.179734</td>\n",
       "      <td>0.125771</td>\n",
       "      <td>0.084720</td>\n",
       "      <td>0.338038</td>\n",
       "      <td>0.121171</td>\n",
       "      <td>0.029100</td>\n",
       "      <td>0.350391</td>\n",
       "      <td>0.068161</td>\n",
       "      <td>0.129452</td>\n",
       "      <td>0.366124</td>\n",
       "      <td>0.153114</td>\n",
       "      <td>0.214936</td>\n",
       "    </tr>\n",
       "    <tr>\n",
       "      <th>director_facebook_likes</th>\n",
       "      <td>0.176916</td>\n",
       "      <td>0.179734</td>\n",
       "      <td>1.000000</td>\n",
       "      <td>0.118240</td>\n",
       "      <td>0.090733</td>\n",
       "      <td>0.300619</td>\n",
       "      <td>0.119741</td>\n",
       "      <td>-0.047619</td>\n",
       "      <td>0.218311</td>\n",
       "      <td>0.018559</td>\n",
       "      <td>0.116900</td>\n",
       "      <td>0.190838</td>\n",
       "      <td>0.037871</td>\n",
       "      <td>0.162737</td>\n",
       "    </tr>\n",
       "    <tr>\n",
       "      <th>actor_3_facebook_likes</th>\n",
       "      <td>0.255086</td>\n",
       "      <td>0.125771</td>\n",
       "      <td>0.118240</td>\n",
       "      <td>1.000000</td>\n",
       "      <td>0.253720</td>\n",
       "      <td>0.269455</td>\n",
       "      <td>0.490686</td>\n",
       "      <td>0.105018</td>\n",
       "      <td>0.207321</td>\n",
       "      <td>0.040478</td>\n",
       "      <td>0.554182</td>\n",
       "      <td>0.064974</td>\n",
       "      <td>0.047123</td>\n",
       "      <td>0.272513</td>\n",
       "    </tr>\n",
       "    <tr>\n",
       "      <th>actor_1_facebook_likes</th>\n",
       "      <td>0.170198</td>\n",
       "      <td>0.084720</td>\n",
       "      <td>0.090733</td>\n",
       "      <td>0.253720</td>\n",
       "      <td>1.000000</td>\n",
       "      <td>0.182265</td>\n",
       "      <td>0.944925</td>\n",
       "      <td>0.057580</td>\n",
       "      <td>0.125221</td>\n",
       "      <td>0.017086</td>\n",
       "      <td>0.392676</td>\n",
       "      <td>0.093131</td>\n",
       "      <td>0.057604</td>\n",
       "      <td>0.131778</td>\n",
       "    </tr>\n",
       "    <tr>\n",
       "      <th>num_voted_users</th>\n",
       "      <td>0.594990</td>\n",
       "      <td>0.338038</td>\n",
       "      <td>0.300619</td>\n",
       "      <td>0.269455</td>\n",
       "      <td>0.182265</td>\n",
       "      <td>1.000000</td>\n",
       "      <td>0.251940</td>\n",
       "      <td>-0.032026</td>\n",
       "      <td>0.779925</td>\n",
       "      <td>0.066824</td>\n",
       "      <td>0.246660</td>\n",
       "      <td>0.477917</td>\n",
       "      <td>0.085485</td>\n",
       "      <td>0.518691</td>\n",
       "    </tr>\n",
       "    <tr>\n",
       "      <th>cast_total_facebook_likes</th>\n",
       "      <td>0.241005</td>\n",
       "      <td>0.121171</td>\n",
       "      <td>0.119741</td>\n",
       "      <td>0.490686</td>\n",
       "      <td>0.944925</td>\n",
       "      <td>0.251940</td>\n",
       "      <td>1.000000</td>\n",
       "      <td>0.080985</td>\n",
       "      <td>0.182288</td>\n",
       "      <td>0.029423</td>\n",
       "      <td>0.644016</td>\n",
       "      <td>0.106259</td>\n",
       "      <td>0.069675</td>\n",
       "      <td>0.207061</td>\n",
       "    </tr>\n",
       "    <tr>\n",
       "      <th>facenumber_in_poster</th>\n",
       "      <td>-0.034009</td>\n",
       "      <td>0.029100</td>\n",
       "      <td>-0.047619</td>\n",
       "      <td>0.105018</td>\n",
       "      <td>0.057580</td>\n",
       "      <td>-0.032026</td>\n",
       "      <td>0.080985</td>\n",
       "      <td>1.000000</td>\n",
       "      <td>-0.079404</td>\n",
       "      <td>-0.021757</td>\n",
       "      <td>0.074138</td>\n",
       "      <td>-0.064292</td>\n",
       "      <td>0.016620</td>\n",
       "      <td>0.014332</td>\n",
       "    </tr>\n",
       "    <tr>\n",
       "      <th>num_user_for_reviews</th>\n",
       "      <td>0.566795</td>\n",
       "      <td>0.350391</td>\n",
       "      <td>0.218311</td>\n",
       "      <td>0.207321</td>\n",
       "      <td>0.125221</td>\n",
       "      <td>0.779925</td>\n",
       "      <td>0.182288</td>\n",
       "      <td>-0.079404</td>\n",
       "      <td>1.000000</td>\n",
       "      <td>0.071254</td>\n",
       "      <td>0.189582</td>\n",
       "      <td>0.322522</td>\n",
       "      <td>0.098557</td>\n",
       "      <td>0.371970</td>\n",
       "    </tr>\n",
       "    <tr>\n",
       "      <th>budget</th>\n",
       "      <td>0.105681</td>\n",
       "      <td>0.068161</td>\n",
       "      <td>0.018559</td>\n",
       "      <td>0.040478</td>\n",
       "      <td>0.017086</td>\n",
       "      <td>0.066824</td>\n",
       "      <td>0.029423</td>\n",
       "      <td>-0.021757</td>\n",
       "      <td>0.071254</td>\n",
       "      <td>1.000000</td>\n",
       "      <td>0.036211</td>\n",
       "      <td>0.029041</td>\n",
       "      <td>0.025796</td>\n",
       "      <td>0.053035</td>\n",
       "    </tr>\n",
       "    <tr>\n",
       "      <th>actor_2_facebook_likes</th>\n",
       "      <td>0.255837</td>\n",
       "      <td>0.129452</td>\n",
       "      <td>0.116900</td>\n",
       "      <td>0.554182</td>\n",
       "      <td>0.392676</td>\n",
       "      <td>0.246660</td>\n",
       "      <td>0.644016</td>\n",
       "      <td>0.074138</td>\n",
       "      <td>0.189582</td>\n",
       "      <td>0.036211</td>\n",
       "      <td>1.000000</td>\n",
       "      <td>0.102060</td>\n",
       "      <td>0.064215</td>\n",
       "      <td>0.233632</td>\n",
       "    </tr>\n",
       "    <tr>\n",
       "      <th>imdb_score</th>\n",
       "      <td>0.343881</td>\n",
       "      <td>0.366124</td>\n",
       "      <td>0.190838</td>\n",
       "      <td>0.064974</td>\n",
       "      <td>0.093131</td>\n",
       "      <td>0.477917</td>\n",
       "      <td>0.106259</td>\n",
       "      <td>-0.064292</td>\n",
       "      <td>0.322522</td>\n",
       "      <td>0.029041</td>\n",
       "      <td>0.102060</td>\n",
       "      <td>1.000000</td>\n",
       "      <td>0.028454</td>\n",
       "      <td>0.279478</td>\n",
       "    </tr>\n",
       "    <tr>\n",
       "      <th>aspect_ratio</th>\n",
       "      <td>0.180641</td>\n",
       "      <td>0.153114</td>\n",
       "      <td>0.037871</td>\n",
       "      <td>0.047123</td>\n",
       "      <td>0.057604</td>\n",
       "      <td>0.085485</td>\n",
       "      <td>0.069675</td>\n",
       "      <td>0.016620</td>\n",
       "      <td>0.098557</td>\n",
       "      <td>0.025796</td>\n",
       "      <td>0.064215</td>\n",
       "      <td>0.028454</td>\n",
       "      <td>1.000000</td>\n",
       "      <td>0.110318</td>\n",
       "    </tr>\n",
       "    <tr>\n",
       "      <th>movie_facebook_likes</th>\n",
       "      <td>0.703969</td>\n",
       "      <td>0.214936</td>\n",
       "      <td>0.162737</td>\n",
       "      <td>0.272513</td>\n",
       "      <td>0.131778</td>\n",
       "      <td>0.518691</td>\n",
       "      <td>0.207061</td>\n",
       "      <td>0.014332</td>\n",
       "      <td>0.371970</td>\n",
       "      <td>0.053035</td>\n",
       "      <td>0.233632</td>\n",
       "      <td>0.279478</td>\n",
       "      <td>0.110318</td>\n",
       "      <td>1.000000</td>\n",
       "    </tr>\n",
       "  </tbody>\n",
       "</table>\n",
       "</div>"
      ],
      "text/plain": [
       "                           num_critic_for_reviews  duration  \\\n",
       "num_critic_for_reviews                   1.000000  0.227705   \n",
       "duration                                 0.227705  1.000000   \n",
       "director_facebook_likes                  0.176916  0.179734   \n",
       "actor_3_facebook_likes                   0.255086  0.125771   \n",
       "actor_1_facebook_likes                   0.170198  0.084720   \n",
       "num_voted_users                          0.594990  0.338038   \n",
       "cast_total_facebook_likes                0.241005  0.121171   \n",
       "facenumber_in_poster                    -0.034009  0.029100   \n",
       "num_user_for_reviews                     0.566795  0.350391   \n",
       "budget                                   0.105681  0.068161   \n",
       "actor_2_facebook_likes                   0.255837  0.129452   \n",
       "imdb_score                               0.343881  0.366124   \n",
       "aspect_ratio                             0.180641  0.153114   \n",
       "movie_facebook_likes                     0.703969  0.214936   \n",
       "\n",
       "                           director_facebook_likes  actor_3_facebook_likes  \\\n",
       "num_critic_for_reviews                    0.176916                0.255086   \n",
       "duration                                  0.179734                0.125771   \n",
       "director_facebook_likes                   1.000000                0.118240   \n",
       "actor_3_facebook_likes                    0.118240                1.000000   \n",
       "actor_1_facebook_likes                    0.090733                0.253720   \n",
       "num_voted_users                           0.300619                0.269455   \n",
       "cast_total_facebook_likes                 0.119741                0.490686   \n",
       "facenumber_in_poster                     -0.047619                0.105018   \n",
       "num_user_for_reviews                      0.218311                0.207321   \n",
       "budget                                    0.018559                0.040478   \n",
       "actor_2_facebook_likes                    0.116900                0.554182   \n",
       "imdb_score                                0.190838                0.064974   \n",
       "aspect_ratio                              0.037871                0.047123   \n",
       "movie_facebook_likes                      0.162737                0.272513   \n",
       "\n",
       "                           actor_1_facebook_likes  num_voted_users  \\\n",
       "num_critic_for_reviews                   0.170198         0.594990   \n",
       "duration                                 0.084720         0.338038   \n",
       "director_facebook_likes                  0.090733         0.300619   \n",
       "actor_3_facebook_likes                   0.253720         0.269455   \n",
       "actor_1_facebook_likes                   1.000000         0.182265   \n",
       "num_voted_users                          0.182265         1.000000   \n",
       "cast_total_facebook_likes                0.944925         0.251940   \n",
       "facenumber_in_poster                     0.057580        -0.032026   \n",
       "num_user_for_reviews                     0.125221         0.779925   \n",
       "budget                                   0.017086         0.066824   \n",
       "actor_2_facebook_likes                   0.392676         0.246660   \n",
       "imdb_score                               0.093131         0.477917   \n",
       "aspect_ratio                             0.057604         0.085485   \n",
       "movie_facebook_likes                     0.131778         0.518691   \n",
       "\n",
       "                           cast_total_facebook_likes  facenumber_in_poster  \\\n",
       "num_critic_for_reviews                      0.241005             -0.034009   \n",
       "duration                                    0.121171              0.029100   \n",
       "director_facebook_likes                     0.119741             -0.047619   \n",
       "actor_3_facebook_likes                      0.490686              0.105018   \n",
       "actor_1_facebook_likes                      0.944925              0.057580   \n",
       "num_voted_users                             0.251940             -0.032026   \n",
       "cast_total_facebook_likes                   1.000000              0.080985   \n",
       "facenumber_in_poster                        0.080985              1.000000   \n",
       "num_user_for_reviews                        0.182288             -0.079404   \n",
       "budget                                      0.029423             -0.021757   \n",
       "actor_2_facebook_likes                      0.644016              0.074138   \n",
       "imdb_score                                  0.106259             -0.064292   \n",
       "aspect_ratio                                0.069675              0.016620   \n",
       "movie_facebook_likes                        0.207061              0.014332   \n",
       "\n",
       "                           num_user_for_reviews    budget  \\\n",
       "num_critic_for_reviews                 0.566795  0.105681   \n",
       "duration                               0.350391  0.068161   \n",
       "director_facebook_likes                0.218311  0.018559   \n",
       "actor_3_facebook_likes                 0.207321  0.040478   \n",
       "actor_1_facebook_likes                 0.125221  0.017086   \n",
       "num_voted_users                        0.779925  0.066824   \n",
       "cast_total_facebook_likes              0.182288  0.029423   \n",
       "facenumber_in_poster                  -0.079404 -0.021757   \n",
       "num_user_for_reviews                   1.000000  0.071254   \n",
       "budget                                 0.071254  1.000000   \n",
       "actor_2_facebook_likes                 0.189582  0.036211   \n",
       "imdb_score                             0.322522  0.029041   \n",
       "aspect_ratio                           0.098557  0.025796   \n",
       "movie_facebook_likes                   0.371970  0.053035   \n",
       "\n",
       "                           actor_2_facebook_likes  imdb_score  aspect_ratio  \\\n",
       "num_critic_for_reviews                   0.255837    0.343881      0.180641   \n",
       "duration                                 0.129452    0.366124      0.153114   \n",
       "director_facebook_likes                  0.116900    0.190838      0.037871   \n",
       "actor_3_facebook_likes                   0.554182    0.064974      0.047123   \n",
       "actor_1_facebook_likes                   0.392676    0.093131      0.057604   \n",
       "num_voted_users                          0.246660    0.477917      0.085485   \n",
       "cast_total_facebook_likes                0.644016    0.106259      0.069675   \n",
       "facenumber_in_poster                     0.074138   -0.064292      0.016620   \n",
       "num_user_for_reviews                     0.189582    0.322522      0.098557   \n",
       "budget                                   0.036211    0.029041      0.025796   \n",
       "actor_2_facebook_likes                   1.000000    0.102060      0.064215   \n",
       "imdb_score                               0.102060    1.000000      0.028454   \n",
       "aspect_ratio                             0.064215    0.028454      1.000000   \n",
       "movie_facebook_likes                     0.233632    0.279478      0.110318   \n",
       "\n",
       "                           movie_facebook_likes  \n",
       "num_critic_for_reviews                 0.703969  \n",
       "duration                               0.214936  \n",
       "director_facebook_likes                0.162737  \n",
       "actor_3_facebook_likes                 0.272513  \n",
       "actor_1_facebook_likes                 0.131778  \n",
       "num_voted_users                        0.518691  \n",
       "cast_total_facebook_likes              0.207061  \n",
       "facenumber_in_poster                   0.014332  \n",
       "num_user_for_reviews                   0.371970  \n",
       "budget                                 0.053035  \n",
       "actor_2_facebook_likes                 0.233632  \n",
       "imdb_score                             0.279478  \n",
       "aspect_ratio                           0.110318  \n",
       "movie_facebook_likes                   1.000000  "
      ]
     },
     "execution_count": 142,
     "metadata": {},
     "output_type": "execute_result"
    }
   ],
   "source": [
    "mov3_X.corr()"
   ]
  },
  {
   "cell_type": "code",
   "execution_count": 174,
   "metadata": {
    "collapsed": false
   },
   "outputs": [],
   "source": [
    "rem_cols =[]\n",
    "\n",
    "mov4_X = mov3_X.drop(rem_cols, axis=1)"
   ]
  },
  {
   "cell_type": "code",
   "execution_count": 175,
   "metadata": {
    "collapsed": false
   },
   "outputs": [],
   "source": [
    "mov4X_train, mov4X_test, mov4y_train, mov4y_test = train_test_split(mov4_X, mov3_y, test_size=0.4, random_state=1)"
   ]
  },
  {
   "cell_type": "code",
   "execution_count": 176,
   "metadata": {
    "collapsed": false
   },
   "outputs": [
    {
     "data": {
      "text/plain": [
       "0.51348523934546053"
      ]
     },
     "execution_count": 176,
     "metadata": {},
     "output_type": "execute_result"
    }
   ],
   "source": [
    "linreg4 = LinearRegression()\n",
    "linreg4.fit(mov4X_train,mov4y_train)\n",
    "linreg4.score(mov4X_train,mov4y_train)"
   ]
  },
  {
   "cell_type": "code",
   "execution_count": 177,
   "metadata": {
    "collapsed": false
   },
   "outputs": [
    {
     "data": {
      "text/plain": [
       "0.37364631143362781"
      ]
     },
     "execution_count": 177,
     "metadata": {},
     "output_type": "execute_result"
    }
   ],
   "source": [
    "linreg4.score(mov4X_test,mov4y_test)"
   ]
  },
  {
   "cell_type": "code",
   "execution_count": 178,
   "metadata": {
    "collapsed": false
   },
   "outputs": [
    {
     "name": "stderr",
     "output_type": "stream",
     "text": [
      "C:\\Users\\shoprabhakar\\AppData\\Local\\Continuum\\Anaconda3\\lib\\site-packages\\ipykernel\\__main__.py:3: FutureWarning: sort(columns=....) is deprecated, use sort_values(by=.....)\n",
      "  app.launch_new_instance()\n"
     ]
    },
    {
     "data": {
      "text/html": [
       "<div>\n",
       "<table border=\"1\" class=\"dataframe\">\n",
       "  <thead>\n",
       "    <tr style=\"text-align: right;\">\n",
       "      <th></th>\n",
       "      <th>feature</th>\n",
       "      <th>importance</th>\n",
       "    </tr>\n",
       "  </thead>\n",
       "  <tbody>\n",
       "    <tr>\n",
       "      <th>1</th>\n",
       "      <td>duration</td>\n",
       "      <td>1.688638e+05</td>\n",
       "    </tr>\n",
       "    <tr>\n",
       "      <th>0</th>\n",
       "      <td>num_critic_for_reviews</td>\n",
       "      <td>5.127156e+04</td>\n",
       "    </tr>\n",
       "    <tr>\n",
       "      <th>8</th>\n",
       "      <td>num_user_for_reviews</td>\n",
       "      <td>1.306994e+04</td>\n",
       "    </tr>\n",
       "    <tr>\n",
       "      <th>6</th>\n",
       "      <td>cast_total_facebook_likes</td>\n",
       "      <td>1.124022e+04</td>\n",
       "    </tr>\n",
       "    <tr>\n",
       "      <th>5</th>\n",
       "      <td>num_voted_users</td>\n",
       "      <td>2.748166e+02</td>\n",
       "    </tr>\n",
       "    <tr>\n",
       "      <th>9</th>\n",
       "      <td>budget</td>\n",
       "      <td>4.249077e-02</td>\n",
       "    </tr>\n",
       "    <tr>\n",
       "      <th>13</th>\n",
       "      <td>movie_facebook_likes</td>\n",
       "      <td>-1.761181e+02</td>\n",
       "    </tr>\n",
       "    <tr>\n",
       "      <th>2</th>\n",
       "      <td>director_facebook_likes</td>\n",
       "      <td>-1.553876e+03</td>\n",
       "    </tr>\n",
       "    <tr>\n",
       "      <th>10</th>\n",
       "      <td>actor_2_facebook_likes</td>\n",
       "      <td>-1.094259e+04</td>\n",
       "    </tr>\n",
       "    <tr>\n",
       "      <th>4</th>\n",
       "      <td>actor_1_facebook_likes</td>\n",
       "      <td>-1.130845e+04</td>\n",
       "    </tr>\n",
       "    <tr>\n",
       "      <th>3</th>\n",
       "      <td>actor_3_facebook_likes</td>\n",
       "      <td>-1.160938e+04</td>\n",
       "    </tr>\n",
       "    <tr>\n",
       "      <th>7</th>\n",
       "      <td>facenumber_in_poster</td>\n",
       "      <td>-1.195430e+06</td>\n",
       "    </tr>\n",
       "    <tr>\n",
       "      <th>11</th>\n",
       "      <td>imdb_score</td>\n",
       "      <td>-6.795331e+06</td>\n",
       "    </tr>\n",
       "    <tr>\n",
       "      <th>12</th>\n",
       "      <td>aspect_ratio</td>\n",
       "      <td>-7.496531e+06</td>\n",
       "    </tr>\n",
       "  </tbody>\n",
       "</table>\n",
       "</div>"
      ],
      "text/plain": [
       "                      feature    importance\n",
       "1                    duration  1.688638e+05\n",
       "0      num_critic_for_reviews  5.127156e+04\n",
       "8        num_user_for_reviews  1.306994e+04\n",
       "6   cast_total_facebook_likes  1.124022e+04\n",
       "5             num_voted_users  2.748166e+02\n",
       "9                      budget  4.249077e-02\n",
       "13       movie_facebook_likes -1.761181e+02\n",
       "2     director_facebook_likes -1.553876e+03\n",
       "10     actor_2_facebook_likes -1.094259e+04\n",
       "4      actor_1_facebook_likes -1.130845e+04\n",
       "3      actor_3_facebook_likes -1.160938e+04\n",
       "7        facenumber_in_poster -1.195430e+06\n",
       "11                 imdb_score -6.795331e+06\n",
       "12               aspect_ratio -7.496531e+06"
      ]
     },
     "execution_count": 178,
     "metadata": {},
     "output_type": "execute_result"
    }
   ],
   "source": [
    "# compute feature importances\n",
    "pd.DataFrame({'feature':mov4_X.columns,\n",
    "              'importance':linreg4.coef_}).sort('importance', ascending = False)"
   ]
  },
  {
   "cell_type": "code",
   "execution_count": 170,
   "metadata": {
    "collapsed": false
   },
   "outputs": [
    {
     "data": {
      "text/html": [
       "<div>\n",
       "<table border=\"1\" class=\"dataframe\">\n",
       "  <thead>\n",
       "    <tr style=\"text-align: right;\">\n",
       "      <th></th>\n",
       "      <th>num_critic_for_reviews</th>\n",
       "      <th>duration</th>\n",
       "      <th>director_facebook_likes</th>\n",
       "      <th>actor_3_facebook_likes</th>\n",
       "      <th>actor_1_facebook_likes</th>\n",
       "      <th>num_voted_users</th>\n",
       "      <th>cast_total_facebook_likes</th>\n",
       "      <th>facenumber_in_poster</th>\n",
       "      <th>num_user_for_reviews</th>\n",
       "      <th>budget</th>\n",
       "      <th>actor_2_facebook_likes</th>\n",
       "      <th>imdb_score</th>\n",
       "      <th>aspect_ratio</th>\n",
       "      <th>movie_facebook_likes</th>\n",
       "    </tr>\n",
       "  </thead>\n",
       "  <tbody>\n",
       "    <tr>\n",
       "      <th>num_critic_for_reviews</th>\n",
       "      <td>1.000000</td>\n",
       "      <td>0.227705</td>\n",
       "      <td>0.176916</td>\n",
       "      <td>0.255086</td>\n",
       "      <td>0.170198</td>\n",
       "      <td>0.594990</td>\n",
       "      <td>0.241005</td>\n",
       "      <td>-0.034009</td>\n",
       "      <td>0.566795</td>\n",
       "      <td>0.105681</td>\n",
       "      <td>0.255837</td>\n",
       "      <td>0.343881</td>\n",
       "      <td>0.180641</td>\n",
       "      <td>0.703969</td>\n",
       "    </tr>\n",
       "    <tr>\n",
       "      <th>duration</th>\n",
       "      <td>0.227705</td>\n",
       "      <td>1.000000</td>\n",
       "      <td>0.179734</td>\n",
       "      <td>0.125771</td>\n",
       "      <td>0.084720</td>\n",
       "      <td>0.338038</td>\n",
       "      <td>0.121171</td>\n",
       "      <td>0.029100</td>\n",
       "      <td>0.350391</td>\n",
       "      <td>0.068161</td>\n",
       "      <td>0.129452</td>\n",
       "      <td>0.366124</td>\n",
       "      <td>0.153114</td>\n",
       "      <td>0.214936</td>\n",
       "    </tr>\n",
       "    <tr>\n",
       "      <th>director_facebook_likes</th>\n",
       "      <td>0.176916</td>\n",
       "      <td>0.179734</td>\n",
       "      <td>1.000000</td>\n",
       "      <td>0.118240</td>\n",
       "      <td>0.090733</td>\n",
       "      <td>0.300619</td>\n",
       "      <td>0.119741</td>\n",
       "      <td>-0.047619</td>\n",
       "      <td>0.218311</td>\n",
       "      <td>0.018559</td>\n",
       "      <td>0.116900</td>\n",
       "      <td>0.190838</td>\n",
       "      <td>0.037871</td>\n",
       "      <td>0.162737</td>\n",
       "    </tr>\n",
       "    <tr>\n",
       "      <th>actor_3_facebook_likes</th>\n",
       "      <td>0.255086</td>\n",
       "      <td>0.125771</td>\n",
       "      <td>0.118240</td>\n",
       "      <td>1.000000</td>\n",
       "      <td>0.253720</td>\n",
       "      <td>0.269455</td>\n",
       "      <td>0.490686</td>\n",
       "      <td>0.105018</td>\n",
       "      <td>0.207321</td>\n",
       "      <td>0.040478</td>\n",
       "      <td>0.554182</td>\n",
       "      <td>0.064974</td>\n",
       "      <td>0.047123</td>\n",
       "      <td>0.272513</td>\n",
       "    </tr>\n",
       "    <tr>\n",
       "      <th>actor_1_facebook_likes</th>\n",
       "      <td>0.170198</td>\n",
       "      <td>0.084720</td>\n",
       "      <td>0.090733</td>\n",
       "      <td>0.253720</td>\n",
       "      <td>1.000000</td>\n",
       "      <td>0.182265</td>\n",
       "      <td>0.944925</td>\n",
       "      <td>0.057580</td>\n",
       "      <td>0.125221</td>\n",
       "      <td>0.017086</td>\n",
       "      <td>0.392676</td>\n",
       "      <td>0.093131</td>\n",
       "      <td>0.057604</td>\n",
       "      <td>0.131778</td>\n",
       "    </tr>\n",
       "    <tr>\n",
       "      <th>num_voted_users</th>\n",
       "      <td>0.594990</td>\n",
       "      <td>0.338038</td>\n",
       "      <td>0.300619</td>\n",
       "      <td>0.269455</td>\n",
       "      <td>0.182265</td>\n",
       "      <td>1.000000</td>\n",
       "      <td>0.251940</td>\n",
       "      <td>-0.032026</td>\n",
       "      <td>0.779925</td>\n",
       "      <td>0.066824</td>\n",
       "      <td>0.246660</td>\n",
       "      <td>0.477917</td>\n",
       "      <td>0.085485</td>\n",
       "      <td>0.518691</td>\n",
       "    </tr>\n",
       "    <tr>\n",
       "      <th>cast_total_facebook_likes</th>\n",
       "      <td>0.241005</td>\n",
       "      <td>0.121171</td>\n",
       "      <td>0.119741</td>\n",
       "      <td>0.490686</td>\n",
       "      <td>0.944925</td>\n",
       "      <td>0.251940</td>\n",
       "      <td>1.000000</td>\n",
       "      <td>0.080985</td>\n",
       "      <td>0.182288</td>\n",
       "      <td>0.029423</td>\n",
       "      <td>0.644016</td>\n",
       "      <td>0.106259</td>\n",
       "      <td>0.069675</td>\n",
       "      <td>0.207061</td>\n",
       "    </tr>\n",
       "    <tr>\n",
       "      <th>facenumber_in_poster</th>\n",
       "      <td>-0.034009</td>\n",
       "      <td>0.029100</td>\n",
       "      <td>-0.047619</td>\n",
       "      <td>0.105018</td>\n",
       "      <td>0.057580</td>\n",
       "      <td>-0.032026</td>\n",
       "      <td>0.080985</td>\n",
       "      <td>1.000000</td>\n",
       "      <td>-0.079404</td>\n",
       "      <td>-0.021757</td>\n",
       "      <td>0.074138</td>\n",
       "      <td>-0.064292</td>\n",
       "      <td>0.016620</td>\n",
       "      <td>0.014332</td>\n",
       "    </tr>\n",
       "    <tr>\n",
       "      <th>num_user_for_reviews</th>\n",
       "      <td>0.566795</td>\n",
       "      <td>0.350391</td>\n",
       "      <td>0.218311</td>\n",
       "      <td>0.207321</td>\n",
       "      <td>0.125221</td>\n",
       "      <td>0.779925</td>\n",
       "      <td>0.182288</td>\n",
       "      <td>-0.079404</td>\n",
       "      <td>1.000000</td>\n",
       "      <td>0.071254</td>\n",
       "      <td>0.189582</td>\n",
       "      <td>0.322522</td>\n",
       "      <td>0.098557</td>\n",
       "      <td>0.371970</td>\n",
       "    </tr>\n",
       "    <tr>\n",
       "      <th>budget</th>\n",
       "      <td>0.105681</td>\n",
       "      <td>0.068161</td>\n",
       "      <td>0.018559</td>\n",
       "      <td>0.040478</td>\n",
       "      <td>0.017086</td>\n",
       "      <td>0.066824</td>\n",
       "      <td>0.029423</td>\n",
       "      <td>-0.021757</td>\n",
       "      <td>0.071254</td>\n",
       "      <td>1.000000</td>\n",
       "      <td>0.036211</td>\n",
       "      <td>0.029041</td>\n",
       "      <td>0.025796</td>\n",
       "      <td>0.053035</td>\n",
       "    </tr>\n",
       "    <tr>\n",
       "      <th>actor_2_facebook_likes</th>\n",
       "      <td>0.255837</td>\n",
       "      <td>0.129452</td>\n",
       "      <td>0.116900</td>\n",
       "      <td>0.554182</td>\n",
       "      <td>0.392676</td>\n",
       "      <td>0.246660</td>\n",
       "      <td>0.644016</td>\n",
       "      <td>0.074138</td>\n",
       "      <td>0.189582</td>\n",
       "      <td>0.036211</td>\n",
       "      <td>1.000000</td>\n",
       "      <td>0.102060</td>\n",
       "      <td>0.064215</td>\n",
       "      <td>0.233632</td>\n",
       "    </tr>\n",
       "    <tr>\n",
       "      <th>imdb_score</th>\n",
       "      <td>0.343881</td>\n",
       "      <td>0.366124</td>\n",
       "      <td>0.190838</td>\n",
       "      <td>0.064974</td>\n",
       "      <td>0.093131</td>\n",
       "      <td>0.477917</td>\n",
       "      <td>0.106259</td>\n",
       "      <td>-0.064292</td>\n",
       "      <td>0.322522</td>\n",
       "      <td>0.029041</td>\n",
       "      <td>0.102060</td>\n",
       "      <td>1.000000</td>\n",
       "      <td>0.028454</td>\n",
       "      <td>0.279478</td>\n",
       "    </tr>\n",
       "    <tr>\n",
       "      <th>aspect_ratio</th>\n",
       "      <td>0.180641</td>\n",
       "      <td>0.153114</td>\n",
       "      <td>0.037871</td>\n",
       "      <td>0.047123</td>\n",
       "      <td>0.057604</td>\n",
       "      <td>0.085485</td>\n",
       "      <td>0.069675</td>\n",
       "      <td>0.016620</td>\n",
       "      <td>0.098557</td>\n",
       "      <td>0.025796</td>\n",
       "      <td>0.064215</td>\n",
       "      <td>0.028454</td>\n",
       "      <td>1.000000</td>\n",
       "      <td>0.110318</td>\n",
       "    </tr>\n",
       "    <tr>\n",
       "      <th>movie_facebook_likes</th>\n",
       "      <td>0.703969</td>\n",
       "      <td>0.214936</td>\n",
       "      <td>0.162737</td>\n",
       "      <td>0.272513</td>\n",
       "      <td>0.131778</td>\n",
       "      <td>0.518691</td>\n",
       "      <td>0.207061</td>\n",
       "      <td>0.014332</td>\n",
       "      <td>0.371970</td>\n",
       "      <td>0.053035</td>\n",
       "      <td>0.233632</td>\n",
       "      <td>0.279478</td>\n",
       "      <td>0.110318</td>\n",
       "      <td>1.000000</td>\n",
       "    </tr>\n",
       "  </tbody>\n",
       "</table>\n",
       "</div>"
      ],
      "text/plain": [
       "                           num_critic_for_reviews  duration  \\\n",
       "num_critic_for_reviews                   1.000000  0.227705   \n",
       "duration                                 0.227705  1.000000   \n",
       "director_facebook_likes                  0.176916  0.179734   \n",
       "actor_3_facebook_likes                   0.255086  0.125771   \n",
       "actor_1_facebook_likes                   0.170198  0.084720   \n",
       "num_voted_users                          0.594990  0.338038   \n",
       "cast_total_facebook_likes                0.241005  0.121171   \n",
       "facenumber_in_poster                    -0.034009  0.029100   \n",
       "num_user_for_reviews                     0.566795  0.350391   \n",
       "budget                                   0.105681  0.068161   \n",
       "actor_2_facebook_likes                   0.255837  0.129452   \n",
       "imdb_score                               0.343881  0.366124   \n",
       "aspect_ratio                             0.180641  0.153114   \n",
       "movie_facebook_likes                     0.703969  0.214936   \n",
       "\n",
       "                           director_facebook_likes  actor_3_facebook_likes  \\\n",
       "num_critic_for_reviews                    0.176916                0.255086   \n",
       "duration                                  0.179734                0.125771   \n",
       "director_facebook_likes                   1.000000                0.118240   \n",
       "actor_3_facebook_likes                    0.118240                1.000000   \n",
       "actor_1_facebook_likes                    0.090733                0.253720   \n",
       "num_voted_users                           0.300619                0.269455   \n",
       "cast_total_facebook_likes                 0.119741                0.490686   \n",
       "facenumber_in_poster                     -0.047619                0.105018   \n",
       "num_user_for_reviews                      0.218311                0.207321   \n",
       "budget                                    0.018559                0.040478   \n",
       "actor_2_facebook_likes                    0.116900                0.554182   \n",
       "imdb_score                                0.190838                0.064974   \n",
       "aspect_ratio                              0.037871                0.047123   \n",
       "movie_facebook_likes                      0.162737                0.272513   \n",
       "\n",
       "                           actor_1_facebook_likes  num_voted_users  \\\n",
       "num_critic_for_reviews                   0.170198         0.594990   \n",
       "duration                                 0.084720         0.338038   \n",
       "director_facebook_likes                  0.090733         0.300619   \n",
       "actor_3_facebook_likes                   0.253720         0.269455   \n",
       "actor_1_facebook_likes                   1.000000         0.182265   \n",
       "num_voted_users                          0.182265         1.000000   \n",
       "cast_total_facebook_likes                0.944925         0.251940   \n",
       "facenumber_in_poster                     0.057580        -0.032026   \n",
       "num_user_for_reviews                     0.125221         0.779925   \n",
       "budget                                   0.017086         0.066824   \n",
       "actor_2_facebook_likes                   0.392676         0.246660   \n",
       "imdb_score                               0.093131         0.477917   \n",
       "aspect_ratio                             0.057604         0.085485   \n",
       "movie_facebook_likes                     0.131778         0.518691   \n",
       "\n",
       "                           cast_total_facebook_likes  facenumber_in_poster  \\\n",
       "num_critic_for_reviews                      0.241005             -0.034009   \n",
       "duration                                    0.121171              0.029100   \n",
       "director_facebook_likes                     0.119741             -0.047619   \n",
       "actor_3_facebook_likes                      0.490686              0.105018   \n",
       "actor_1_facebook_likes                      0.944925              0.057580   \n",
       "num_voted_users                             0.251940             -0.032026   \n",
       "cast_total_facebook_likes                   1.000000              0.080985   \n",
       "facenumber_in_poster                        0.080985              1.000000   \n",
       "num_user_for_reviews                        0.182288             -0.079404   \n",
       "budget                                      0.029423             -0.021757   \n",
       "actor_2_facebook_likes                      0.644016              0.074138   \n",
       "imdb_score                                  0.106259             -0.064292   \n",
       "aspect_ratio                                0.069675              0.016620   \n",
       "movie_facebook_likes                        0.207061              0.014332   \n",
       "\n",
       "                           num_user_for_reviews    budget  \\\n",
       "num_critic_for_reviews                 0.566795  0.105681   \n",
       "duration                               0.350391  0.068161   \n",
       "director_facebook_likes                0.218311  0.018559   \n",
       "actor_3_facebook_likes                 0.207321  0.040478   \n",
       "actor_1_facebook_likes                 0.125221  0.017086   \n",
       "num_voted_users                        0.779925  0.066824   \n",
       "cast_total_facebook_likes              0.182288  0.029423   \n",
       "facenumber_in_poster                  -0.079404 -0.021757   \n",
       "num_user_for_reviews                   1.000000  0.071254   \n",
       "budget                                 0.071254  1.000000   \n",
       "actor_2_facebook_likes                 0.189582  0.036211   \n",
       "imdb_score                             0.322522  0.029041   \n",
       "aspect_ratio                           0.098557  0.025796   \n",
       "movie_facebook_likes                   0.371970  0.053035   \n",
       "\n",
       "                           actor_2_facebook_likes  imdb_score  aspect_ratio  \\\n",
       "num_critic_for_reviews                   0.255837    0.343881      0.180641   \n",
       "duration                                 0.129452    0.366124      0.153114   \n",
       "director_facebook_likes                  0.116900    0.190838      0.037871   \n",
       "actor_3_facebook_likes                   0.554182    0.064974      0.047123   \n",
       "actor_1_facebook_likes                   0.392676    0.093131      0.057604   \n",
       "num_voted_users                          0.246660    0.477917      0.085485   \n",
       "cast_total_facebook_likes                0.644016    0.106259      0.069675   \n",
       "facenumber_in_poster                     0.074138   -0.064292      0.016620   \n",
       "num_user_for_reviews                     0.189582    0.322522      0.098557   \n",
       "budget                                   0.036211    0.029041      0.025796   \n",
       "actor_2_facebook_likes                   1.000000    0.102060      0.064215   \n",
       "imdb_score                               0.102060    1.000000      0.028454   \n",
       "aspect_ratio                             0.064215    0.028454      1.000000   \n",
       "movie_facebook_likes                     0.233632    0.279478      0.110318   \n",
       "\n",
       "                           movie_facebook_likes  \n",
       "num_critic_for_reviews                 0.703969  \n",
       "duration                               0.214936  \n",
       "director_facebook_likes                0.162737  \n",
       "actor_3_facebook_likes                 0.272513  \n",
       "actor_1_facebook_likes                 0.131778  \n",
       "num_voted_users                        0.518691  \n",
       "cast_total_facebook_likes              0.207061  \n",
       "facenumber_in_poster                   0.014332  \n",
       "num_user_for_reviews                   0.371970  \n",
       "budget                                 0.053035  \n",
       "actor_2_facebook_likes                 0.233632  \n",
       "imdb_score                             0.279478  \n",
       "aspect_ratio                           0.110318  \n",
       "movie_facebook_likes                   1.000000  "
      ]
     },
     "execution_count": 170,
     "metadata": {},
     "output_type": "execute_result"
    }
   ],
   "source": [
    "mov4_X.corr()"
   ]
  },
  {
   "cell_type": "code",
   "execution_count": null,
   "metadata": {
    "collapsed": true
   },
   "outputs": [],
   "source": []
  },
  {
   "cell_type": "code",
   "execution_count": null,
   "metadata": {
    "collapsed": true
   },
   "outputs": [],
   "source": [
    "#------------------------ scaling (DOES NOT HELP)"
   ]
  },
  {
   "cell_type": "code",
   "execution_count": 100,
   "metadata": {
    "collapsed": true
   },
   "outputs": [],
   "source": [
    "from sklearn.preprocessing import StandardScaler"
   ]
  },
  {
   "cell_type": "code",
   "execution_count": 121,
   "metadata": {
    "collapsed": false
   },
   "outputs": [],
   "source": [
    "#Scale data and fit it a Grid search function it.\n",
    "\n",
    "#Intialize scalar\n",
    "scale = StandardScaler()\n",
    "\n",
    "#Fit and transform scaler on the data\n",
    "mov3_Xs = scale.fit_transform(mov3_X)"
   ]
  },
  {
   "cell_type": "code",
   "execution_count": 122,
   "metadata": {
    "collapsed": true
   },
   "outputs": [],
   "source": [
    "movXs_train, movXs_test, movys_train, movys_test = train_test_split(mov3_Xs, mov3_y, test_size=0.4, random_state=1)"
   ]
  },
  {
   "cell_type": "code",
   "execution_count": 134,
   "metadata": {
    "collapsed": false
   },
   "outputs": [
    {
     "data": {
      "text/plain": [
       "0.51348523934546053"
      ]
     },
     "execution_count": 134,
     "metadata": {},
     "output_type": "execute_result"
    }
   ],
   "source": [
    "linreg = LinearRegression()\n",
    "lr = linreg.fit(movXs_train,movys_train)\n",
    "lr.score(movXs_train,movys_train)"
   ]
  },
  {
   "cell_type": "code",
   "execution_count": 135,
   "metadata": {
    "collapsed": false
   },
   "outputs": [
    {
     "data": {
      "text/plain": [
       "0.37364631136251081"
      ]
     },
     "execution_count": 135,
     "metadata": {},
     "output_type": "execute_result"
    }
   ],
   "source": [
    "lr.score(movXs_test,movys_test)"
   ]
  },
  {
   "cell_type": "code",
   "execution_count": 132,
   "metadata": {
    "collapsed": false
   },
   "outputs": [
    {
     "name": "stderr",
     "output_type": "stream",
     "text": [
      "C:\\Users\\shoprabhakar\\AppData\\Local\\Continuum\\Anaconda3\\lib\\site-packages\\ipykernel\\__main__.py:3: FutureWarning: sort(columns=....) is deprecated, use sort_values(by=.....)\n",
      "  app.launch_new_instance()\n"
     ]
    },
    {
     "data": {
      "text/html": [
       "<div>\n",
       "<table border=\"1\" class=\"dataframe\">\n",
       "  <thead>\n",
       "    <tr style=\"text-align: right;\">\n",
       "      <th></th>\n",
       "      <th>feature</th>\n",
       "      <th>importance</th>\n",
       "    </tr>\n",
       "  </thead>\n",
       "  <tbody>\n",
       "    <tr>\n",
       "      <th>6</th>\n",
       "      <td>cast_total_facebook_likes</td>\n",
       "      <td>2.140507e+08</td>\n",
       "    </tr>\n",
       "    <tr>\n",
       "      <th>5</th>\n",
       "      <td>num_voted_users</td>\n",
       "      <td>4.163117e+07</td>\n",
       "    </tr>\n",
       "    <tr>\n",
       "      <th>9</th>\n",
       "      <td>budget</td>\n",
       "      <td>9.547255e+06</td>\n",
       "    </tr>\n",
       "    <tr>\n",
       "      <th>0</th>\n",
       "      <td>num_critic_for_reviews</td>\n",
       "      <td>6.334527e+06</td>\n",
       "    </tr>\n",
       "    <tr>\n",
       "      <th>8</th>\n",
       "      <td>num_user_for_reviews</td>\n",
       "      <td>5.358603e+06</td>\n",
       "    </tr>\n",
       "    <tr>\n",
       "      <th>1</th>\n",
       "      <td>duration</td>\n",
       "      <td>3.830796e+06</td>\n",
       "    </tr>\n",
       "    <tr>\n",
       "      <th>7</th>\n",
       "      <td>facenumber_in_poster</td>\n",
       "      <td>-2.453774e+06</td>\n",
       "    </tr>\n",
       "    <tr>\n",
       "      <th>12</th>\n",
       "      <td>aspect_ratio</td>\n",
       "      <td>-2.641088e+06</td>\n",
       "    </tr>\n",
       "    <tr>\n",
       "      <th>13</th>\n",
       "      <td>movie_facebook_likes</td>\n",
       "      <td>-3.761290e+06</td>\n",
       "    </tr>\n",
       "    <tr>\n",
       "      <th>2</th>\n",
       "      <td>director_facebook_likes</td>\n",
       "      <td>-4.740298e+06</td>\n",
       "    </tr>\n",
       "    <tr>\n",
       "      <th>11</th>\n",
       "      <td>imdb_score</td>\n",
       "      <td>-7.186082e+06</td>\n",
       "    </tr>\n",
       "    <tr>\n",
       "      <th>3</th>\n",
       "      <td>actor_3_facebook_likes</td>\n",
       "      <td>-2.187352e+07</td>\n",
       "    </tr>\n",
       "    <tr>\n",
       "      <th>10</th>\n",
       "      <td>actor_2_facebook_likes</td>\n",
       "      <td>-4.950301e+07</td>\n",
       "    </tr>\n",
       "    <tr>\n",
       "      <th>4</th>\n",
       "      <td>actor_1_facebook_likes</td>\n",
       "      <td>-1.746715e+08</td>\n",
       "    </tr>\n",
       "  </tbody>\n",
       "</table>\n",
       "</div>"
      ],
      "text/plain": [
       "                      feature    importance\n",
       "6   cast_total_facebook_likes  2.140507e+08\n",
       "5             num_voted_users  4.163117e+07\n",
       "9                      budget  9.547255e+06\n",
       "0      num_critic_for_reviews  6.334527e+06\n",
       "8        num_user_for_reviews  5.358603e+06\n",
       "1                    duration  3.830796e+06\n",
       "7        facenumber_in_poster -2.453774e+06\n",
       "12               aspect_ratio -2.641088e+06\n",
       "13       movie_facebook_likes -3.761290e+06\n",
       "2     director_facebook_likes -4.740298e+06\n",
       "11                 imdb_score -7.186082e+06\n",
       "3      actor_3_facebook_likes -2.187352e+07\n",
       "10     actor_2_facebook_likes -4.950301e+07\n",
       "4      actor_1_facebook_likes -1.746715e+08"
      ]
     },
     "execution_count": 132,
     "metadata": {},
     "output_type": "execute_result"
    }
   ],
   "source": [
    "# compute feature importances\n",
    "pd.DataFrame({'feature':mov3_X.columns,\n",
    "              'importance':lr.coef_}).sort('importance', ascending = False)"
   ]
  },
  {
   "cell_type": "code",
   "execution_count": null,
   "metadata": {
    "collapsed": true
   },
   "outputs": [],
   "source": []
  },
  {
   "cell_type": "code",
   "execution_count": 68,
   "metadata": {
    "collapsed": true
   },
   "outputs": [],
   "source": [
    "#Imports\n",
    "from sklearn.preprocessing import PolynomialFeatures\n",
    "from sklearn.pipeline import Pipeline\n",
    "from sklearn.linear_model import LinearRegression\n",
    "from sklearn.grid_search import GridSearchCV, RandomizedSearchCV\n",
    "from sklearn.linear_model import LinearRegression, Ridge, Lasso"
   ]
  },
  {
   "cell_type": "code",
   "execution_count": null,
   "metadata": {
    "collapsed": true
   },
   "outputs": [],
   "source": []
  },
  {
   "cell_type": "code",
   "execution_count": 38,
   "metadata": {
    "collapsed": true
   },
   "outputs": [],
   "source": [
    "# --------------------------------------- RIDGE MODEL"
   ]
  },
  {
   "cell_type": "code",
   "execution_count": 182,
   "metadata": {
    "collapsed": false
   },
   "outputs": [
    {
     "data": {
      "text/plain": [
       "0.37365814901963018"
      ]
     },
     "execution_count": 182,
     "metadata": {},
     "output_type": "execute_result"
    }
   ],
   "source": [
    "#Ridge\n",
    "\n",
    "ridge = Ridge(alpha=0.4)\n",
    "ridge.fit(mov4X_train, mov4y_train)\n",
    "ridge.score(mov4X_test, mov4y_test)"
   ]
  },
  {
   "cell_type": "code",
   "execution_count": 188,
   "metadata": {
    "collapsed": false
   },
   "outputs": [
    {
     "name": "stderr",
     "output_type": "stream",
     "text": [
      "C:\\Users\\shoprabhakar\\AppData\\Local\\Continuum\\Anaconda3\\lib\\site-packages\\sklearn\\linear_model\\coordinate_descent.py:466: ConvergenceWarning: Objective did not converge. You might want to increase the number of iterations\n",
      "  ConvergenceWarning)\n"
     ]
    },
    {
     "data": {
      "text/plain": [
       "0.37398971568828832"
      ]
     },
     "execution_count": 188,
     "metadata": {},
     "output_type": "execute_result"
    }
   ],
   "source": [
    "#Lasso\n",
    "\n",
    "ridge = Ridge(alpha=0.4)\n",
    "ridge.fit(mov4X_train, mov4y_train)\n",
    "ridge.score(mov4X_test, mov4y_test)"
   ]
  },
  {
   "cell_type": "code",
   "execution_count": null,
   "metadata": {
    "collapsed": true
   },
   "outputs": [],
   "source": []
  },
  {
   "cell_type": "code",
   "execution_count": null,
   "metadata": {
    "collapsed": true
   },
   "outputs": [],
   "source": []
  },
  {
   "cell_type": "code",
   "execution_count": null,
   "metadata": {
    "collapsed": true
   },
   "outputs": [],
   "source": []
  },
  {
   "cell_type": "markdown",
   "metadata": {},
   "source": [
    "## Bonus!!\n",
    "\n",
    "<br>\n",
    "\n",
    "Code a K-Nearest Neighbors model from scratch using just python, that means no external libraries such as numpy. This may seem daunting but it's a lot easier than you think. Hint: Use a Class to create the algorithm."
   ]
  },
  {
   "cell_type": "code",
   "execution_count": null,
   "metadata": {
    "collapsed": true
   },
   "outputs": [],
   "source": []
  },
  {
   "cell_type": "code",
   "execution_count": 473,
   "metadata": {
    "collapsed": true
   },
   "outputs": [],
   "source": [
    "# load the data and create the training and test sets\n",
    "# random_state = 1 is just a seed to permit reproducibility of the train/test split\n",
    "\n",
    "from sklearn.datasets import load_iris\n",
    "\n",
    "iris = load_iris()\n",
    "X_train, X_test, y_train, y_test = train_test_split(iris.data, iris.target, test_size=0.4, random_state=1)\n",
    " \n",
    "# reformat train/test datasets for convenience\n",
    "train = np.array(list(zip(X_train,y_train)))\n",
    "test = np.array(list(zip(X_test, y_test)))"
   ]
  },
  {
   "cell_type": "code",
   "execution_count": 439,
   "metadata": {
    "collapsed": false
   },
   "outputs": [
    {
     "data": {
      "text/plain": [
       "array([0, 2, 2, 0, 0, 2, 0, 2, 2, 1, 1, 2, 2, 0, 1, 1, 2, 1, 2, 1, 0, 0, 0,\n",
       "       2, 0, 1, 2, 2, 0, 0, 1, 0, 2, 1, 2, 2, 1, 2, 2, 1, 0, 1, 0, 1, 1, 0,\n",
       "       1, 0, 0, 2, 2, 2, 0, 0, 1, 0, 2, 0, 2, 2, 0, 2, 0, 1, 0, 1, 1, 0, 0,\n",
       "       1, 0, 1, 1, 0, 1, 1, 1, 1, 2, 0, 0, 2, 1, 2, 1, 2, 2, 1, 2, 0])"
      ]
     },
     "execution_count": 439,
     "metadata": {},
     "output_type": "execute_result"
    }
   ],
   "source": [
    "y_train"
   ]
  },
  {
   "cell_type": "code",
   "execution_count": null,
   "metadata": {
    "collapsed": true
   },
   "outputs": [],
   "source": []
  },
  {
   "cell_type": "code",
   "execution_count": null,
   "metadata": {
    "collapsed": true
   },
   "outputs": [],
   "source": []
  },
  {
   "cell_type": "code",
   "execution_count": 440,
   "metadata": {
    "collapsed": true
   },
   "outputs": [],
   "source": [
    "import math\n",
    " \n",
    "# 1) given two data points, calculate the euclidean distance between them\n",
    "def get_distance(data1, data2):\n",
    "    points = zip(data1, data2)\n",
    "    diffs_squared_distance = [pow(a - b, 2) for (a, b) in points]\n",
    "    return math.sqrt(sum(diffs_squared_distance))"
   ]
  },
  {
   "cell_type": "code",
   "execution_count": 461,
   "metadata": {
    "collapsed": false
   },
   "outputs": [
    {
     "data": {
      "text/plain": [
       "4.052159917870962"
      ]
     },
     "execution_count": 461,
     "metadata": {},
     "output_type": "execute_result"
    }
   ],
   "source": [
    "get_distance(X_train[0], X_train[1])"
   ]
  },
  {
   "cell_type": "code",
   "execution_count": 472,
   "metadata": {
    "collapsed": false
   },
   "outputs": [
    {
     "data": {
      "text/plain": [
       "array([ 4.8,  3.4,  1.6,  0.2])"
      ]
     },
     "execution_count": 472,
     "metadata": {},
     "output_type": "execute_result"
    }
   ],
   "source": [
    "train[0][0]"
   ]
  },
  {
   "cell_type": "code",
   "execution_count": 474,
   "metadata": {
    "collapsed": true
   },
   "outputs": [],
   "source": [
    "from operator import itemgetter\n",
    " \n",
    "def get_neighbours(training_set, test_instance, k):\n",
    "    distances = [_get_tuple_distance(training_instance, test_instance) for training_instance in training_set]\n",
    " \n",
    "    # index 1 is the calculated distance between training_instance and test_instance\n",
    "    sorted_distances = sorted(distances, key=itemgetter(1))\n",
    " \n",
    "    # extract only training instances\n",
    "    sorted_training_instances = [tuple[0] for tuple in sorted_distances]\n",
    " \n",
    "    # select first k elements\n",
    "    return sorted_training_instances[:k]\n",
    " \n",
    "def _get_tuple_distance(training_instance, test_instance):\n",
    "    return (training_instance, get_distance(test_instance, training_instance[0]))"
   ]
  },
  {
   "cell_type": "code",
   "execution_count": 475,
   "metadata": {
    "collapsed": false
   },
   "outputs": [
    {
     "data": {
      "text/plain": [
       "(array([array([ 4.8,  3.4,  1.6,  0.2]), 0], dtype=object), 1.2328828005937953)"
      ]
     },
     "execution_count": 475,
     "metadata": {},
     "output_type": "execute_result"
    }
   ],
   "source": [
    "_get_tuple_distance(train[0], test[0][0])"
   ]
  },
  {
   "cell_type": "code",
   "execution_count": 476,
   "metadata": {
    "collapsed": true
   },
   "outputs": [],
   "source": [
    "from collections import Counter\n",
    " \n",
    "# 3) given an array of nearest neighbours for a test case, tally up their classes to vote on test case class\n",
    " \n",
    "def get_majority_vote(neighbours):\n",
    "    # index 1 is the class\n",
    "    classes = [neighbour[1] for neighbour in neighbours]\n",
    "    count = Counter(classes)\n",
    "    return count.most_common()[0][0]"
   ]
  },
  {
   "cell_type": "code",
   "execution_count": 479,
   "metadata": {
    "collapsed": false
   },
   "outputs": [
    {
     "name": "stdout",
     "output_type": "stream",
     "text": [
      "\n",
      "The overall accuracy of the model is: 0.983333333333\n",
      "\n"
     ]
    }
   ],
   "source": [
    "from sklearn.metrics import classification_report, accuracy_score\n",
    " \n",
    "# setting up main executable method\n",
    "def main():\n",
    "\n",
    "    # generate predictions\n",
    "    predictions = []\n",
    " \n",
    "    # let's arbitrarily set k equal to 5, meaning that to predict the class of new instances,\n",
    "    k = 5\n",
    " \n",
    "    # for each instance in the test set, get nearest neighbours and majority vote on predicted class\n",
    "    for x in range(len(X_test)):\n",
    " \n",
    "            neighbours = get_neighbours(training_set=train, test_instance=test[x][0], k=5)\n",
    "            majority_vote = get_majority_vote(neighbours)\n",
    "            predictions.append(majority_vote)\n",
    "             \n",
    "    # summarize performance of the classification\n",
    "    print ('\\nThe overall accuracy of the model is: ' + str(accuracy_score(y_test, predictions)) + \"\\n\")\n",
    "    report = classification_report(y_test, predictions, target_names = iris.target_names)\n",
    "\n",
    "main()"
   ]
  },
  {
   "cell_type": "code",
   "execution_count": null,
   "metadata": {
    "collapsed": true
   },
   "outputs": [],
   "source": []
  },
  {
   "cell_type": "code",
   "execution_count": null,
   "metadata": {
    "collapsed": true
   },
   "outputs": [],
   "source": []
  }
 ],
 "metadata": {
  "anaconda-cloud": {},
  "kernelspec": {
   "display_name": "Python [conda root]",
   "language": "python",
   "name": "conda-root-py"
  },
  "language_info": {
   "codemirror_mode": {
    "name": "ipython",
    "version": 3
   },
   "file_extension": ".py",
   "mimetype": "text/x-python",
   "name": "python",
   "nbconvert_exporter": "python",
   "pygments_lexer": "ipython3",
   "version": "3.5.2"
  }
 },
 "nbformat": 4,
 "nbformat_minor": 2
}
